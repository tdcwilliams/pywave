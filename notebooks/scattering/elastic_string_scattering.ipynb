{
 "cells": [
  {
   "cell_type": "markdown",
   "id": "c66e086a",
   "metadata": {},
   "source": [
    "# Waves on an infinite string\n",
    "We have to satisfy the momentum equation\n",
    "\\begin{align}\n",
    "m(x)\\frac{\\partial^2 u}{\\partial t^2} = \\frac{\\partial \\sigma_{11}}{\\partial x},\\\\\n",
    "\\sigma_{11}(x) = \\kappa(x)\\frac{\\partial u}{\\partial x},\n",
    "\\end{align}\n",
    "where $u$ is the displacement in the $x$ direction and $\\sigma_{11}$ the stress (force per unit area on a plane whose normal vector is the $x$ axis ($\\sigma_{11}$ and $u$ should both be continuous). $\\kappa$ is the elastic stiffness of the string.\n",
    "\n",
    "If we have an infinite piece of string with different properties either side of $x=0$, we have to satisfy\n",
    "\\begin{align}\n",
    "m_0 u_{tt} - \\kappa_0 u_{xx} = 0\\quad\\textrm{for $x<0$},\\\\\n",
    "m_1 u_{tt} - \\kappa_1 u_{xx} = 0\\quad\\textrm{for $x>0$},\\\\\n",
    "\\kappa_0u_x(0^-) = \\kappa_1u_x(0^+),\\\\\n",
    "u(0^-) = u(0^+),\\\\\n",
    "\\end{align}\n",
    "The governing equations are the wave equations\n",
    "\\begin{align}\n",
    "&u_{tt} - c_i^2 u_{xx} = 0,\\\\\n",
    "&c_i^2=\\frac{\\kappa_i}{m_i}.\n",
    "\\end{align}"
   ]
  },
  {
   "cell_type": "markdown",
   "id": "bd538371",
   "metadata": {},
   "source": [
    "## Time-harmonic solution\n",
    "If $u(x,t) = \\textrm{Re}\\big[U(x)\\textrm{e}^{-\\textrm{i}\\omega t}\\big]$,\n",
    "\\begin{align}\n",
    "&U_{xx} + k_i^2 U = 0,\\\\\n",
    "&k_i^2=\\frac{\\omega^2}{c_i^2}=\\frac{m_i\\omega^2}{\\kappa_i}.\n",
    "\\end{align}\n",
    "The general solution is\n",
    "\\begin{align}\n",
    "&U(x) = \n",
    "\\begin{cases}\n",
    "i^+\\textrm{e}^{\\textrm{i}k_0x} + s^+\\textrm{e}^{-\\textrm{i}k_0x} \\quad\\textrm{for $x<0$},\\\\\n",
    "s^-\\textrm{e}^{\\textrm{i}k_1x} + i^-\\textrm{e}^{-\\textrm{i}k_1x} \\quad\\textrm{for $x>0$},\n",
    "\\end{cases}\n",
    "\\end{align}\n",
    "with $i^\\pm$ being (known) incident wave amplitudes and $s^\\pm$ being (unknown) scattered wave amplitudes.\n",
    "The boundary conditions imply that\n",
    "\\begin{align}\n",
    "&i^+ + s^+ = i^- + s^-,\\\\\n",
    "&\\textrm{i}k_0\\kappa_0(i^+ - s^+) = -\\textrm{i}k_1\\kappa_1(i^- - s^-).\n",
    "\\end{align}"
   ]
  },
  {
   "cell_type": "markdown",
   "id": "3c840488",
   "metadata": {},
   "source": [
    "Hence\n",
    "\\begin{align}\n",
    "\\begin{pmatrix}\n",
    "1 & -1\\\\\n",
    "-\\textrm{i}k_0\\kappa_0 & -\\textrm{i}k_1\\kappa_1\n",
    "\\end{pmatrix}\n",
    "\\begin{pmatrix}\n",
    "s^+\\\\ s^-\n",
    "\\end{pmatrix}\n",
    "=\n",
    "\\begin{pmatrix}\n",
    "-1 & 1\\\\\n",
    "-\\textrm{i}k_0\\kappa_0 & -\\textrm{i}k_1\\kappa_1\n",
    "\\end{pmatrix}\n",
    "\\begin{pmatrix}\n",
    "i^+\\\\ i^-\n",
    "\\end{pmatrix},\n",
    "\\end{align}\n",
    "so\n",
    "\\begin{align}\n",
    "&\\begin{pmatrix}\n",
    "s^+ \\\\ s^-\n",
    "\\end{pmatrix} = \n",
    "\\frac{1}{k_0\\kappa_0+k_1\\kappa_1}\n",
    "\\begin{pmatrix}\n",
    "k_0\\kappa_0 - k_1\\kappa_1 & 2k_1\\kappa_1 \\\\\n",
    "2k_0\\kappa_0 & k_1\\kappa_1 - k_0\\kappa_0\n",
    "\\end{pmatrix}\n",
    "\\begin{pmatrix}\n",
    "i^+ \\\\ i^-\n",
    "\\end{pmatrix}\n",
    " = \\begin{pmatrix}\n",
    "R^+ & T^- \\\\\n",
    "T^+ & R^-\n",
    "\\end{pmatrix}\n",
    "\\begin{pmatrix}\n",
    "i^+ \\\\ i^-\n",
    "\\end{pmatrix}.\n",
    "\\end{align}\n",
    "Note that the scattering is independent of wave period since $\\omega$ factors in $k_0$ and $k_1$ cancel out."
   ]
  },
  {
   "cell_type": "markdown",
   "id": "d53133b9",
   "metadata": {},
   "source": [
    "## Energy conservation\n",
    "The time-averaged power input to the piece of string is\n",
    "\\begin{align}\n",
    "\\mathcal{P}=\\frac{\\omega}{2\\pi}\\int_0^{2\\pi/\\omega}\\big[\\sigma_{11} u_t\\big]^{x\\rightarrow\\infty}_{x\\rightarrow-\\infty}dt\n",
    "\\end{align}\n",
    "in the absence of any work done at the boundary between the two bits of string, we expect this to be zero and this is shown below. Now\n",
    "\\begin{align}\n",
    "\\sigma_{11} u_t \n",
    "&= \\textrm{Re}\\big[S_{11}e^{-i\\omega t}\\big]\\textrm{Re}\\big[-i\\omega Ue^{-i\\omega t}\\big]\\\\\n",
    "&= \\omega\\big[\\textrm{Re}[S_{11}]\\cos(\\omega t) + \\textrm{Im}[S_{11}]\\sin(\\omega t)\\big]\n",
    "\\big[\\textrm{Im}[U]\\cos(\\omega t) - \\textrm{Re}[U]\\sin(\\omega t)\\big]\\\\\n",
    "&=\\frac\\omega 2\\big(\\textrm{Re}[S_{11}]\\,\\textrm{Im}[U] - \\textrm{Im}[S_{11}]\\,\\textrm{Re}[U]\\big)\\\\\n",
    "&\\quad+\\frac\\omega 2\\big(\\textrm{Re}[S_{11}]\\,\\textrm{Im}[U] + \\textrm{Im}[S_{11}]\\,\\textrm{Re}[U]\\big)\\cos(2\\omega t)\\\\\n",
    "&\\quad+\\frac\\omega 2\\big(\\textrm{Re}[S_{11}]\\,\\textrm{Im}[U] - \\textrm{Re}[S_{11}]\\,\\textrm{Im}[U]\\big)\\sin(2\\omega t),\n",
    "\\end{align}\n",
    "so\n",
    "\\begin{align}\n",
    "\\mathcal{P} &=\\frac\\omega 2\\big[\n",
    "\\textrm{Re}[S_{11}]\\,\\textrm{Im}[U] - \\textrm{Im}[S_{11}]\\,\\textrm{Re}[U]\n",
    "\\big]^{x\\rightarrow\\infty}_{x\\rightarrow-\\infty}\\\\\n",
    "&= \\frac{i\\omega}4\\big[\n",
    "S_{11}U^* - S_{11}^*U\n",
    "\\big]^{x\\rightarrow\\infty}_{x\\rightarrow-\\infty}\\\\\n",
    "&= \\frac{i\\omega}4\\big[\\kappa_i\\big(\n",
    "U_xU^* - U_x^*U\\big)\n",
    "\\big]^{x\\rightarrow\\infty}_{x\\rightarrow-\\infty}\\\\\n",
    "& = \\frac{\\omega}2k_1\\kappa_1\\big(|i^-|^2-|s^-|^2\\big)\n",
    "-\\frac{\\omega}2k_0\\kappa_0\\big(|s^+|^2-|i^+|^2\\big).\n",
    "\\end{align}"
   ]
  },
  {
   "cell_type": "markdown",
   "id": "eacfb185",
   "metadata": {},
   "source": [
    "Now it follows from the governing equations that\n",
    "\\begin{align}\n",
    "0&=\\int_{-\\infty}^\\infty\\kappa_i\\big(\n",
    "(U_{xx}+k_i^2U)U^*\n",
    "-\n",
    "(U^{*}_{xx}+k_i^2U^*)U\n",
    "\\big)\\textrm{d}x\\\\\n",
    "&=\\big[\\kappa_i\\big(U_xU^* - UU_x^*\\big)\\big]^{\\infty}_{-\\infty}\\\\\n",
    "&=\\frac{4\\mathcal{P}}{i\\omega},\n",
    "\\end{align}\n",
    "where we have used the continuity conditions to derive the second line (by cancelling the terms as $x\\rightarrow 0^\\pm$). Therefore our time-averaged power input is zero. If we let $\\alpha = {k_1\\kappa_1}/{k_0\\kappa_0}$ and set $i^+=1$ and $i^-=0$, $\\mathcal{P}=0$ is equivalent to $|R^+|^2 + \\alpha |T^+|^2 = 1$. Similarly, $|R^-|^2 + \\alpha^{-1} |T^-|^2 = 1$."
   ]
  },
  {
   "cell_type": "markdown",
   "id": "005ff5ef",
   "metadata": {},
   "source": [
    "## Example calculation\n",
    "### Set string props to left and right of boundary"
   ]
  },
  {
   "cell_type": "code",
   "execution_count": 1,
   "id": "60852f2a",
   "metadata": {},
   "outputs": [],
   "source": [
    "# %matplotlib notebook\n",
    "import numpy as np\n",
    "import os\n",
    "from matplotlib import image, pyplot as plt\n",
    "import json\n",
    "from celluloid import Camera\n",
    "from collections import defaultdict\n",
    "\n",
    "_ZI = np.complex(0, 1)"
   ]
  },
  {
   "cell_type": "code",
   "execution_count": 2,
   "id": "bc705967",
   "metadata": {},
   "outputs": [],
   "source": [
    "from pywave.scattering.elastic_string import ElasticString # Properties of a segment of string\n",
    "from pywave.scattering.helmholtz_1d_boundary import Helmholtz1DBoundary # Scattering by a change in string properties\n",
    "from pywave.scattering.medium_boundary import MediumBoundary\n",
    "from pywave.scattering.multiple_scatterer import MultipleScatterer # Multiple scattering module"
   ]
  },
  {
   "cell_type": "code",
   "execution_count": 3,
   "id": "7d76be8e",
   "metadata": {},
   "outputs": [
    {
     "data": {
      "text/plain": [
       "{'kappa': 4,\n",
       " 'm': 2,\n",
       " 'period': 4,\n",
       " 'helmholtz_coef': 4,\n",
       " 'k': array([1.11072073]),\n",
       " 'infinite': True,\n",
       " 'semi_infinite': False,\n",
       " 'xlim': array([-inf,  inf]),\n",
       " 'operators': {'helmholtz_u': <function pywave.scattering.helmholtz_1d.Helmholtz1D.set_operators.<locals>.<lambda>(k)>,\n",
       "  'helmholtz_cux': <function pywave.scattering.helmholtz_1d.Helmholtz1D.set_operators.<locals>.<lambda>(k)>,\n",
       "  'displacement': <function pywave.scattering.elastic_string.ElasticString.set_operators.<locals>.<lambda>(k)>,\n",
       "  'stress': <function pywave.scattering.helmholtz_1d.Helmholtz1D.set_operators.<locals>.<lambda>(k)>},\n",
       " 'edge_operators': {'displacement': (<function pywave.scattering.helmholtz_1d.Helmholtz1D.set_operators.<locals>.<lambda>(k)>,\n",
       "   <function pywave.scattering.helmholtz_1d.Helmholtz1D.set_operators.<locals>.<lambda>(k)>)}}"
      ]
     },
     "execution_count": 3,
     "metadata": {},
     "output_type": "execute_result"
    }
   ],
   "source": [
    "period = 4\n",
    "lhs = ElasticString(m=2, period=period)\n",
    "rhs = ElasticString(kappa = 13, period=period)\n",
    "vars(lhs)"
   ]
  },
  {
   "cell_type": "markdown",
   "id": "7cfea5a1",
   "metadata": {},
   "source": [
    "### Solve scattering  problem"
   ]
  },
  {
   "cell_type": "code",
   "execution_count": 4,
   "id": "1b05270e",
   "metadata": {},
   "outputs": [
    {
     "name": "stdout",
     "output_type": "stream",
     "text": [
      "{'position': 0, 'media': [<pywave.scattering.elastic_string.ElasticString object at 0x7fba11ee65c0>, <pywave.scattering.elastic_string.ElasticString object at 0x7fba11ee6550>], 'condition_types': [{'displacement': True}, {'displacement': True}], 'Rp': array([[-0.12078439]]), 'Tm': array([[1.12078439]]), 'Tp': array([[0.87921561]]), 'Rm': array([[0.12078439]])}\n",
      "[-inf   0.]\n",
      "[ 0. inf]\n"
     ]
    }
   ],
   "source": [
    "bdy = Helmholtz1DBoundary(lhs, rhs, position=0)\n",
    "bdy.solve()\n",
    "print(vars(bdy))\n",
    "for med in bdy.media:\n",
    "    print(med.xlim)"
   ]
  },
  {
   "cell_type": "markdown",
   "id": "320cbd91",
   "metadata": {},
   "source": [
    "### Run tests"
   ]
  },
  {
   "cell_type": "code",
   "execution_count": 5,
   "id": "e3a9ea8e",
   "metadata": {},
   "outputs": [
    {
     "name": "stdout",
     "output_type": "stream",
     "text": [
      "u(0) = 1.439607805437114 = 1.439607805437114\n",
      "\\sigma(0) = 2.4897569199005702j = 2.4897569199005702j\n",
      "Boundary conditions are OK\n",
      "Energy is OK\n"
     ]
    }
   ],
   "source": [
    "bdy.test_boundary_conditions()\n",
    "bdy.test_energy()"
   ]
  },
  {
   "cell_type": "code",
   "execution_count": 6,
   "id": "db0313a2",
   "metadata": {},
   "outputs": [
    {
     "name": "stdout",
     "output_type": "stream",
     "text": [
      "Test energy flux, from_left=True:\n",
      "\t[-3.43852523], [-3.43852523]\n",
      "\tOK\n",
      "Test energy flux, from_left=False:\n",
      "\t[4.38327682], [4.38327682]\n",
      "\tOK\n"
     ]
    }
   ],
   "source": [
    "bdy.test_energy_flux()"
   ]
  },
  {
   "cell_type": "code",
   "execution_count": 7,
   "id": "f9e2a28b",
   "metadata": {},
   "outputs": [
    {
     "name": "stdout",
     "output_type": "stream",
     "text": [
      "Swap OK\n"
     ]
    }
   ],
   "source": [
    "swap = Helmholtz1DBoundary(rhs, lhs, position=0)\n",
    "swap.solve()\n",
    "assert(np.allclose(bdy.Rp, swap.Rm))\n",
    "assert(np.allclose(bdy.Tp, swap.Tm))\n",
    "assert(np.allclose(bdy.Rm, swap.Rp))\n",
    "assert(np.allclose(bdy.Tm, swap.Tp))\n",
    "print('Swap OK')"
   ]
  },
  {
   "cell_type": "markdown",
   "id": "24fcc3e9",
   "metadata": {},
   "source": [
    "## Test generic solution from MediumBoundary"
   ]
  },
  {
   "cell_type": "code",
   "execution_count": 8,
   "id": "0bd8e8cb",
   "metadata": {},
   "outputs": [
    {
     "name": "stdout",
     "output_type": "stream",
     "text": [
      "[[-0.12078439]] [[0.87921561]] [[0.12078439]] [[1.12078439]]\n",
      "[[-0.12078439+0.j]] [[0.87921561+0.j]] [[0.12078439+0.j]] [[1.12078439+0.j]]\n"
     ]
    }
   ],
   "source": [
    "bdy2 = Helmholtz1DBoundary(lhs, rhs, position=0)\n",
    "MediumBoundary.solve(bdy2)\n",
    "print(bdy.Rp, bdy.Tp, bdy.Rm, bdy.Tm)\n",
    "print(bdy2.Rp, bdy2.Tp, bdy2.Rm, bdy2.Tm)"
   ]
  },
  {
   "cell_type": "markdown",
   "id": "2f52865b",
   "metadata": {},
   "source": [
    "### Plot the displacement at a given time"
   ]
  },
  {
   "cell_type": "code",
   "execution_count": 9,
   "id": "a2491310",
   "metadata": {
    "scrolled": true
   },
   "outputs": [
    {
     "data": {
      "text/plain": [
       "<AxesSubplot:title={'center':'u at t=0.3s'}, xlabel='x, m', ylabel='u, m'>"
      ]
     },
     "execution_count": 9,
     "metadata": {},
     "output_type": "execute_result"
    },
    {
     "data": {
      "image/png": "[encoded data removed]",
      "text/plain": [
       "<Figure size 1008x504 with 1 Axes>"
      ]
     },
     "metadata": {
      "needs_background": "light"
     },
     "output_type": "display_data"
    }
   ],
   "source": [
    "bdy.plot_expansion(t=0.3, get_disp=True)"
   ]
  },
  {
   "cell_type": "markdown",
   "id": "b6fcd7ce",
   "metadata": {},
   "source": [
    "### Animate displacement"
   ]
  },
  {
   "cell_type": "code",
   "execution_count": 10,
   "id": "bdd107ea",
   "metadata": {},
   "outputs": [
    {
     "data": {
      "image/png": "[encoded data removed]",
      "text/plain": [
       "<Figure size 504x504 with 1 Axes>"
      ]
     },
     "metadata": {
      "needs_background": "light"
     },
     "output_type": "display_data"
    },
    {
     "name": "stdout",
     "output_type": "stream",
     "text": [
      "Saving figs/animation2.gif\n"
     ]
    }
   ],
   "source": [
    "os.makedirs('figs', exist_ok=True)\n",
    "bdy.animate_displacement('figs/animation2.gif')"
   ]
  },
  {
   "cell_type": "markdown",
   "id": "9af93c32",
   "metadata": {},
   "source": [
    "### Display animation of displacement\n",
    "![SegmentLocal](figs/animation2.gif \"segment\")"
   ]
  },
  {
   "cell_type": "markdown",
   "id": "0363ec5c",
   "metadata": {},
   "source": [
    "## Scattering by two boundaries in series\n",
    "To handle this we use the `MultipleScatterer` class"
   ]
  },
  {
   "cell_type": "code",
   "execution_count": 11,
   "id": "752f80db",
   "metadata": {},
   "outputs": [],
   "source": [
    "period = 4\n",
    "lhs = ElasticString(m=2, period=period)\n",
    "mid = ElasticString(kappa=13, period=period)\n",
    "rhs = ElasticString(kappa=6, period=period)\n",
    "s0 = Helmholtz1DBoundary(lhs, mid, position=0)\n",
    "s1 = Helmholtz1DBoundary(mid, rhs, position=4)"
   ]
  },
  {
   "cell_type": "code",
   "execution_count": 12,
   "id": "8d22c9bf",
   "metadata": {},
   "outputs": [
    {
     "name": "stdout",
     "output_type": "stream",
     "text": [
      "{'position': 0, 'media': [<pywave.scattering.elastic_string.ElasticString object at 0x7fba64fd5780>, <pywave.scattering.elastic_string.ElasticString object at 0x7fba64fd5320>], 'condition_types': [{'displacement': True}, {'displacement': True}]}\n",
      "u(0) = 1.439607805437114 = 1.439607805437114\n",
      "\\sigma(0) = 2.4897569199005702j = 2.4897569199005702j\n",
      "Boundary conditions are OK\n",
      "Energy is OK\n",
      "Test energy flux, from_left=True:\n",
      "\t[-3.43852523], [-3.43852523]\n",
      "\tOK\n",
      "Test energy flux, from_left=False:\n",
      "\t[4.38327682], [4.38327682]\n",
      "\tOK\n",
      "{'position': 4, 'media': [<pywave.scattering.elastic_string.ElasticString object at 0x7fba64fd5550>, <pywave.scattering.elastic_string.ElasticString object at 0x7fba64fd5908>], 'condition_types': [{'displacement': True}, {'displacement': True}]}\n",
      "u(0) = 1.5954627333817362 = 1.5954627333817362\n",
      "\\sigma(0) = 2.2911318826993954j = 2.291131882699395j\n",
      "Boundary conditions are OK\n",
      "Energy is OK\n",
      "Test energy flux, from_left=True:\n",
      "\t[-4.2860235], [-4.2860235]\n",
      "\tOK\n",
      "Test energy flux, from_left=False:\n",
      "\t[2.91177959], [2.91177959]\n",
      "\tOK\n"
     ]
    }
   ],
   "source": [
    "for bdy in [s0, s1]:\n",
    "    print(vars(bdy))\n",
    "    bdy.solve()\n",
    "    bdy.test_boundary_conditions()\n",
    "    bdy.test_energy()\n",
    "    bdy.test_energy_flux()"
   ]
  },
  {
   "cell_type": "code",
   "execution_count": 13,
   "id": "35987fd9",
   "metadata": {},
   "outputs": [
    {
     "name": "stdout",
     "output_type": "stream",
     "text": [
      "(0.0, 4.0)\n",
      "[-inf   0.]\n",
      "[0. 4.]\n",
      "[ 4. inf]\n"
     ]
    }
   ],
   "source": [
    "ms = MultipleScatterer([s0, s1])\n",
    "print(ms.xlim)\n",
    "for med in ms.media:\n",
    "    print(med.xlim)"
   ]
  },
  {
   "cell_type": "code",
   "execution_count": 14,
   "id": "96bf2bc8",
   "metadata": {},
   "outputs": [
    {
     "data": {
      "text/plain": [
       "{'scatterers': [<pywave.scattering.helmholtz_1d_boundary.Helmholtz1DBoundary at 0x7fba64fd0278>,\n",
       "  <pywave.scattering.helmholtz_1d_boundary.Helmholtz1DBoundary at 0x7fba64fd54e0>],\n",
       " 'media': [<pywave.scattering.elastic_string.ElasticString at 0x7fba64fd5780>,\n",
       "  <pywave.scattering.elastic_string.ElasticString at 0x7fba11ee69b0>,\n",
       "  <pywave.scattering.elastic_string.ElasticString at 0x7fba64fd5908>],\n",
       " 'num_media': 3,\n",
       " 'num_interior_media': 1,\n",
       " 'slices': [slice(0, 1, None)],\n",
       " 'num_unknowns': 1}"
      ]
     },
     "execution_count": 14,
     "metadata": {},
     "output_type": "execute_result"
    }
   ],
   "source": [
    "vars(ms)"
   ]
  },
  {
   "cell_type": "code",
   "execution_count": 15,
   "id": "676d8a74",
   "metadata": {},
   "outputs": [],
   "source": [
    "ms.solve()"
   ]
  },
  {
   "cell_type": "code",
   "execution_count": 16,
   "id": "8f364a30",
   "metadata": {},
   "outputs": [
    {
     "ename": "NotImplementedError",
     "evalue": "Implement intrinsic_admittance in child class",
     "output_type": "error",
     "traceback": [
      "\u001b[0;31m---------------------------------------------------------------------------\u001b[0m",
      "\u001b[0;31mNotImplementedError\u001b[0m                       Traceback (most recent call last)",
      "\u001b[0;32m<ipython-input-16-c55dcfda5849>\u001b[0m in \u001b[0;36m<module>\u001b[0;34m\u001b[0m\n\u001b[0;32m----> 1\u001b[0;31m \u001b[0mms\u001b[0m\u001b[0;34m.\u001b[0m\u001b[0mtest_energy\u001b[0m\u001b[0;34m(\u001b[0m\u001b[0;34m)\u001b[0m\u001b[0;34m\u001b[0m\u001b[0;34m\u001b[0m\u001b[0m\n\u001b[0m\u001b[1;32m      2\u001b[0m \u001b[0;31m# ms.test_swap()\u001b[0m\u001b[0;34m\u001b[0m\u001b[0;34m\u001b[0m\u001b[0;34m\u001b[0m\u001b[0m\n",
      "\u001b[0;32m~/Github-Repos/pywave/pywave/scattering/scatterer_base.py\u001b[0m in \u001b[0;36mtest_energy\u001b[0;34m(self)\u001b[0m\n\u001b[1;32m    165\u001b[0m         \u001b[0mTest\u001b[0m \u001b[0menergy\u001b[0m \u001b[0;32mis\u001b[0m \u001b[0mconserved\u001b[0m\u001b[0;34m\u001b[0m\u001b[0;34m\u001b[0m\u001b[0m\n\u001b[1;32m    166\u001b[0m         \"\"\"\n\u001b[0;32m--> 167\u001b[0;31m         \u001b[0malp\u001b[0m \u001b[0;34m=\u001b[0m \u001b[0mself\u001b[0m\u001b[0;34m.\u001b[0m\u001b[0mintrinsic_admittance\u001b[0m\u001b[0;34m\u001b[0m\u001b[0;34m\u001b[0m\u001b[0m\n\u001b[0m\u001b[1;32m    168\u001b[0m         \u001b[0me\u001b[0m \u001b[0;34m=\u001b[0m \u001b[0mnp\u001b[0m\u001b[0;34m.\u001b[0m\u001b[0mabs\u001b[0m\u001b[0;34m(\u001b[0m\u001b[0mself\u001b[0m\u001b[0;34m.\u001b[0m\u001b[0mRp\u001b[0m\u001b[0;34m[\u001b[0m\u001b[0;36m0\u001b[0m\u001b[0;34m,\u001b[0m\u001b[0;36m0\u001b[0m\u001b[0;34m]\u001b[0m\u001b[0;34m)\u001b[0m\u001b[0;34m**\u001b[0m\u001b[0;36m2\u001b[0m \u001b[0;34m+\u001b[0m \u001b[0malp\u001b[0m\u001b[0;34m*\u001b[0m\u001b[0mnp\u001b[0m\u001b[0;34m.\u001b[0m\u001b[0mabs\u001b[0m\u001b[0;34m(\u001b[0m\u001b[0mself\u001b[0m\u001b[0;34m.\u001b[0m\u001b[0mTp\u001b[0m\u001b[0;34m[\u001b[0m\u001b[0;36m0\u001b[0m\u001b[0;34m,\u001b[0m\u001b[0;36m0\u001b[0m\u001b[0;34m]\u001b[0m\u001b[0;34m)\u001b[0m\u001b[0;34m**\u001b[0m\u001b[0;36m2\u001b[0m\u001b[0;34m\u001b[0m\u001b[0;34m\u001b[0m\u001b[0m\n\u001b[1;32m    169\u001b[0m         \u001b[0;32massert\u001b[0m\u001b[0;34m(\u001b[0m\u001b[0mnp\u001b[0m\u001b[0;34m.\u001b[0m\u001b[0mabs\u001b[0m\u001b[0;34m(\u001b[0m\u001b[0me\u001b[0m\u001b[0;34m-\u001b[0m\u001b[0;36m1\u001b[0m\u001b[0;34m)\u001b[0m \u001b[0;34m<\u001b[0m \u001b[0;36m1e-8\u001b[0m\u001b[0;34m)\u001b[0m\u001b[0;34m\u001b[0m\u001b[0;34m\u001b[0m\u001b[0m\n",
      "\u001b[0;32m~/Github-Repos/pywave/pywave/scattering/scatterer_base.py\u001b[0m in \u001b[0;36mintrinsic_admittance\u001b[0;34m(self)\u001b[0m\n\u001b[1;32m     74\u001b[0m         \"\"\"\n\u001b[1;32m     75\u001b[0m         raise NotImplementedError(\n\u001b[0;32m---> 76\u001b[0;31m                 \"Implement intrinsic_admittance in child class\")\n\u001b[0m\u001b[1;32m     77\u001b[0m \u001b[0;34m\u001b[0m\u001b[0m\n\u001b[1;32m     78\u001b[0m     \u001b[0;34m@\u001b[0m\u001b[0mproperty\u001b[0m\u001b[0;34m\u001b[0m\u001b[0;34m\u001b[0m\u001b[0m\n",
      "\u001b[0;31mNotImplementedError\u001b[0m: Implement intrinsic_admittance in child class"
     ]
    }
   ],
   "source": [
    "ms.test_energy()\n",
    "# ms.test_swap()"
   ]
  },
  {
   "cell_type": "code",
   "execution_count": null,
   "id": "2f7b00ec",
   "metadata": {},
   "outputs": [],
   "source": [
    "ms.test_energy_flux()"
   ]
  },
  {
   "cell_type": "code",
   "execution_count": null,
   "id": "2f76c922",
   "metadata": {},
   "outputs": [],
   "source": [
    "ms.test_boundary_conditions()"
   ]
  },
  {
   "cell_type": "code",
   "execution_count": null,
   "id": "28a62faa",
   "metadata": {},
   "outputs": [],
   "source": [
    "ms.plot_expansion()"
   ]
  },
  {
   "cell_type": "code",
   "execution_count": null,
   "id": "61f271ba",
   "metadata": {},
   "outputs": [],
   "source": [
    "ms.animate_displacement('figs/animation3.gif')"
   ]
  },
  {
   "cell_type": "markdown",
   "id": "72fd8095",
   "metadata": {},
   "source": [
    "### Display animation of displacement\n",
    "![SegmentLocal](figs/animation3.gif \"segment\")"
   ]
  },
  {
   "cell_type": "markdown",
   "id": "322f5ba6",
   "metadata": {},
   "source": [
    "## TODO\n",
    "- improve plot (edges)\n",
    "- MS\n",
    "  - test_boundary_conditions (in base class)\n",
    "- superposition\n",
    "- time dependent?"
   ]
  },
  {
   "cell_type": "code",
   "execution_count": null,
   "id": "5c52d133",
   "metadata": {},
   "outputs": [],
   "source": []
  }
 ],
 "metadata": {
  "kernelspec": {
   "display_name": "Python 3",
   "language": "python",
   "name": "python3"
  },
  "language_info": {
   "codemirror_mode": {
    "name": "ipython",
    "version": 3
   },
   "file_extension": ".py",
   "mimetype": "text/x-python",
   "name": "python",
   "nbconvert_exporter": "python",
   "pygments_lexer": "ipython3",
   "version": "3.6.13"
  }
 },
 "nbformat": 4,
 "nbformat_minor": 5
}
