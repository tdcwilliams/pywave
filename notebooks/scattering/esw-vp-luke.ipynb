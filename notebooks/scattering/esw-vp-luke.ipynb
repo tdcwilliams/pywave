{
 "cells": [
  {
   "cell_type": "markdown",
   "id": "456ea8ea",
   "metadata": {},
   "source": [
    "### Variational principle for extended shallow water"
   ]
  },
  {
   "cell_type": "markdown",
   "id": "1bc71708",
   "metadata": {},
   "source": [
    "We begin with some definitions\n",
    "\\begin{align}\n",
    "Q(x,t)&=\\int_{-h}^0u(x,z,t)\\textrm{d}z,\\\\\n",
    "w(x,z,t)&=\\eta(x,t)\\left(1+\\frac{z}{h}\\right),\\\\\n",
    "\\eta(x,t)&=-Q_x(x,t).\n",
    "\\end{align}\n",
    "These imply that the kinematic conditions\n",
    "\\begin{align}\n",
    "w(x,0,t)&=\\eta(x,t),\\\\\n",
    "w(x,-h,t)&=0\n",
    "\\end{align}\n",
    "are satisfied and that the incompressibility condition\n",
    "\\begin{align}\n",
    "u_x(x,0,t)+w_z(x,0,t)&=0,\n",
    "\\end{align}\n",
    "is satisfied weakly, i.e\n",
    "\\begin{align}\n",
    "\\int_{-h}^0\\big(u_x(x,0,t)+w_z(x,0,t)\\big)\\textrm{d}z&=0.\n",
    "\\end{align}\n",
    "The pressure can be defined as\n",
    "\\begin{align}\n",
    "p(x,z,t)=p_a + \\rho_wg(\\eta-z) + \\eta(x,t)\\left(z+\\frac{z^2}{2h}\\right).\n",
    "\\end{align}"
   ]
  },
  {
   "cell_type": "markdown",
   "id": "d820d013",
   "metadata": {},
   "source": [
    "We now define a Lagrangian similar to the one from Luke's Variational Principle. We start with the kinetic and potential energies, respectively\n",
    "\\begin{align}\n",
    "\\mathscr{T} &= \\frac{\\rho_w}2\n",
    "\\int_{-h}^0\\textrm{d}z\n",
    "\\int_{x_0}^{x_1}\\textrm{d}x\n",
    "\\big(u_t^2+w_t^2\\big)\\\\\n",
    "&=\\frac{\\rho_w}2\n",
    "\\int_{x_0}^{x_1}\\textrm{d}x\n",
    "\\left(\n",
    "\\frac{1}{h}Q_t^2+\\frac{h}{3}\\eta_t^2\n",
    "\\right)\\\\\n",
    "&=\\frac{\\rho_w}2\n",
    "\\int_{x_0}^{x_1}\\textrm{d}x\n",
    "\\left(\n",
    "\\frac{1}{h}Q_t^2+\\frac{h}{3}Q_{xt}^2\\right),\\\\\n",
    "\\mathscr{V}&=\\frac{\\rho_w}2\n",
    "\\int_{x_0}^{x_1}\\textrm{d}x\n",
    "\\left(\n",
    "\\frac{2}{\\rho_w}\\eta \\big(p|_{z=0}-p_a\\big)\n",
    "-g\\eta^2\n",
    "\\right)\\\\\n",
    "&=\\frac{\\rho_wg}2\n",
    "\\int_{x_0}^{x_1}\\eta^2\\textrm{d}x\\\\\n",
    "&=\\frac{\\rho_wg}2\n",
    "\\int_{x_0}^{x_1}Q_x^2\\textrm{d}x.\n",
    "\\end{align}\n",
    "The Lagrangian is\n",
    "\\begin{align}\n",
    "\\mathscr{L} &= \\int_{t_0}^{t_1}\\big(\n",
    "\\mathscr{T} - \\mathscr{V}\n",
    "\\big)\\textrm{d}t\\\\\n",
    "&=\\frac{\\rho_w}2\\int_{t_0}^{t_1}\\textrm{d}t\n",
    "\\int_{x_0}^{x_1}\\textrm{d}x\n",
    "\\left(\n",
    "\\frac{1}{h}Q_t^2+\\frac{h}{3}Q_{xt}^2-gQ_x^2\n",
    "\\right).\n",
    "\\end{align}"
   ]
  },
  {
   "cell_type": "markdown",
   "id": "c009463e",
   "metadata": {},
   "source": [
    "The Lagrangian is stationary if\n",
    "\\begin{align}\n",
    "0 &= \\int_{x_0}^{x_1}\\textrm{d}x\n",
    "\\left(\n",
    "\\frac{1}{h}Q_t\\delta Q_t+\\frac{h}{3}Q_{xt}\\delta Q_{xt} - gQ_{x}\\delta Q_{x}\n",
    "\\right)\\\\\n",
    "&=\\int_{x_0}^{x_1}\\textrm{d}x\n",
    "\\left(\n",
    "\\frac{-1}{h}Q_{tt}+\\frac{h}{3}Q_{xxtt} +gQ_{xx}\n",
    "\\right)\\delta Q\n",
    "-\\left[\\left(\n",
    "gQ_x + \\frac{h}{3}Q_{xtt}\\right)\\delta Q\n",
    "\\right]_{x_0}^{x_1}.\n",
    "\\end{align}"
   ]
  },
  {
   "cell_type": "markdown",
   "id": "4d8928bd",
   "metadata": {},
   "source": [
    "## Time-harmonic solution\n",
    "Let $\\alpha=\\omega^2/g$ be the infinite depth wave number, $\\beta=1-(\\alpha h)/3$, and let\n",
    "\\begin{align}\n",
    "Q(x,t)&=\\textrm{Re}\\left[q(x)\\textrm{e}^{-\\textrm{i}\\omega t}\\right].\n",
    "\\end{align}\n",
    "The Lagrangian averaged over one wave period is\n",
    "\\begin{align}\n",
    "\\mathscr{L} &= \\frac{\\rho_wg}4\n",
    "\\textrm{Re}\\left[\n",
    "\\int_{x_0}^{x_1}\\textrm{d}x\n",
    "\\left(\n",
    "\\frac{\\alpha}{h}qq^*-\\beta q_xq_x^*\n",
    "\\right)\\right].\n",
    "\\end{align}"
   ]
  },
  {
   "cell_type": "markdown",
   "id": "e524b959",
   "metadata": {},
   "source": [
    "The Lagrangian is stationary if\n",
    "\\begin{align}\n",
    "0 &= \\int_{x_0}^{x_1}\\textrm{d}x\n",
    "\\left(\n",
    "\\frac{\\alpha}{h}q\\delta q^*-\\beta q_x\\delta q_x^*\n",
    "\\right)\\\\\n",
    "&=\\int_{x_0}^{x_1}\\textrm{d}x\n",
    "\\left(\n",
    "\\frac{\\alpha}{h}q+\\partial_x\\big(\\beta q_x\\big)\n",
    "\\right)\\delta q^*\n",
    "-\\left[\n",
    "\\beta q_x\\delta q^*\n",
    "\\right]_{x_0}^{x_1}.\n",
    "\\end{align}"
   ]
  },
  {
   "cell_type": "markdown",
   "id": "c1f16171",
   "metadata": {},
   "source": [
    "For piecewise constant $h$ (constant $\\beta$), the governing equation is a Helmholtz equation\n",
    "\\begin{align}\n",
    "\\beta q_{xx} + \\frac{\\alpha}{h}q = 0,\n",
    "\\end{align}\n",
    "and $q$ and $\\beta q_x$ should be continuous at any discontinuities in $h$. This reduces to the usual shallow water equations if $\\beta=1$, which corresponds to neglecting the vertical kinetic energy in the Lagrangian above. Also note the formulation becomes singular when the wave frequency increases enough to satisfy $\\alpha h\\geq 3$."
   ]
  },
  {
   "cell_type": "markdown",
   "id": "503b10e9",
   "metadata": {},
   "source": [
    "## Energy flux\n",
    "Following the approach of Stoker (1957, section 1.6), the total energy in the domain is given by the Hamiltonian function (sum of kinetic and potential energy)\n",
    "\\begin{align}\n",
    "\\mathscr{H} &= \\mathscr{T} + \\mathscr{V}\\\\\n",
    "&=\\frac{\\rho_w}2\n",
    "\\int_{x_0}^{x_1}\\textrm{d}x\n",
    "\\left(\n",
    "\\frac{1}{h}Q_t^2+\\frac{h}{3}Q_{xt}^2+gQ_x^2\n",
    "\\right)\n",
    "\\end{align}"
   ]
  },
  {
   "cell_type": "markdown",
   "id": "1a63d492",
   "metadata": {},
   "source": [
    "Its time derivative is\n",
    "\\begin{align}\n",
    "\\mathscr{H}_t \n",
    "&= \\rho_w\\int_{x_0}^{x_1}\\textrm{d}x\n",
    "\\left(\n",
    "\\frac{1}{h}Q_tQ_{tt}+\\frac{h}{3}Q_{xt}Q_{xtt}+gQ_xQ_{xt}\n",
    "\\right)\\\\\n",
    "&=\\rho_w\\int_{x_0}^{x_1}\\textrm{d}x\n",
    "Q_t\\left(\n",
    "\\frac{1}{h}Q_{tt}-\\frac{h}{3}Q_{xxtt}-gQ_{xx}\n",
    "\\right)\n",
    "+ \\rho_w\\left[\n",
    "Q_t\\left(gQ_x+\\frac{h}{3}Q_{xtt}\\right)\n",
    "\\right]_{x_0}^{x_1}\\\\\n",
    "&=\\rho_w\\left[\n",
    "Q_t\\left(gQ_x+\\frac{h}{3}Q_{xtt}\\right)\n",
    "\\right]_{x_0}^{x_1},\n",
    "\\end{align}\n",
    "where we have used the governing equation for $q$ to simplify $\\mathscr{H}_t$."
   ]
  },
  {
   "cell_type": "markdown",
   "id": "51463582",
   "metadata": {},
   "source": [
    "Averaging over one period it is clear that the average energy flux into any subdomain is zero:\n",
    "\\begin{align}\n",
    "\\frac{\\omega}{2\\pi}\\int_0^{2\\pi/\\omega}\\mathscr{H}_t(t)\\textrm{d}t\n",
    "= \\frac{\\omega}{2\\pi}\\big[\\mathscr{H}(t)\\big]_{0}^{2\\pi/\\omega}\n",
    "= 0.\n",
    "\\end{align}"
   ]
  },
  {
   "cell_type": "markdown",
   "id": "643d6feb",
   "metadata": {},
   "source": [
    "Therefore\n",
    "\\begin{align}\n",
    "0\n",
    "&=\\frac12\\rho_wg\\omega\\big[\n",
    "\\textrm{Re}(\\beta q_x)\\textrm{Im}(q)\n",
    "-\\textrm{Im}(\\beta q_x)\\textrm{Re}(q)\n",
    "\\big]_{x_0}^{x_1}\\\\\n",
    "&=\\frac{1}{4\\textrm{i}}\\rho_wg\\omega\\big[\n",
    "\\beta\\,\\big(qq^*_x-q^*q_x\\big)\n",
    "\\big]_{x_0}^{x_1}\\\\\n",
    "&=\\frac{1}{2}\\rho_wg\\omega\\big[\n",
    "\\beta\\,\\textrm{Im}\\big(qq^*_x\\big)\n",
    "\\big]_{x_0}^{x_1}.\n",
    "\\end{align}"
   ]
  },
  {
   "cell_type": "markdown",
   "id": "2c195977",
   "metadata": {},
   "source": [
    "## Energy flux\n",
    "With\n",
    "\\begin{align}\n",
    "q(x)=a_+\\textrm{e}^{\\textrm{i}kx} + a_-\\textrm{e}^{-\\textrm{i}kx},\n",
    "\\end{align}\n",
    "we can let\n",
    "\\begin{align}\n",
    "\\mathcal{F}(x) &= \\frac12\\rho_wg\\omega\\beta\\,\\textrm{Im}\\big(q q_x^*\\big)\\\\\n",
    "&=-\\rho_wg\\omega \\frac{k\\beta}{2}\\big(|a_+|^2-|a_-|^2\\big),\n",
    "\\end{align}\n",
    "and say that\n",
    "\\begin{align}\n",
    "\\mathcal{F}_x(x) &= 0.\n",
    "\\end{align}"
   ]
  },
  {
   "cell_type": "markdown",
   "id": "0985e9a3",
   "metadata": {},
   "source": [
    "## Energy transport\n",
    "In a general wave transport equation (with two directions being considered)\n",
    "\\begin{align}\n",
    "\\partial_t\n",
    "\\begin{pmatrix}\n",
    "\\mathcal{F}_+\\\\\n",
    "\\mathcal{F}_-\n",
    "\\end{pmatrix}\n",
    "+c_g\n",
    "\\partial_x\n",
    "\\begin{pmatrix}\n",
    "\\mathcal{F}_+\\\\\n",
    "-\\mathcal{F}_-\n",
    "\\end{pmatrix}\n",
    "=\n",
    "\\textbf{S},\n",
    "\\end{align}\n",
    "where $\\textbf{S}$ is a source term."
   ]
  },
  {
   "cell_type": "markdown",
   "id": "5aa4687d",
   "metadata": {},
   "source": [
    "Since the complex displacement is given by\n",
    "\\begin{align}\n",
    "-q_x=-\\textrm{i}k\\big(a_+\\textrm{e}^{\\textrm{i}kx} - a_-\\textrm{e}^{-\\textrm{i}kx}\\big),\n",
    "\\end{align}\n",
    "we can define the energy associated with each wave direction as\n",
    "\\begin{align}\n",
    "E_\\pm &= \\frac12\\rho_wgk^2|a_\\pm|^2,\n",
    "\\end{align}\n",
    "and similarly the flux magnitudes in each direction are\n",
    "\\begin{align}\n",
    "\\mathcal{F}_\\pm &= \\frac{\\omega\\beta}{k}E_\\pm = \\hat{c}E_\\pm,\n",
    "\\end{align}\n",
    "with $\\hat c$ being a modified phase velocity, then\n",
    "\\begin{align}\n",
    "\\partial_x\\big(\\mathcal{F}_+(x) - \\mathcal{F}_-(x)\\big) &= 0\n",
    "\\end{align}\n",
    "gives us one part of the transport equation we need."
   ]
  },
  {
   "cell_type": "markdown",
   "id": "1202643e",
   "metadata": {},
   "source": [
    "In a multiple scattering situation suppose that the sum of the flux magnitudes decays exponentially with distance into the medium:\n",
    "\\begin{align}\n",
    "\\partial_x\\big(\\mathcal{F}_+(x) + \\mathcal{F}_-(x)\\big) \n",
    "&= -\\frac{2\\gamma}{c_g}\\big(\\mathcal{F}_+(x) + \\mathcal{F}_-(x)\\big)\n",
    "\\end{align}\n",
    "(with $c_g$ being introduced now as the group velocity for later convenience)\n",
    "then we have\n",
    "\\begin{align}\n",
    "\\partial_x\n",
    "\\begin{pmatrix}\n",
    "\\mathcal{F}_+\\\\\n",
    "\\mathcal{F}_-\n",
    "\\end{pmatrix}\n",
    "&=-\\frac{\\gamma}{c_g}\n",
    "\\begin{pmatrix}\n",
    "1&1\\\\\n",
    "1&1\n",
    "\\end{pmatrix}\\begin{pmatrix}\n",
    "\\mathcal{F}_+\\\\\n",
    "\\mathcal{F}_-\n",
    "\\end{pmatrix}\n",
    "\\end{align}\n",
    "That is, both $\\mathcal{F}_\\pm$ decay exponentially into the medium."
   ]
  },
  {
   "cell_type": "markdown",
   "id": "131cb0e9",
   "metadata": {},
   "source": [
    "Converting to the standard form of the (steady-state) transport equation\n",
    "\\begin{align}\n",
    "\\partial_x\n",
    "\\begin{pmatrix}\n",
    "\\mathcal{F}_+\\\\\n",
    "-\\mathcal{F}_-\n",
    "\\end{pmatrix}\n",
    "&= \\frac{1}{c_g}\\textbf{S},\\\\\n",
    "\\textbf{S}\n",
    "&=\\gamma\n",
    "\\begin{pmatrix}\n",
    "-1 & -1\\\\\n",
    "1 & 1\n",
    "\\end{pmatrix}\n",
    "\\begin{pmatrix}\n",
    "\\mathcal{F}_+\\\\\n",
    "\\mathcal{F}_-\n",
    "\\end{pmatrix}.\n",
    "\\end{align}"
   ]
  },
  {
   "cell_type": "markdown",
   "id": "fb5d9483",
   "metadata": {},
   "source": [
    "Hence $\\mathcal{F}_-$ will actually grow with time, since as time steps forward the backward waves are travelling towards the start of the scattering region where the total energy is higher. This make sense for a 1D geometry where waves are coming from one direction, but could be quite hard to generalise to more complicated geometries."
   ]
  },
  {
   "cell_type": "markdown",
   "id": "023817a8",
   "metadata": {},
   "source": [
    "Note that this is quite different for isotropic scattering, when the source term is\n",
    "\\begin{align}\n",
    "\\textbf{S}_{\\textrm{iso}}\n",
    "= -2\\gamma\\begin{pmatrix}\n",
    "1 & 0\\\\\n",
    "0 & 1\n",
    "\\end{pmatrix}\n",
    "+\\gamma\n",
    "\\begin{pmatrix}\n",
    "1 & 0\\\\\n",
    "0 & 1\n",
    "\\end{pmatrix}\n",
    "= \\gamma\\begin{pmatrix}\n",
    "-1 & 1\\\\\n",
    "1 & -1\n",
    "\\end{pmatrix},\n",
    "\\end{align}\n",
    "so that scattered energy will be split equally between its own and the opposite direction in the same way regardless of the direction they are going. Therefore, in order to represent scattering properly we need to introduce some anisotropy."
   ]
  },
  {
   "cell_type": "code",
   "execution_count": 1,
   "id": "2769af0d",
   "metadata": {},
   "outputs": [],
   "source": [
    "from pywave.scattering.extended_shallow_water import ExtendedShallowWater\n",
    "from pywave.scattering.helmholtz_1d_boundary import Helmholtz1DBoundary\n",
    "from pywave.scattering.multiple_scatterer import MultipleScatterer"
   ]
  },
  {
   "cell_type": "code",
   "execution_count": 2,
   "id": "e0fa20f0",
   "metadata": {},
   "outputs": [],
   "source": [
    "period = 12\n",
    "lhs = ExtendedShallowWater(period=period, depth=80)\n",
    "mid = ExtendedShallowWater(period=period, depth=90)\n",
    "rhs = ExtendedShallowWater(period=period, depth=100)"
   ]
  },
  {
   "cell_type": "markdown",
   "id": "3deb91ae",
   "metadata": {},
   "source": [
    "## Solve scattering at individual edges"
   ]
  },
  {
   "cell_type": "code",
   "execution_count": 3,
   "id": "33d27880",
   "metadata": {},
   "outputs": [
    {
     "name": "stdout",
     "output_type": "stream",
     "text": [
      "Test energy flux, from_left=True:\n",
      "\t[-0.00096496], [-0.00096496]\n",
      "\tOK\n",
      "Test energy flux, from_left=False:\n",
      "\t[0.00072459], [0.00072459]\n",
      "\tOK\n",
      "u(0) = 1.5711334394172907 = 1.5711334394172907\n",
      "\\sigma(0) = 0.004045812407904148j = 0.004045812407904146j\n",
      "Boundary conditions are OK\n",
      "\n",
      "\n",
      "Test energy flux, from_left=True:\n",
      "\t[-0.00069818], [-0.00069818]\n",
      "\tOK\n",
      "Test energy flux, from_left=False:\n",
      "\t[0.00043107], [0.00043107]\n",
      "\tOK\n",
      "u(0) = 1.6182705188442525 = 1.6182705188442525\n",
      "\\sigma(0) = 0.002704106894701251j = 0.002704106894701251j\n",
      "Boundary conditions are OK\n",
      "\n",
      "\n"
     ]
    },
    {
     "data": {
      "text/plain": [
       "{'position': 0,\n",
       " 'media': [<pywave.scattering.extended_shallow_water.ExtendedShallowWater at 0x7f8b41a5a630>,\n",
       "  <pywave.scattering.extended_shallow_water.ExtendedShallowWater at 0x7f8b41a5a6a0>],\n",
       " 'condition_types': [{'displacement': True}, {'displacement': True}],\n",
       " 'Rp': array([[0.14226688]]),\n",
       " 'Tm': array([[0.85773312]]),\n",
       " 'Tp': array([[1.14226688]]),\n",
       " 'Rm': array([[-0.14226688]])}"
      ]
     },
     "execution_count": 3,
     "metadata": {},
     "output_type": "execute_result"
    }
   ],
   "source": [
    "s0 = Helmholtz1DBoundary(lhs, mid, position=0)\n",
    "s1 = Helmholtz1DBoundary(mid, rhs, position=50)\n",
    "for s in [s0, s1]:\n",
    "    s.solve()\n",
    "    s.test_energy_flux()\n",
    "    s.test_boundary_conditions()\n",
    "    print(\"\\n\")\n",
    "vars(s0)"
   ]
  },
  {
   "cell_type": "markdown",
   "id": "d59d1ff8",
   "metadata": {},
   "source": [
    "## Solve scattering by 2 edges in series"
   ]
  },
  {
   "cell_type": "code",
   "execution_count": 4,
   "id": "9fff4e76",
   "metadata": {},
   "outputs": [],
   "source": [
    "ms = MultipleScatterer([s0,s1])\n",
    "ms.solve()"
   ]
  },
  {
   "cell_type": "code",
   "execution_count": 5,
   "id": "9f672c05",
   "metadata": {},
   "outputs": [
    {
     "name": "stdout",
     "output_type": "stream",
     "text": [
      "[-inf   0.]\n",
      "[ 0. 50.]\n",
      "[50. inf]\n"
     ]
    }
   ],
   "source": [
    "for med in ms.media:\n",
    "    print(med.xlim)"
   ]
  },
  {
   "cell_type": "code",
   "execution_count": 6,
   "id": "830d1886",
   "metadata": {},
   "outputs": [
    {
     "name": "stdout",
     "output_type": "stream",
     "text": [
      "Test energy flux, from_left=True:\n",
      "\t[-0.00093014], [-0.00093014]\n",
      "\tOK\n",
      "Test energy flux, from_left=False:\n",
      "\t[0.00043123], [0.00043123]\n",
      "\tOK\n"
     ]
    }
   ],
   "source": [
    "ms.test_energy_flux()"
   ]
  },
  {
   "cell_type": "code",
   "execution_count": 7,
   "id": "3c21a755",
   "metadata": {},
   "outputs": [
    {
     "name": "stdout",
     "output_type": "stream",
     "text": [
      "Flux to right = [-0.0009849]; flux to left = [5.47567873e-05]; net flux = [-0.00093014]\n",
      "Flux to right = [-0.00098527]; flux to left = [5.51273575e-05]; net flux = [-0.00093014]\n",
      "Flux to right = [-0.00093014]; flux to left = [0.]; net flux = [-0.00093014]\n"
     ]
    }
   ],
   "source": [
    "ip, im = ms.get_simple_inputs()\n",
    "for i in range(ms.num_media):\n",
    "    f0, f1 = ms.media[i].get_energy_flux(\n",
    "                            **ms.get_solution_params(i, ip, im))\n",
    "    print(f\"Flux to right = {f0}; flux to left = {f1}; net flux = {f0 + f1}\")"
   ]
  },
  {
   "cell_type": "code",
   "execution_count": null,
   "id": "62c1d010",
   "metadata": {},
   "outputs": [],
   "source": []
  }
 ],
 "metadata": {
  "kernelspec": {
   "display_name": "Python 3",
   "language": "python",
   "name": "python3"
  },
  "language_info": {
   "codemirror_mode": {
    "name": "ipython",
    "version": 3
   },
   "file_extension": ".py",
   "mimetype": "text/x-python",
   "name": "python",
   "nbconvert_exporter": "python",
   "pygments_lexer": "ipython3",
   "version": "3.6.13"
  }
 },
 "nbformat": 4,
 "nbformat_minor": 5
}
