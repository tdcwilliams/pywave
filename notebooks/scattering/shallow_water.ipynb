{
 "cells": [
  {
   "cell_type": "markdown",
   "metadata": {},
   "source": [
    "# Linear shallow water waves\n",
    "Let the total pressure be given by the hydrostatic pressure\n",
    "\\begin{align}\n",
    "p_\\textrm{tot}(x,z,t) &= p_\\textrm{atm} + p(x,t) - \\rho_wgz,\\\\\n",
    "p(x,t) &=\\rho_wg\\zeta(x,t),\n",
    "\\end{align}\n",
    "where $p_\\textrm{atm}$ is the constant atmospheric pressure (pressure at the free surface $z=\\zeta$),\n",
    "$p$ is the dynamic pressure, $\\rho_w$ is the water density and $g$ is the acceleration due to gravity.\n",
    "\n",
    "We have to satisfy the momentum equations\n",
    "\\begin{align}\n",
    "\\rho\\frac{\\partial^2 u}{\\partial t^2}\n",
    "= -\\frac{\\partial p_\\textrm{tot}}{\\partial x} = -p_x,\\\\\n",
    "\\rho\\frac{\\partial^2 w}{\\partial t^2}\n",
    "= -\\frac{\\partial p_\\textrm{tot}}{\\partial z} - \\rho_wg = 0,\n",
    "\\end{align}\n",
    "where $u$ and $w$ are the fluid displacements in the $x$ and $z$ directions,\n",
    "the continuity equation\n",
    "\\begin{align}\n",
    "\\frac{\\partial u}{\\partial x} +\\frac{\\partial w}{\\partial z} = 0,\n",
    "\\end{align}\n",
    "as well as no flow normal to the sea bed $z=-h(x)$:\n",
    "\\begin{align}\n",
    "w(x, -h(x),t) = -h'(x)u(x,-h(x), t).\n",
    "\\end{align}\n",
    "If $u_z=0$, the continuity equation integrates out to\n",
    "\\begin{align}\n",
    "\\int_{-h}^0 u_xdz = hu_x = \\big[w\\big]^{z=-h}_0 = -h'u -\\zeta,\n",
    "\\end{align}\n",
    "or\n",
    "\\begin{align}\n",
    "\\zeta = -\\frac{\\partial(hu)}{\\partial x}.\n",
    "\\end{align}\n",
    "Hence\n",
    "\\begin{align}\n",
    "p_{tt} = \\rho_wg\\zeta_{tt}\n",
    "= -\\frac{\\partial(\\rho_wghu_{tt})}{\\partial x}\n",
    "= \\frac{\\partial(ghp_x)}{\\partial x}.\n",
    "\\end{align}\n",
    "This is analogous to the wave-on-a-string problem with $m=1$, $\\kappa=gh$, but where $p$ plays the role of the horizontal displacement and $q=ghp_x=-\\rho_wghu_{tt}$ the role of the stress $\\sigma_{11}$. Thus $p$ and the volume flux $q$ are the quantities that should be continuous across any change in properties (usually depth)."
   ]
  },
  {
   "cell_type": "markdown",
   "metadata": {},
   "source": [
    "## Time-harmonic solution\n",
    "If $p(x,t) = \\textrm{Re}\\big[P(x)\\textrm{e}^{-\\textrm{i}\\omega t}\\big]$,\n",
    "\\begin{align}\n",
    "&P_{xx} + k_i^2 P = 0,\\\\\n",
    "&k_i^2=\\frac{\\omega^2}{gh_i}.\n",
    "\\end{align}\n",
    "The general solution is\n",
    "\\begin{align}\n",
    "&P(x) = \n",
    "\\begin{cases}\n",
    "i_p^+\\textrm{e}^{\\textrm{i}k_0x} + s_p^+\\textrm{e}^{-\\textrm{i}k_0x} \\quad\\textrm{for $x<0$},\\\\\n",
    "s_p^-\\textrm{e}^{\\textrm{i}k_1x} + i_p^-\\textrm{e}^{-\\textrm{i}k_1x} \\quad\\textrm{for $x>0$},\n",
    "\\end{cases}\n",
    "\\end{align}\n",
    "with $i_p^\\pm$ being (known) incident wave amplitudes and $s_p^\\pm$ being (unknown) scattered wave amplitudes.\n",
    "The solution follows as for the elastic string.\n",
    "Also we can write $u(x,t) = \\textrm{Re}\\big[U(x)\\textrm{e}^{-\\textrm{i}\\omega t}\\big]$ and $\\zeta$ will also be time-harmonic. It is also more convenient in general to define amplitudes in terms of $\\zeta$ so that $i^\\pm=i_p^\\pm/(\\rho_wg)$ and $s^\\pm=s_p^\\pm/(\\rho_wg)$ which have units of metres."
   ]
  },
  {
   "cell_type": "markdown",
   "metadata": {},
   "source": [
    "## Energy conservation\n",
    "The time-averaged power input to the piece of string is\n",
    "\\begin{align}\n",
    "\\mathcal{P}=\\frac{\\omega}{2\\pi}\\int_0^{2\\pi/\\omega}\n",
    "\\int_{-h}^0\n",
    "\\big[-p u_t\\big]^{x\\rightarrow\\infty}_{x\\rightarrow-\\infty}dt\n",
    "dz,\n",
    "\\end{align}\n",
    "so\n",
    "\\begin{align}\n",
    "\\mathcal{P} &=-\\frac{\\omega} 2\\big[h\\big(\n",
    "\\textrm{Re}[P]\\,\\textrm{Im}[U] - \\textrm{Im}[P]\\,\\textrm{Re}[U]\n",
    "\\big)\\big]^{x\\rightarrow\\infty}_{x\\rightarrow-\\infty}\\\\\n",
    "&= -\\frac{i\\omega}4\\big[\n",
    "h\\big(P U^* - P^*U\\big)\n",
    "\\big]^{x\\rightarrow\\infty}_{x\\rightarrow-\\infty}\\\\\n",
    "&= -\\frac{1}{\\rho_w\\omega^2}\\times\\frac{i\\omega}4\\big[h\\big(P_xP^* - P_x^*P\\big)\n",
    "\\big]^{x\\rightarrow\\infty}_{x\\rightarrow-\\infty}\\\\\n",
    "&= -\\frac{1}{\\rho_wg\\omega^2}\\times\\frac{i\\omega}4\\big[\\kappa\\big(P_xP^* - P_x^*P\\big)\n",
    "\\big]^{x\\rightarrow\\infty}_{x\\rightarrow-\\infty}\\\\\n",
    "&=0.\n",
    "\\end{align}\n",
    "Hence\n",
    "\\begin{align}\n",
    "\\mathcal{P}\n",
    "& = -\\frac{1}{\\rho_wg\\omega^2}\\times\\frac{\\omega}2k_1\\kappa_1\\big(|i_p^-|^2-|s_p^-|^2\\big)\n",
    "+\\frac{1}{\\rho_wg\\omega^2}\\times\\frac{\\omega}2k_0\\kappa_0\\big(|s_p^+|^2-|i_p^+|^2\\big)\\\\\n",
    "& = -\\frac{\\rho_wg^2}{2\\omega}\\times k_1h_1\\big(|i^-|^2-|s^-|^2\\big)\n",
    "+\\frac{\\rho_wg^2}{2\\omega}\\times k_0h_0\\big(|s^+|^2-|i^+|^2\\big)\\\\\n",
    "&= 0.\n",
    "\\end{align}"
   ]
  },
  {
   "cell_type": "code",
   "execution_count": 1,
   "metadata": {},
   "outputs": [],
   "source": [
    "import numpy as np\n",
    "from pywave.scattering.shallow_water import ShallowWater\n",
    "from pywave.scattering.helmholtz_1d_boundary import Helmholtz1DBoundary"
   ]
  },
  {
   "cell_type": "code",
   "execution_count": 2,
   "metadata": {},
   "outputs": [],
   "source": [
    "sw = ShallowWater()"
   ]
  },
  {
   "cell_type": "code",
   "execution_count": 3,
   "metadata": {},
   "outputs": [
    {
     "data": {
      "text/plain": [
       "{'period': 20,\n",
       " 'rho_water': 1025,\n",
       " 'depth': 100,\n",
       " 'gravity': 9.81,\n",
       " 'infinite': True,\n",
       " 'semi_infinite': False,\n",
       " 'xlim': array([-inf,  inf]),\n",
       " 'operators': {'helmholtz_u': <function pywave.scattering.helmholtz_1d.Helmholtz1D.set_operators.<locals>.<lambda>(k)>,\n",
       "  'helmholtz_cux': <function pywave.scattering.helmholtz_1d.Helmholtz1D.set_operators.<locals>.<lambda>(k)>,\n",
       "  'displacement': <function pywave.scattering.extended_shallow_water.ExtendedShallowWater.set_operators.<locals>.<lambda>(k)>,\n",
       "  'horizontal_velocity': <function pywave.scattering.extended_shallow_water.ExtendedShallowWater.set_operators.<locals>.<lambda>(k)>},\n",
       " 'edge_operators': {'displacement': (<function pywave.scattering.helmholtz_1d.Helmholtz1D.set_operators.<locals>.<lambda>(k)>,\n",
       "   <function pywave.scattering.helmholtz_1d.Helmholtz1D.set_operators.<locals>.<lambda>(k)>)},\n",
       " 'helmholtz_coef': 1,\n",
       " 'k': array([0.01003033])}"
      ]
     },
     "execution_count": 3,
     "metadata": {},
     "output_type": "execute_result"
    }
   ],
   "source": [
    "vars(sw)"
   ]
  },
  {
   "cell_type": "code",
   "execution_count": 4,
   "metadata": {},
   "outputs": [
    {
     "name": "stdout",
     "output_type": "stream",
     "text": [
      "[0.01003033] 0.010030333403553237\n"
     ]
    }
   ],
   "source": [
    "print(sw.k, sw.omega/np.sqrt(981))"
   ]
  },
  {
   "cell_type": "code",
   "execution_count": 5,
   "metadata": {},
   "outputs": [],
   "source": [
    "sw1 = ShallowWater(depth=100)\n",
    "sw2 = ShallowWater(depth=80)"
   ]
  },
  {
   "cell_type": "code",
   "execution_count": 6,
   "metadata": {},
   "outputs": [],
   "source": [
    "bdy = Helmholtz1DBoundary(sw1, sw2)"
   ]
  },
  {
   "cell_type": "code",
   "execution_count": 7,
   "metadata": {},
   "outputs": [],
   "source": [
    "bdy.solve()"
   ]
  },
  {
   "cell_type": "code",
   "execution_count": 8,
   "metadata": {},
   "outputs": [
    {
     "name": "stdout",
     "output_type": "stream",
     "text": [
      "u(0) = 1.4721359549995794 = 1.4721359549995794\n",
      "\\sigma(0) = 0.005294652363102448j = 0.005294652363102448j\n",
      "Boundary conditions are OK\n"
     ]
    }
   ],
   "source": [
    "bdy.test_boundary_conditions()"
   ]
  },
  {
   "cell_type": "code",
   "execution_count": 9,
   "metadata": {},
   "outputs": [
    {
     "name": "stdout",
     "output_type": "stream",
     "text": [
      "Test energy flux, from_left=True:\n",
      "\t[-0.00157067], [-0.00157067]\n",
      "\tOK\n",
      "Test energy flux, from_left=False:\n",
      "\t[0.00175606], [0.00175606]\n",
      "\tOK\n"
     ]
    }
   ],
   "source": [
    "bdy.test_energy_flux()"
   ]
  },
  {
   "cell_type": "code",
   "execution_count": null,
   "metadata": {},
   "outputs": [],
   "source": []
  }
 ],
 "metadata": {
  "kernelspec": {
   "display_name": "Python 3",
   "language": "python",
   "name": "python3"
  },
  "language_info": {
   "codemirror_mode": {
    "name": "ipython",
    "version": 3
   },
   "file_extension": ".py",
   "mimetype": "text/x-python",
   "name": "python",
   "nbconvert_exporter": "python",
   "pygments_lexer": "ipython3",
   "version": "3.6.13"
  }
 },
 "nbformat": 4,
 "nbformat_minor": 1
}
