{
 "cells": [
  {
   "cell_type": "code",
   "execution_count": 1,
   "id": "60852f2a",
   "metadata": {},
   "outputs": [],
   "source": [
    "# %matplotlib notebook\n",
    "import numpy as np\n",
    "import os\n",
    "from matplotlib import image, pyplot as plt\n",
    "import json\n",
    "from celluloid import Camera\n",
    "from collections import defaultdict\n",
    "\n",
    "_ZI = np.complex(0, 1)"
   ]
  },
  {
   "cell_type": "code",
   "execution_count": 2,
   "id": "bc705967",
   "metadata": {},
   "outputs": [],
   "source": [
    "from pywave.scattering.elastic_string import ElasticString # Properties of a segment of string\n",
    "from pywave.scattering.helmholtz_1d_boundary import Helmholtz1DBoundary # Scattering by a change in string properties\n",
    "from pywave.scattering.medium_boundary import MediumBoundary\n",
    "from pywave.scattering.multiple_scatterer import MultipleScatterer # Multiple scattering module"
   ]
  },
  {
   "cell_type": "markdown",
   "id": "0363ec5c",
   "metadata": {},
   "source": [
    "## Scattering by two boundaries in series\n",
    "\\begin{align}\n",
    "&\\textbf{s}^+ = \\textbf{R}_0^+\\textbf{i}^+\n",
    "+ \\textbf{T}_0^-\\textbf{D}\\textbf{b}_{0}\\\\\n",
    "&\\textbf{a} = \\textbf{T}_0^+\\textbf{i}^+\n",
    "+ \\textbf{R}_0^-\\textbf{D}\\textbf{b}\\\\\n",
    "&\\textbf{b} = \\textbf{T}_{1}^-\\textbf{i}^-\n",
    "+ \\textbf{R}_{1}^+\\textbf{D}\\textbf{a}\\\\\n",
    "&\\textbf{s}^- = \\textbf{R}_{1}^-\\textbf{i}^-\n",
    "+ \\textbf{T}_{1}^+\\textbf{D}\\textbf{a}\n",
    "\\end{align}\n",
    "Combining these gives\n",
    "\\begin{align}\n",
    "&\n",
    "\\begin{pmatrix}\n",
    "\\textbf{a} \\\\ \\textbf{b}\n",
    "\\end{pmatrix}\n",
    "=\n",
    "\\begin{pmatrix}\n",
    "\\textbf{T}_0^+ & \\textbf{0} \\\\ \\textbf{0} & \\textbf{T}_1^-\n",
    "\\end{pmatrix}\n",
    "\\begin{pmatrix}\n",
    "\\textbf{i}^+ \\\\ \\textbf{i}^-\n",
    "\\end{pmatrix}\n",
    "+\n",
    "\\begin{pmatrix}\n",
    "\\textbf{0} & \\textbf{R}_0^-\\textbf{D} \\\\ \\textbf{T}_{1}^+\\textbf{D} & \\textbf{0}\n",
    "\\end{pmatrix}\n",
    "\\begin{pmatrix}\n",
    "\\textbf{a} \\\\ \\textbf{b}\n",
    "\\end{pmatrix}.\n",
    "\\end{align}"
   ]
  },
  {
   "cell_type": "markdown",
   "id": "1e632386",
   "metadata": {},
   "source": [
    "## Multiple scattering\n",
    "\\begin{align}\n",
    "&\\textbf{s}^+ = \\textbf{R}_0^+\\textbf{i}^+\n",
    "+ \\textbf{T}_0^-\\textbf{D}_{0}\\textbf{b}_{0}\\\\\n",
    "&\\textbf{a}_0 = \\textbf{T}_0^+\\textbf{i}^+\n",
    "+ \\textbf{R}_0^-\\textbf{D}_{0}\\textbf{b}_{0}\\\\\n",
    "&\\textbf{a}_n = \\textbf{T}_n^+\\textbf{D}_{n-1}\\textbf{a}_{n-1}\n",
    "+ \\textbf{R}_n^-\\textbf{D}_{n}\\textbf{b}_{n}\\\\\n",
    "&\\textbf{b}_n = \\textbf{T}_{n+1}^-\\textbf{D}_{n+1}\\textbf{b}_{n+1}\n",
    "+ \\textbf{R}_{n+1}^+\\textbf{D}_{n}\\textbf{a}_{n}\\\\\n",
    "&\\textbf{b}_{N-1} = \\textbf{T}_{N}^-\\textbf{i}^-\n",
    "+ \\textbf{R}_{N}^+\\textbf{D}_{N-1}\\textbf{a}_{N-1}\\\\\n",
    "&\\textbf{s}^- = \\textbf{R}_{N}^-\\textbf{i}^-\n",
    "+ \\textbf{T}_{N}^+\\textbf{D}_{N-1}\\textbf{a}_{N-1}\n",
    "\\end{align}\n",
    "Combining these gives\n",
    "\\begin{align}\n",
    "&\n",
    "\\begin{pmatrix}\n",
    "\\textbf{a} \\\\ \\textbf{b}\n",
    "\\end{pmatrix}\n",
    "=\n",
    "\\begin{pmatrix}\n",
    "\\textbf{B}^+ & \\textbf{0} \\\\ \\textbf{0} & \\textbf{B}^-\n",
    "\\end{pmatrix}\n",
    "\\begin{pmatrix}\n",
    "\\textbf{i}^+ \\\\ \\textbf{i}^-\n",
    "\\end{pmatrix}\n",
    "+\n",
    "\\begin{pmatrix}\n",
    "\\textbf{A}_{00} & \\textbf{A}_{11} \\\\ \\textbf{A}_{10} & \\textbf{A}_{11}\n",
    "\\end{pmatrix}\n",
    "\\begin{pmatrix}\n",
    "\\textbf{a} \\\\ \\textbf{b}\n",
    "\\end{pmatrix},\n",
    "\\end{align}\n",
    "where\n",
    "\\begin{align}\n",
    "&\\textbf{B}^+ = \\begin{pmatrix}\n",
    "\\textbf{T}_0^+\\\\ \\textbf{0} \\\\ \\cdots \\\\  \\textbf{0}\n",
    "\\end{pmatrix},\n",
    "\\quad\n",
    "\\textbf{B}^- = \\begin{pmatrix}\n",
    "\\textbf{0} \\\\ \\cdots \\\\  \\textbf{0} \\\\ \\textbf{T}_N^-\n",
    "\\end{pmatrix},\n",
    "\\\\\n",
    "&\\textbf{A}_{00} = \\begin{pmatrix}\n",
    "\\textbf{0}                     & \\textbf{0} & \\textbf{0} & \\cdots & \\textbf{0} \\\\\n",
    "\\textbf{T}_1^+\\textbf{D}_0     & \\textbf{0} & \\textbf{0} & \\cdots & \\textbf{0} \\\\\n",
    "\\textbf{0} & \\textbf{T}_2^+\\textbf{D}_1     & \\textbf{0} & \\cdots & \\textbf{0} \\\\\n",
    "\\cdots & \\cdots & \\cdots & \\cdots & \\cdots \\\\\n",
    "\\textbf{0} & \\cdots & \\textbf{0}     & \\textbf{T}_{N-1}^+\\textbf{D}_{N-2} & \\textbf{0} \\\\\n",
    "\\end{pmatrix},\n",
    "\\quad\n",
    "\\textbf{A}_{01} = \\begin{pmatrix}\n",
    "\\textbf{R}_0^-\\textbf{D}_0     & \\textbf{0} & \\textbf{0} & \\cdots & \\textbf{0} \\\\\n",
    "\\textbf{0} & \\textbf{R}_1^-\\textbf{D}_1     & \\textbf{0} & \\cdots & \\textbf{0} \\\\\n",
    "\\cdots & \\cdots & \\cdots & \\cdots & \\cdots \\\\\n",
    "\\textbf{0} & \\cdots & \\textbf{0}     & \\textbf{R}_{N-2}^-\\textbf{D}_{N-2} & \\textbf{0} \\\\\n",
    "\\textbf{0} & \\textbf{0} & \\cdots & \\textbf{0} & \\textbf{R}_{N-1}^-\\textbf{D}_{N-1}\n",
    "\\end{pmatrix},\\\\\n",
    "&\\textbf{A}_{10} = \\begin{pmatrix}\n",
    "\\textbf{R}_1^+\\textbf{D}_0     & \\textbf{0} & \\textbf{0} & \\cdots & \\textbf{0} \\\\\n",
    "\\textbf{0} & \\textbf{R}_2^+\\textbf{D}_1     & \\textbf{0} & \\cdots & \\textbf{0} \\\\\n",
    "\\cdots & \\cdots & \\cdots & \\cdots & \\cdots \\\\\n",
    "\\textbf{0} & \\cdots & \\textbf{0}     & \\textbf{R}_{N-1}^+\\textbf{D}_{N-2} & \\textbf{0} \\\\\n",
    "\\textbf{0} & \\textbf{0} & \\cdots & \\textbf{0} & \\textbf{R}_{N}^+\\textbf{D}_{N-1}\n",
    "\\end{pmatrix},\n",
    "\\quad\n",
    "\\textbf{A}_{11} = \\begin{pmatrix}\n",
    "\\textbf{0} & \\textbf{T}_1^-\\textbf{D}_1     & \\textbf{0} & \\cdots & \\textbf{0} \\\\\n",
    "\\textbf{0} & \\textbf{0} & \\textbf{T}_2^-\\textbf{D}_2 & \\cdots & \\textbf{0} \\\\\n",
    "\\cdots & \\cdots & \\cdots & \\cdots & \\cdots \\\\\n",
    "\\textbf{0} & \\textbf{0}  &  \\textbf{0}  & \\cdots  & \\textbf{T}_{N-1}^-\\textbf{D}_{N-1} \\\\\n",
    "\\textbf{0} & \\textbf{0} & \\textbf{0} & \\cdots & \\textbf{0}\n",
    "\\end{pmatrix}.\n",
    "\\end{align}"
   ]
  },
  {
   "cell_type": "markdown",
   "id": "2db824be",
   "metadata": {},
   "source": [
    "We can eliminate $\\textbf{b}$ with\n",
    "\\begin{align}\n",
    "\\textbf{b} &= \\big(\\textbf{I} - \\textbf{A}_{11}\\big)^{-1}\\big(\\textbf{B}^-\\textbf{i}^- + \\textbf{A}_{10}\\textbf{a}\\big)\n",
    "= \\textbf{C}^-\\textbf{i}^- + \\textbf{C}_{10}\\textbf{a},\\\\\n",
    "\\textbf{a} &= \\big(\\textbf{I} - \\textbf{A}_{00} - \\textbf{A}_{01}\\textbf{C}_{10}\\big)^{-1}\\big(\n",
    "\\textbf{B}^+\\textbf{i}^+ + \\textbf{A}_{01}\\textbf{C}^-\\textbf{i}^-\\big)\n",
    "\\end{align}"
   ]
  },
  {
   "cell_type": "code",
   "execution_count": 3,
   "id": "752f80db",
   "metadata": {},
   "outputs": [],
   "source": [
    "period = 4\n",
    "lhs = ElasticString(m=2, period=period)\n",
    "mid = ElasticString(kappa=13, period=period)\n",
    "rhs = ElasticString(kappa=6, period=period)\n",
    "s0 = Helmholtz1DBoundary(lhs, mid, position=0)\n",
    "s1 = Helmholtz1DBoundary(mid, rhs, position=4)"
   ]
  },
  {
   "cell_type": "code",
   "execution_count": 4,
   "id": "8d22c9bf",
   "metadata": {},
   "outputs": [
    {
     "name": "stdout",
     "output_type": "stream",
     "text": [
      "{'position': 0, 'media': [<pywave.scattering.elastic_string.ElasticString object at 0x7f4359f7beb8>, <pywave.scattering.elastic_string.ElasticString object at 0x7f4359f7be48>], 'condition_types': [{'displacement': True}, {'displacement': True}]}\n",
      "u(0) = 1.439607805437114 = 1.439607805437114\n",
      "\\sigma(0) = 2.4897569199005702j = 2.4897569199005702j\n",
      "Boundary conditions are OK\n",
      "Energy is OK\n",
      "Test power input, from_left=True:\n",
      "\t-3.438525233229448, -3.4385252332294476\n",
      "\tOK\n",
      "Test power input, from_left=False:\n",
      "\t4.383276815554534, 4.3832768155545345\n",
      "\tOK\n",
      "{'position': 4, 'media': [<pywave.scattering.elastic_string.ElasticString object at 0x7f4359f7bef0>, <pywave.scattering.elastic_string.ElasticString object at 0x7f4359f7bf60>], 'condition_types': [{'displacement': True}, {'displacement': True}]}\n",
      "u(0) = 1.5954627333817362 = 1.5954627333817362\n",
      "\\sigma(0) = 2.2911318826993954j = 2.291131882699395j\n",
      "Boundary conditions are OK\n",
      "Energy is OK\n",
      "Test power input, from_left=True:\n",
      "\t-4.2860235029662075, -4.286023502966207\n",
      "\tOK\n",
      "Test power input, from_left=False:\n",
      "\t2.911779588127564, 2.9117795881275645\n",
      "\tOK\n"
     ]
    }
   ],
   "source": [
    "for bdy in [s0, s1]:\n",
    "    print(vars(bdy))\n",
    "    bdy.solve()\n",
    "    bdy.test_boundary_conditions()\n",
    "    bdy.test_energy()\n",
    "    bdy.test_power_input()"
   ]
  },
  {
   "cell_type": "code",
   "execution_count": 5,
   "id": "35987fd9",
   "metadata": {},
   "outputs": [
    {
     "name": "stdout",
     "output_type": "stream",
     "text": [
      "(0.0, 4.0)\n",
      "[-inf   0.]\n",
      "[0. 4.]\n",
      "[ 4. inf]\n"
     ]
    }
   ],
   "source": [
    "ms = MultipleScatterer([s0, s1])\n",
    "print(ms.xlim)\n",
    "for med in ms.media:\n",
    "    print(med.xlim)"
   ]
  },
  {
   "cell_type": "code",
   "execution_count": 6,
   "id": "96bf2bc8",
   "metadata": {},
   "outputs": [
    {
     "data": {
      "text/plain": [
       "{'scatterers': [<pywave.scattering.helmholtz_1d_boundary.Helmholtz1DBoundary at 0x7f4359f7be10>,\n",
       "  <pywave.scattering.helmholtz_1d_boundary.Helmholtz1DBoundary at 0x7f4359f7be80>],\n",
       " 'media': [<pywave.scattering.elastic_string.ElasticString at 0x7f4359f7beb8>,\n",
       "  <pywave.scattering.elastic_string.ElasticString at 0x7f4359f81080>,\n",
       "  <pywave.scattering.elastic_string.ElasticString at 0x7f4359f7bf60>],\n",
       " 'num_media': 3,\n",
       " 'num_interior_media': 1,\n",
       " 'slices': [slice(0, 1, None)],\n",
       " 'num_unknowns': 1}"
      ]
     },
     "execution_count": 6,
     "metadata": {},
     "output_type": "execute_result"
    }
   ],
   "source": [
    "vars(ms)"
   ]
  },
  {
   "cell_type": "code",
   "execution_count": 7,
   "id": "676d8a74",
   "metadata": {},
   "outputs": [],
   "source": [
    "ms.solve()"
   ]
  },
  {
   "cell_type": "code",
   "execution_count": 8,
   "id": "8f364a30",
   "metadata": {},
   "outputs": [
    {
     "name": "stdout",
     "output_type": "stream",
     "text": [
      "Energy is OK\n"
     ]
    }
   ],
   "source": [
    "ms.test_energy()\n",
    "# ms.test_swap()"
   ]
  },
  {
   "cell_type": "code",
   "execution_count": 9,
   "id": "2f7b00ec",
   "metadata": {},
   "outputs": [
    {
     "name": "stdout",
     "output_type": "stream",
     "text": [
      "Test power input, from_left=True:\n",
      "\t-3.1736796626444272, -3.1736796626444264\n",
      "\tOK\n",
      "Test power input, from_left=False:\n",
      "\t2.748487211324101, 2.748487211324101\n",
      "\tOK\n"
     ]
    }
   ],
   "source": [
    "ms.test_power_input()"
   ]
  },
  {
   "cell_type": "code",
   "execution_count": 10,
   "id": "2f76c922",
   "metadata": {},
   "outputs": [
    {
     "name": "stdout",
     "output_type": "stream",
     "text": [
      "\n",
      "Test boundary conditions at boundary 0:\n",
      "displacement = (0.6328263124898319+0.3770522407813619j) = (0.6328263124898319+0.3770522407813619j)?\n",
      "stress = (1.6751989673618928+6.0741926497379835j) = (1.675198967361893+6.0741926497379835j)?\n",
      "\n",
      "Test boundary conditions at boundary 1:\n",
      "displacement = (0.18321340505767772+0.992225865420135j) = (0.1832134050576778+0.992225865420135j)?\n",
      "stress = (-3.817737345530408-3.1427085258652876j) = (-3.8177373455304084-3.142708525865288j)?\n",
      "Boundary conditions are OK\n"
     ]
    }
   ],
   "source": [
    "ms.test_boundary_conditions()"
   ]
  },
  {
   "cell_type": "code",
   "execution_count": 11,
   "id": "28a62faa",
   "metadata": {},
   "outputs": [
    {
     "data": {
      "text/plain": [
       "<AxesSubplot:title={'center':'u at t=0s'}, xlabel='x, m', ylabel='u, m'>"
      ]
     },
     "execution_count": 11,
     "metadata": {},
     "output_type": "execute_result"
    },
    {
     "data": {
      "image/png": "[encoded data removed]",
      "text/plain": [
       "<Figure size 1008x504 with 1 Axes>"
      ]
     },
     "metadata": {
      "needs_background": "light"
     },
     "output_type": "display_data"
    }
   ],
   "source": [
    "ms.plot_expansion()"
   ]
  },
  {
   "cell_type": "code",
   "execution_count": 12,
   "id": "61f271ba",
   "metadata": {},
   "outputs": [
    {
     "data": {
      "image/png": "[encoded data removed]",
      "text/plain": [
       "<Figure size 504x504 with 1 Axes>"
      ]
     },
     "metadata": {
      "needs_background": "light"
     },
     "output_type": "display_data"
    },
    {
     "name": "stdout",
     "output_type": "stream",
     "text": [
      "Saving figs/animation3.gif\n"
     ]
    },
    {
     "name": "stderr",
     "output_type": "stream",
     "text": [
      "MovieWriter stderr:\n",
      "figs/animation3.gif: No such file or directory\n",
      "\n"
     ]
    },
    {
     "ename": "CalledProcessError",
     "evalue": "Command '['ffmpeg', '-f', 'rawvideo', '-vcodec', 'rawvideo', '-s', '504x504', '-pix_fmt', 'rgba', '-r', '12', '-loglevel', 'error', '-i', 'pipe:', '-filter_complex', 'split [a][b];[a] palettegen [p];[b][p] paletteuse', '-y', 'figs/animation3.gif']' returned non-zero exit status 1.",
     "output_type": "error",
     "traceback": [
      "\u001b[0;31m---------------------------------------------------------------------------\u001b[0m",
      "\u001b[0;31mBrokenPipeError\u001b[0m                           Traceback (most recent call last)",
      "\u001b[0;32m~/Packages/python/miniconda2/envs/pywave/lib/python3.6/site-packages/matplotlib/animation.py\u001b[0m in \u001b[0;36msaving\u001b[0;34m(self, fig, outfile, dpi, *args, **kwargs)\u001b[0m\n\u001b[1;32m    250\u001b[0m         \u001b[0;32mtry\u001b[0m\u001b[0;34m:\u001b[0m\u001b[0;34m\u001b[0m\u001b[0;34m\u001b[0m\u001b[0m\n\u001b[0;32m--> 251\u001b[0;31m             \u001b[0;32myield\u001b[0m \u001b[0mself\u001b[0m\u001b[0;34m\u001b[0m\u001b[0;34m\u001b[0m\u001b[0m\n\u001b[0m\u001b[1;32m    252\u001b[0m         \u001b[0;32mfinally\u001b[0m\u001b[0;34m:\u001b[0m\u001b[0;34m\u001b[0m\u001b[0;34m\u001b[0m\u001b[0m\n",
      "\u001b[0;32m~/Packages/python/miniconda2/envs/pywave/lib/python3.6/site-packages/matplotlib/animation.py\u001b[0m in \u001b[0;36msave\u001b[0;34m(self, filename, writer, fps, dpi, codec, bitrate, extra_args, metadata, extra_anim, savefig_kwargs, progress_callback)\u001b[0m\n\u001b[1;32m   1160\u001b[0m                         \u001b[0mframe_number\u001b[0m \u001b[0;34m+=\u001b[0m \u001b[0;36m1\u001b[0m\u001b[0;34m\u001b[0m\u001b[0;34m\u001b[0m\u001b[0m\n\u001b[0;32m-> 1161\u001b[0;31m                 \u001b[0mwriter\u001b[0m\u001b[0;34m.\u001b[0m\u001b[0mgrab_frame\u001b[0m\u001b[0;34m(\u001b[0m\u001b[0;34m**\u001b[0m\u001b[0msavefig_kwargs\u001b[0m\u001b[0;34m)\u001b[0m\u001b[0;34m\u001b[0m\u001b[0;34m\u001b[0m\u001b[0m\n\u001b[0m\u001b[1;32m   1162\u001b[0m \u001b[0;34m\u001b[0m\u001b[0m\n",
      "\u001b[0;32m~/Packages/python/miniconda2/envs/pywave/lib/python3.6/site-packages/matplotlib/animation.py\u001b[0m in \u001b[0;36mgrab_frame\u001b[0;34m(self, **savefig_kwargs)\u001b[0m\n\u001b[1;32m    363\u001b[0m         self.fig.savefig(self._frame_sink(), format=self.frame_format,\n\u001b[0;32m--> 364\u001b[0;31m                          dpi=self.dpi, **savefig_kwargs)\n\u001b[0m\u001b[1;32m    365\u001b[0m \u001b[0;34m\u001b[0m\u001b[0m\n",
      "\u001b[0;32m~/Packages/python/miniconda2/envs/pywave/lib/python3.6/site-packages/matplotlib/figure.py\u001b[0m in \u001b[0;36msavefig\u001b[0;34m(self, fname, transparent, **kwargs)\u001b[0m\n\u001b[1;32m   2310\u001b[0m \u001b[0;34m\u001b[0m\u001b[0m\n\u001b[0;32m-> 2311\u001b[0;31m         \u001b[0mself\u001b[0m\u001b[0;34m.\u001b[0m\u001b[0mcanvas\u001b[0m\u001b[0;34m.\u001b[0m\u001b[0mprint_figure\u001b[0m\u001b[0;34m(\u001b[0m\u001b[0mfname\u001b[0m\u001b[0;34m,\u001b[0m \u001b[0;34m**\u001b[0m\u001b[0mkwargs\u001b[0m\u001b[0;34m)\u001b[0m\u001b[0;34m\u001b[0m\u001b[0;34m\u001b[0m\u001b[0m\n\u001b[0m\u001b[1;32m   2312\u001b[0m \u001b[0;34m\u001b[0m\u001b[0m\n",
      "\u001b[0;32m~/Packages/python/miniconda2/envs/pywave/lib/python3.6/site-packages/matplotlib/backend_bases.py\u001b[0m in \u001b[0;36mprint_figure\u001b[0;34m(self, filename, dpi, facecolor, edgecolor, orientation, format, bbox_inches, pad_inches, bbox_extra_artists, backend, **kwargs)\u001b[0m\n\u001b[1;32m   2216\u001b[0m                     \u001b[0mbbox_inches_restore\u001b[0m\u001b[0;34m=\u001b[0m\u001b[0m_bbox_inches_restore\u001b[0m\u001b[0;34m,\u001b[0m\u001b[0;34m\u001b[0m\u001b[0;34m\u001b[0m\u001b[0m\n\u001b[0;32m-> 2217\u001b[0;31m                     **kwargs)\n\u001b[0m\u001b[1;32m   2218\u001b[0m             \u001b[0;32mfinally\u001b[0m\u001b[0;34m:\u001b[0m\u001b[0;34m\u001b[0m\u001b[0;34m\u001b[0m\u001b[0m\n",
      "\u001b[0;32m~/Packages/python/miniconda2/envs/pywave/lib/python3.6/site-packages/matplotlib/backend_bases.py\u001b[0m in \u001b[0;36mwrapper\u001b[0;34m(*args, **kwargs)\u001b[0m\n\u001b[1;32m   1638\u001b[0m \u001b[0;34m\u001b[0m\u001b[0m\n\u001b[0;32m-> 1639\u001b[0;31m         \u001b[0;32mreturn\u001b[0m \u001b[0mfunc\u001b[0m\u001b[0;34m(\u001b[0m\u001b[0;34m*\u001b[0m\u001b[0margs\u001b[0m\u001b[0;34m,\u001b[0m \u001b[0;34m**\u001b[0m\u001b[0mkwargs\u001b[0m\u001b[0;34m)\u001b[0m\u001b[0;34m\u001b[0m\u001b[0;34m\u001b[0m\u001b[0m\n\u001b[0m\u001b[1;32m   1640\u001b[0m \u001b[0;34m\u001b[0m\u001b[0m\n",
      "\u001b[0;32m~/Packages/python/miniconda2/envs/pywave/lib/python3.6/site-packages/matplotlib/backends/backend_agg.py\u001b[0m in \u001b[0;36mprint_raw\u001b[0;34m(self, filename_or_obj, *args)\u001b[0m\n\u001b[1;32m    455\u001b[0m         \u001b[0;32mwith\u001b[0m \u001b[0mcbook\u001b[0m\u001b[0;34m.\u001b[0m\u001b[0mopen_file_cm\u001b[0m\u001b[0;34m(\u001b[0m\u001b[0mfilename_or_obj\u001b[0m\u001b[0;34m,\u001b[0m \u001b[0;34m\"wb\"\u001b[0m\u001b[0;34m)\u001b[0m \u001b[0;32mas\u001b[0m \u001b[0mfh\u001b[0m\u001b[0;34m:\u001b[0m\u001b[0;34m\u001b[0m\u001b[0;34m\u001b[0m\u001b[0m\n\u001b[0;32m--> 456\u001b[0;31m             \u001b[0mfh\u001b[0m\u001b[0;34m.\u001b[0m\u001b[0mwrite\u001b[0m\u001b[0;34m(\u001b[0m\u001b[0mrenderer\u001b[0m\u001b[0;34m.\u001b[0m\u001b[0mbuffer_rgba\u001b[0m\u001b[0;34m(\u001b[0m\u001b[0;34m)\u001b[0m\u001b[0;34m)\u001b[0m\u001b[0;34m\u001b[0m\u001b[0;34m\u001b[0m\u001b[0m\n\u001b[0m\u001b[1;32m    457\u001b[0m \u001b[0;34m\u001b[0m\u001b[0m\n",
      "\u001b[0;31mBrokenPipeError\u001b[0m: [Errno 32] Broken pipe",
      "\nDuring handling of the above exception, another exception occurred:\n",
      "\u001b[0;31mCalledProcessError\u001b[0m                        Traceback (most recent call last)",
      "\u001b[0;32m<ipython-input-12-df4a6ada67b0>\u001b[0m in \u001b[0;36m<module>\u001b[0;34m\u001b[0m\n\u001b[0;32m----> 1\u001b[0;31m \u001b[0mms\u001b[0m\u001b[0;34m.\u001b[0m\u001b[0manimate_displacement\u001b[0m\u001b[0;34m(\u001b[0m\u001b[0;34m'figs/animation3.gif'\u001b[0m\u001b[0;34m)\u001b[0m\u001b[0;34m\u001b[0m\u001b[0;34m\u001b[0m\u001b[0m\n\u001b[0m",
      "\u001b[0;32m~/Github-Repos/pywave/pywave/scattering/scatterer_base.py\u001b[0m in \u001b[0;36manimate_displacement\u001b[0;34m(self, figname, **kwargs)\u001b[0m\n\u001b[1;32m    324\u001b[0m         \u001b[0mprint\u001b[0m\u001b[0;34m(\u001b[0m\u001b[0;34mf'Saving {figname}'\u001b[0m\u001b[0;34m)\u001b[0m\u001b[0;34m\u001b[0m\u001b[0;34m\u001b[0m\u001b[0m\n\u001b[1;32m    325\u001b[0m         \u001b[0mplt\u001b[0m\u001b[0;34m.\u001b[0m\u001b[0mclose\u001b[0m\u001b[0;34m(\u001b[0m\u001b[0;34m)\u001b[0m\u001b[0;34m\u001b[0m\u001b[0;34m\u001b[0m\u001b[0m\n\u001b[0;32m--> 326\u001b[0;31m         \u001b[0manim\u001b[0m\u001b[0;34m.\u001b[0m\u001b[0msave\u001b[0m\u001b[0;34m(\u001b[0m\u001b[0mfigname\u001b[0m\u001b[0;34m,\u001b[0m \u001b[0mfps\u001b[0m\u001b[0;34m=\u001b[0m\u001b[0;36m12\u001b[0m\u001b[0;34m)\u001b[0m\u001b[0;34m\u001b[0m\u001b[0;34m\u001b[0m\u001b[0m\n\u001b[0m",
      "\u001b[0;32m~/Packages/python/miniconda2/envs/pywave/lib/python3.6/site-packages/matplotlib/animation.py\u001b[0m in \u001b[0;36msave\u001b[0;34m(self, filename, writer, fps, dpi, codec, bitrate, extra_args, metadata, extra_anim, savefig_kwargs, progress_callback)\u001b[0m\n\u001b[1;32m   1159\u001b[0m                         \u001b[0mprogress_callback\u001b[0m\u001b[0;34m(\u001b[0m\u001b[0mframe_number\u001b[0m\u001b[0;34m,\u001b[0m \u001b[0mtotal_frames\u001b[0m\u001b[0;34m)\u001b[0m\u001b[0;34m\u001b[0m\u001b[0;34m\u001b[0m\u001b[0m\n\u001b[1;32m   1160\u001b[0m                         \u001b[0mframe_number\u001b[0m \u001b[0;34m+=\u001b[0m \u001b[0;36m1\u001b[0m\u001b[0;34m\u001b[0m\u001b[0;34m\u001b[0m\u001b[0m\n\u001b[0;32m-> 1161\u001b[0;31m                 \u001b[0mwriter\u001b[0m\u001b[0;34m.\u001b[0m\u001b[0mgrab_frame\u001b[0m\u001b[0;34m(\u001b[0m\u001b[0;34m**\u001b[0m\u001b[0msavefig_kwargs\u001b[0m\u001b[0;34m)\u001b[0m\u001b[0;34m\u001b[0m\u001b[0;34m\u001b[0m\u001b[0m\n\u001b[0m\u001b[1;32m   1162\u001b[0m \u001b[0;34m\u001b[0m\u001b[0m\n\u001b[1;32m   1163\u001b[0m     \u001b[0;32mdef\u001b[0m \u001b[0m_step\u001b[0m\u001b[0;34m(\u001b[0m\u001b[0mself\u001b[0m\u001b[0;34m,\u001b[0m \u001b[0;34m*\u001b[0m\u001b[0margs\u001b[0m\u001b[0;34m)\u001b[0m\u001b[0;34m:\u001b[0m\u001b[0;34m\u001b[0m\u001b[0;34m\u001b[0m\u001b[0m\n",
      "\u001b[0;32m~/Packages/python/miniconda2/envs/pywave/lib/python3.6/contextlib.py\u001b[0m in \u001b[0;36m__exit__\u001b[0;34m(self, type, value, traceback)\u001b[0m\n\u001b[1;32m     97\u001b[0m                 \u001b[0mvalue\u001b[0m \u001b[0;34m=\u001b[0m \u001b[0mtype\u001b[0m\u001b[0;34m(\u001b[0m\u001b[0;34m)\u001b[0m\u001b[0;34m\u001b[0m\u001b[0;34m\u001b[0m\u001b[0m\n\u001b[1;32m     98\u001b[0m             \u001b[0;32mtry\u001b[0m\u001b[0;34m:\u001b[0m\u001b[0;34m\u001b[0m\u001b[0;34m\u001b[0m\u001b[0m\n\u001b[0;32m---> 99\u001b[0;31m                 \u001b[0mself\u001b[0m\u001b[0;34m.\u001b[0m\u001b[0mgen\u001b[0m\u001b[0;34m.\u001b[0m\u001b[0mthrow\u001b[0m\u001b[0;34m(\u001b[0m\u001b[0mtype\u001b[0m\u001b[0;34m,\u001b[0m \u001b[0mvalue\u001b[0m\u001b[0;34m,\u001b[0m \u001b[0mtraceback\u001b[0m\u001b[0;34m)\u001b[0m\u001b[0;34m\u001b[0m\u001b[0;34m\u001b[0m\u001b[0m\n\u001b[0m\u001b[1;32m    100\u001b[0m             \u001b[0;32mexcept\u001b[0m \u001b[0mStopIteration\u001b[0m \u001b[0;32mas\u001b[0m \u001b[0mexc\u001b[0m\u001b[0;34m:\u001b[0m\u001b[0;34m\u001b[0m\u001b[0;34m\u001b[0m\u001b[0m\n\u001b[1;32m    101\u001b[0m                 \u001b[0;31m# Suppress StopIteration *unless* it's the same exception that\u001b[0m\u001b[0;34m\u001b[0m\u001b[0;34m\u001b[0m\u001b[0;34m\u001b[0m\u001b[0m\n",
      "\u001b[0;32m~/Packages/python/miniconda2/envs/pywave/lib/python3.6/site-packages/matplotlib/animation.py\u001b[0m in \u001b[0;36msaving\u001b[0;34m(self, fig, outfile, dpi, *args, **kwargs)\u001b[0m\n\u001b[1;32m    251\u001b[0m             \u001b[0;32myield\u001b[0m \u001b[0mself\u001b[0m\u001b[0;34m\u001b[0m\u001b[0;34m\u001b[0m\u001b[0m\n\u001b[1;32m    252\u001b[0m         \u001b[0;32mfinally\u001b[0m\u001b[0;34m:\u001b[0m\u001b[0;34m\u001b[0m\u001b[0;34m\u001b[0m\u001b[0m\n\u001b[0;32m--> 253\u001b[0;31m             \u001b[0mself\u001b[0m\u001b[0;34m.\u001b[0m\u001b[0mfinish\u001b[0m\u001b[0;34m(\u001b[0m\u001b[0;34m)\u001b[0m\u001b[0;34m\u001b[0m\u001b[0;34m\u001b[0m\u001b[0m\n\u001b[0m\u001b[1;32m    254\u001b[0m \u001b[0;34m\u001b[0m\u001b[0m\n\u001b[1;32m    255\u001b[0m \u001b[0;34m\u001b[0m\u001b[0m\n",
      "\u001b[0;32m~/Packages/python/miniconda2/envs/pywave/lib/python3.6/site-packages/matplotlib/animation.py\u001b[0m in \u001b[0;36mfinish\u001b[0;34m(self)\u001b[0m\n\u001b[1;32m    352\u001b[0m     \u001b[0;32mdef\u001b[0m \u001b[0mfinish\u001b[0m\u001b[0;34m(\u001b[0m\u001b[0mself\u001b[0m\u001b[0;34m)\u001b[0m\u001b[0;34m:\u001b[0m\u001b[0;34m\u001b[0m\u001b[0;34m\u001b[0m\u001b[0m\n\u001b[1;32m    353\u001b[0m         \u001b[0;34m\"\"\"Finish any processing for writing the movie.\"\"\"\u001b[0m\u001b[0;34m\u001b[0m\u001b[0;34m\u001b[0m\u001b[0m\n\u001b[0;32m--> 354\u001b[0;31m         \u001b[0mself\u001b[0m\u001b[0;34m.\u001b[0m\u001b[0mcleanup\u001b[0m\u001b[0;34m(\u001b[0m\u001b[0;34m)\u001b[0m\u001b[0;34m\u001b[0m\u001b[0;34m\u001b[0m\u001b[0m\n\u001b[0m\u001b[1;32m    355\u001b[0m \u001b[0;34m\u001b[0m\u001b[0m\n\u001b[1;32m    356\u001b[0m     \u001b[0;32mdef\u001b[0m \u001b[0mgrab_frame\u001b[0m\u001b[0;34m(\u001b[0m\u001b[0mself\u001b[0m\u001b[0;34m,\u001b[0m \u001b[0;34m**\u001b[0m\u001b[0msavefig_kwargs\u001b[0m\u001b[0;34m)\u001b[0m\u001b[0;34m:\u001b[0m\u001b[0;34m\u001b[0m\u001b[0;34m\u001b[0m\u001b[0m\n",
      "\u001b[0;32m~/Packages/python/miniconda2/envs/pywave/lib/python3.6/site-packages/matplotlib/animation.py\u001b[0m in \u001b[0;36mcleanup\u001b[0;34m(self)\u001b[0m\n\u001b[1;32m    389\u001b[0m         \u001b[0;32mif\u001b[0m \u001b[0mself\u001b[0m\u001b[0;34m.\u001b[0m\u001b[0m_proc\u001b[0m\u001b[0;34m.\u001b[0m\u001b[0mreturncode\u001b[0m\u001b[0;34m:\u001b[0m\u001b[0;34m\u001b[0m\u001b[0;34m\u001b[0m\u001b[0m\n\u001b[1;32m    390\u001b[0m             raise subprocess.CalledProcessError(\n\u001b[0;32m--> 391\u001b[0;31m                 self._proc.returncode, self._proc.args, out, err)\n\u001b[0m\u001b[1;32m    392\u001b[0m \u001b[0;34m\u001b[0m\u001b[0m\n\u001b[1;32m    393\u001b[0m     \u001b[0;34m@\u001b[0m\u001b[0mclassmethod\u001b[0m\u001b[0;34m\u001b[0m\u001b[0;34m\u001b[0m\u001b[0m\n",
      "\u001b[0;31mCalledProcessError\u001b[0m: Command '['ffmpeg', '-f', 'rawvideo', '-vcodec', 'rawvideo', '-s', '504x504', '-pix_fmt', 'rgba', '-r', '12', '-loglevel', 'error', '-i', 'pipe:', '-filter_complex', 'split [a][b];[a] palettegen [p];[b][p] paletteuse', '-y', 'figs/animation3.gif']' returned non-zero exit status 1."
     ]
    }
   ],
   "source": [
    "ms.animate_displacement('figs/animation3.gif')"
   ]
  },
  {
   "cell_type": "markdown",
   "id": "72fd8095",
   "metadata": {},
   "source": [
    "### Display animation of displacement\n",
    "![SegmentLocal](figs/animation3.gif \"segment\")"
   ]
  },
  {
   "cell_type": "markdown",
   "id": "322f5ba6",
   "metadata": {},
   "source": [
    "## TODO\n",
    "- improve plot (edges)\n",
    "- MS\n",
    "  - test_boundary_conditions (in base class)\n",
    "- superposition\n",
    "- time dependent?"
   ]
  },
  {
   "cell_type": "code",
   "execution_count": null,
   "id": "5c52d133",
   "metadata": {},
   "outputs": [],
   "source": []
  }
 ],
 "metadata": {
  "kernelspec": {
   "display_name": "Python 3",
   "language": "python",
   "name": "python3"
  },
  "language_info": {
   "codemirror_mode": {
    "name": "ipython",
    "version": 3
   },
   "file_extension": ".py",
   "mimetype": "text/x-python",
   "name": "python",
   "nbconvert_exporter": "python",
   "pygments_lexer": "ipython3",
   "version": "3.6.13"
  }
 },
 "nbformat": 4,
 "nbformat_minor": 5
}
