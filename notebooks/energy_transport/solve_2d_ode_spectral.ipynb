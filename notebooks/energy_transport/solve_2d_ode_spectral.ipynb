{
 "cells": [
  {
   "cell_type": "code",
   "execution_count": 1,
   "id": "7e367f38",
   "metadata": {},
   "outputs": [],
   "source": [
    "from matplotlib import pyplot as plt\n",
    "from pywave.energy_transport.lib import solve_2d_ode_spectral, get_evec, get_evec_aux\n",
    "import numpy as np"
   ]
  },
  {
   "cell_type": "code",
   "execution_count": 2,
   "id": "280c8406",
   "metadata": {},
   "outputs": [],
   "source": [
    "def get_lams_evecs(a, b, c, d):\n",
    "    \"\"\"\n",
    "    return eigenvalues and eigenvectors calculated with numpy\n",
    "    eigenvectors in rows\n",
    "    \"\"\"\n",
    "    mat = np.array([[a[0],b[0]],[c[0],d[0]]])\n",
    "    lams, evecs = np.linalg.eig(mat)\n",
    "    lams = lams.real\n",
    "    evecs = evecs.real.T # eigenvectors now in rows\n",
    "    for lam, evec in zip(lams, evecs):\n",
    "        print(lam, evec)\n",
    "    return lams, evecs"
   ]
  },
  {
   "cell_type": "markdown",
   "id": "fcc72a73",
   "metadata": {},
   "source": [
    "# Diagonal matrix operators\n",
    "- simple exponential decay for eigenvectors"
   ]
  },
  {
   "cell_type": "code",
   "execution_count": 5,
   "id": "ba04a695",
   "metadata": {},
   "outputs": [],
   "source": [
    "u0 = np.array([1.])\n",
    "v0 = np.array([1.])\n",
    "gamma = .1\n",
    "a = np.full_like(u0, -gamma)\n",
    "b = np.zeros_like(u0)\n",
    "c = np.zeros_like(u0)\n",
    "d = np.zeros_like(u0) # v won't change here"
   ]
  },
  {
   "cell_type": "code",
   "execution_count": 4,
   "id": "928ac5f8",
   "metadata": {
    "scrolled": false
   },
   "outputs": [
    {
     "data": {
      "text/plain": [
       "(array([[1.        ],\n",
       "        [0.90483742],\n",
       "        [0.81873075],\n",
       "        [0.74081822],\n",
       "        [0.67032005],\n",
       "        [0.60653066],\n",
       "        [0.54881164],\n",
       "        [0.4965853 ],\n",
       "        [0.44932896],\n",
       "        [0.40656966]]),\n",
       " array([[1.],\n",
       "        [1.],\n",
       "        [1.],\n",
       "        [1.],\n",
       "        [1.],\n",
       "        [1.],\n",
       "        [1.],\n",
       "        [1.],\n",
       "        [1.],\n",
       "        [1.]]))"
      ]
     },
     "execution_count": 4,
     "metadata": {},
     "output_type": "execute_result"
    }
   ],
   "source": [
    "t = np.arange(10)\n",
    "u,v = solve_2d_ode_spectral(u0, v0, t, a, b, c, d)\n",
    "u,v"
   ]
  },
  {
   "cell_type": "code",
   "execution_count": 6,
   "id": "ba724bcf",
   "metadata": {},
   "outputs": [
    {
     "data": {
      "text/plain": [
       "[<matplotlib.lines.Line2D at 0x7fb4d0213400>]"
      ]
     },
     "execution_count": 6,
     "metadata": {},
     "output_type": "execute_result"
    },
    {
     "data": {
      "image/png": "[encoded data removed]",
      "text/plain": [
       "<Figure size 432x288 with 1 Axes>"
      ]
     },
     "metadata": {
      "needs_background": "light"
     },
     "output_type": "display_data"
    }
   ],
   "source": [
    "plt.plot(t,np.exp(-gamma*t))\n",
    "plt.plot(t,u,'--r')"
   ]
  },
  {
   "cell_type": "code",
   "execution_count": 10,
   "id": "9441d7cb",
   "metadata": {},
   "outputs": [],
   "source": [
    "u0 = np.array([1.])\n",
    "v0 = np.array([1.])\n",
    "a = np.full_like(u0, -gamma)\n",
    "b = np.zeros_like(u0)\n",
    "c = np.zeros_like(u0)\n",
    "d = np.full_like(u0, -gamma)"
   ]
  },
  {
   "cell_type": "code",
   "execution_count": 11,
   "id": "d9476c93",
   "metadata": {},
   "outputs": [
    {
     "data": {
      "text/plain": [
       "(array([[1.        ],\n",
       "        [0.90483742],\n",
       "        [0.81873075],\n",
       "        [0.74081822],\n",
       "        [0.67032005],\n",
       "        [0.60653066],\n",
       "        [0.54881164],\n",
       "        [0.4965853 ],\n",
       "        [0.44932896],\n",
       "        [0.40656966]]),\n",
       " array([[1.        ],\n",
       "        [0.90483742],\n",
       "        [0.81873075],\n",
       "        [0.74081822],\n",
       "        [0.67032005],\n",
       "        [0.60653066],\n",
       "        [0.54881164],\n",
       "        [0.4965853 ],\n",
       "        [0.44932896],\n",
       "        [0.40656966]]))"
      ]
     },
     "execution_count": 11,
     "metadata": {},
     "output_type": "execute_result"
    }
   ],
   "source": [
    "t = np.arange(10)\n",
    "u,v = solve_2d_ode_spectral(u0, v0, t, a, b, c, d)\n",
    "u,v"
   ]
  },
  {
   "cell_type": "markdown",
   "id": "021c173e",
   "metadata": {},
   "source": [
    "# Isotropic scattering\n",
    "- no change for 1st eigenvector\n",
    "- exponential decay for 2nd eigenvector"
   ]
  },
  {
   "cell_type": "code",
   "execution_count": 12,
   "id": "85396ac9",
   "metadata": {},
   "outputs": [
    {
     "name": "stdout",
     "output_type": "stream",
     "text": [
      "((array([-0.1]), array([0.1])), (array([0.1]), array([-0.1])))\n"
     ]
    }
   ],
   "source": [
    "# isotropic case - exponential decay for 2nd eigenvector\n",
    "u0 = np.array([1.])\n",
    "v0 = -np.array([1.])\n",
    "alpha = .1\n",
    "gamma = 0\n",
    "a = np.full_like(u0, -alpha -gamma)\n",
    "b = np.full_like(u0, alpha)\n",
    "c = np.full_like(u0, alpha)\n",
    "d = np.full_like(u0, -alpha -gamma)\n",
    "print(((a,b),(c,d)))"
   ]
  },
  {
   "cell_type": "code",
   "execution_count": 13,
   "id": "07cf5ca1",
   "metadata": {},
   "outputs": [
    {
     "name": "stdout",
     "output_type": "stream",
     "text": [
      "0.0 [0.70710678 0.70710678]\n",
      "-0.2 [-0.70710678  0.70710678]\n"
     ]
    }
   ],
   "source": [
    "lams, (evec0, evec1) = get_lams_evecs(a, b, c, d)"
   ]
  },
  {
   "cell_type": "code",
   "execution_count": 14,
   "id": "c3541c2a",
   "metadata": {},
   "outputs": [
    {
     "data": {
      "text/plain": [
       "(array([[1.        ],\n",
       "        [0.81873075],\n",
       "        [0.67032005],\n",
       "        [0.54881164],\n",
       "        [0.44932896],\n",
       "        [0.36787944],\n",
       "        [0.30119421],\n",
       "        [0.24659696],\n",
       "        [0.20189652],\n",
       "        [0.16529889]]),\n",
       " array([[-1.        ],\n",
       "        [-0.81873075],\n",
       "        [-0.67032005],\n",
       "        [-0.54881164],\n",
       "        [-0.44932896],\n",
       "        [-0.36787944],\n",
       "        [-0.30119421],\n",
       "        [-0.24659696],\n",
       "        [-0.20189652],\n",
       "        [-0.16529889]]))"
      ]
     },
     "execution_count": 14,
     "metadata": {},
     "output_type": "execute_result"
    }
   ],
   "source": [
    "t = np.arange(10)\n",
    "u,v = solve_2d_ode_spectral(u0, v0, t, a, b, c, d)\n",
    "u,v"
   ]
  },
  {
   "cell_type": "code",
   "execution_count": 15,
   "id": "a19c684c",
   "metadata": {},
   "outputs": [
    {
     "data": {
      "text/plain": [
       "[<matplotlib.lines.Line2D at 0x7fb4c80fed30>]"
      ]
     },
     "execution_count": 15,
     "metadata": {},
     "output_type": "execute_result"
    },
    {
     "data": {
      "image/png": "[encoded data removed]",
      "text/plain": [
       "<Figure size 432x288 with 1 Axes>"
      ]
     },
     "metadata": {
      "needs_background": "light"
     },
     "output_type": "display_data"
    }
   ],
   "source": [
    "plt.plot(t,np.exp(lams[1]*t))\n",
    "plt.plot(t,u,'--r')"
   ]
  },
  {
   "cell_type": "code",
   "execution_count": 16,
   "id": "6e11c219",
   "metadata": {},
   "outputs": [
    {
     "data": {
      "text/plain": [
       "[<matplotlib.lines.Line2D at 0x7fb4c80f14a8>]"
      ]
     },
     "execution_count": 16,
     "metadata": {},
     "output_type": "execute_result"
    },
    {
     "data": {
      "image/png": "[encoded data removed]",
      "text/plain": [
       "<Figure size 432x288 with 1 Axes>"
      ]
     },
     "metadata": {
      "needs_background": "light"
     },
     "output_type": "display_data"
    }
   ],
   "source": [
    "plt.plot(t,-np.exp(lams[1]*t))\n",
    "plt.plot(t,v,'--r')"
   ]
  },
  {
   "cell_type": "code",
   "execution_count": 17,
   "id": "84ede15d",
   "metadata": {},
   "outputs": [
    {
     "data": {
      "text/plain": [
       "(array([[1.],\n",
       "        [1.],\n",
       "        [1.],\n",
       "        [1.],\n",
       "        [1.],\n",
       "        [1.],\n",
       "        [1.],\n",
       "        [1.],\n",
       "        [1.],\n",
       "        [1.]]),\n",
       " array([[1.],\n",
       "        [1.],\n",
       "        [1.],\n",
       "        [1.],\n",
       "        [1.],\n",
       "        [1.],\n",
       "        [1.],\n",
       "        [1.],\n",
       "        [1.],\n",
       "        [1.]]))"
      ]
     },
     "execution_count": 17,
     "metadata": {},
     "output_type": "execute_result"
    }
   ],
   "source": [
    "# isotropic case - nothing happens to zero eigenvector\n",
    "u0 = np.array([1.])\n",
    "v0 = np.array([1.])\n",
    "t = np.arange(10)\n",
    "u,v = solve_2d_ode_spectral(u0, v0, t, a, b, c, d)\n",
    "u,v"
   ]
  },
  {
   "cell_type": "markdown",
   "id": "d9eb580c",
   "metadata": {},
   "source": [
    "# Anisotropic scattering\n",
    "- with no dissipation\n",
    "  - eigenvector is unchanged\n",
    "  - auxiliary vector (orthogonal to eigenvector) grows linearly\n",
    "- with dissipation\n",
    "  - both decay exponentially with attenuation coefficient $\\gamma$"
   ]
  },
  {
   "cell_type": "code",
   "execution_count": 18,
   "id": "9d66b45c",
   "metadata": {},
   "outputs": [
    {
     "name": "stdout",
     "output_type": "stream",
     "text": [
      "((array([-0.2]), array([-0.1])), (array([0.1]), array([0.])))\n"
     ]
    }
   ],
   "source": [
    "# anisotropic case with dissipation - exponential decay for eigenvector\n",
    "u0 = np.array([1.])\n",
    "v0 = -np.array([1.])\n",
    "alpha = .1\n",
    "gamma = 0.1\n",
    "a = np.full_like(u0, -alpha - gamma)\n",
    "b = np.full_like(u0, -alpha)\n",
    "c = np.full_like(u0, alpha)\n",
    "d = np.full_like(u0, alpha - gamma)\n",
    "print(((a,b),(c,d)))"
   ]
  },
  {
   "cell_type": "code",
   "execution_count": 19,
   "id": "3ef67f84",
   "metadata": {},
   "outputs": [
    {
     "name": "stdout",
     "output_type": "stream",
     "text": [
      "-0.1 [-0.70710678  0.70710678]\n",
      "-0.1 [-0.70710678  0.70710678]\n"
     ]
    }
   ],
   "source": [
    "lams, (evec0, evec1) = get_lams_evecs(a, b, c, d)"
   ]
  },
  {
   "cell_type": "code",
   "execution_count": 20,
   "id": "a035f1e4",
   "metadata": {},
   "outputs": [
    {
     "data": {
      "text/plain": [
       "(array([[1.        ],\n",
       "        [0.90483742],\n",
       "        [0.81873075],\n",
       "        [0.74081822],\n",
       "        [0.67032005],\n",
       "        [0.60653066],\n",
       "        [0.54881164],\n",
       "        [0.4965853 ],\n",
       "        [0.44932896],\n",
       "        [0.40656966]]),\n",
       " array([[-1.        ],\n",
       "        [-0.90483742],\n",
       "        [-0.81873075],\n",
       "        [-0.74081822],\n",
       "        [-0.67032005],\n",
       "        [-0.60653066],\n",
       "        [-0.54881164],\n",
       "        [-0.4965853 ],\n",
       "        [-0.44932896],\n",
       "        [-0.40656966]]))"
      ]
     },
     "execution_count": 20,
     "metadata": {},
     "output_type": "execute_result"
    }
   ],
   "source": [
    "t = np.arange(10)\n",
    "u,v = solve_2d_ode_spectral(u0, v0, t, a, b, c, d)\n",
    "u,v"
   ]
  },
  {
   "cell_type": "code",
   "execution_count": 21,
   "id": "06739d90",
   "metadata": {},
   "outputs": [
    {
     "data": {
      "text/plain": [
       "[<matplotlib.lines.Line2D at 0x7fb4c80509e8>]"
      ]
     },
     "execution_count": 21,
     "metadata": {},
     "output_type": "execute_result"
    },
    {
     "data": {
      "image/png": "[encoded data removed]",
      "text/plain": [
       "<Figure size 432x288 with 1 Axes>"
      ]
     },
     "metadata": {
      "needs_background": "light"
     },
     "output_type": "display_data"
    }
   ],
   "source": [
    "plt.plot(t,np.exp(lams[1]*t))\n",
    "plt.plot(t,u,'--r')"
   ]
  },
  {
   "cell_type": "code",
   "execution_count": 22,
   "id": "c73570ce",
   "metadata": {},
   "outputs": [
    {
     "data": {
      "text/plain": [
       "[<matplotlib.lines.Line2D at 0x7fb4c7fb8898>]"
      ]
     },
     "execution_count": 22,
     "metadata": {},
     "output_type": "execute_result"
    },
    {
     "data": {
      "image/png": "[encoded data removed]",
      "text/plain": [
       "<Figure size 432x288 with 1 Axes>"
      ]
     },
     "metadata": {
      "needs_background": "light"
     },
     "output_type": "display_data"
    }
   ],
   "source": [
    "plt.plot(t,-np.exp(lams[1]*t))\n",
    "plt.plot(t,v,'--r')"
   ]
  },
  {
   "cell_type": "code",
   "execution_count": 23,
   "id": "7e874604",
   "metadata": {},
   "outputs": [
    {
     "data": {
      "text/plain": [
       "(array([-0.70710678]),\n",
       " array([0.70710678]),\n",
       " array([0.70710678]),\n",
       " array([0.70710678]))"
      ]
     },
     "execution_count": 23,
     "metadata": {},
     "output_type": "execute_result"
    }
   ],
   "source": [
    "ev0, ev1, aux0, aux1, aux_fac = get_evec_aux(lams[:1],a,b,c,d)\n",
    "ev0, ev1, aux0, aux1"
   ]
  },
  {
   "cell_type": "code",
   "execution_count": 24,
   "id": "0a82221b",
   "metadata": {},
   "outputs": [
    {
     "data": {
      "text/plain": [
       "(array([0.]), array([0.]))"
      ]
     },
     "execution_count": 24,
     "metadata": {},
     "output_type": "execute_result"
    }
   ],
   "source": [
    "# check eigenvector is found correctly\n",
    "(a-lams[0])*ev0 + b*ev1, c*ev0 + (d-lams[0])*ev1"
   ]
  },
  {
   "cell_type": "code",
   "execution_count": 25,
   "id": "3ba9eeaa",
   "metadata": {},
   "outputs": [
    {
     "name": "stdout",
     "output_type": "stream",
     "text": [
      "[-0.14142136] [0.14142136]\n",
      "[-0.14142136  0.14142136]\n"
     ]
    }
   ],
   "source": [
    "# check aux sat's the right equation\n",
    "print((a-lams[0])*aux0 + b*aux1, c*aux0 + (d-lams[0])*aux1)\n",
    "print(aux_fac*evec0)"
   ]
  },
  {
   "cell_type": "code",
   "execution_count": 26,
   "id": "63c91a4f",
   "metadata": {},
   "outputs": [
    {
     "data": {
      "text/plain": [
       "(array([[ 1.00000000e+00],\n",
       "        [ 7.23869934e-01],\n",
       "        [ 4.91238452e-01],\n",
       "        [ 2.96327288e-01],\n",
       "        [ 1.34064009e-01],\n",
       "        [-1.11022302e-16],\n",
       "        [-1.09762327e-01],\n",
       "        [-1.98634122e-01],\n",
       "        [-2.69597378e-01],\n",
       "        [-3.25255728e-01]]),\n",
       " array([[1.        ],\n",
       "        [1.0858049 ],\n",
       "        [1.14622305],\n",
       "        [1.18530915],\n",
       "        [1.20657608],\n",
       "        [1.21306132],\n",
       "        [1.2073856 ],\n",
       "        [1.19180473],\n",
       "        [1.16825531],\n",
       "        [1.13839505]]))"
      ]
     },
     "execution_count": 26,
     "metadata": {},
     "output_type": "execute_result"
    }
   ],
   "source": [
    "# anisotropic case with dissipation - exp(lam*t)*(aux_fac*t*ev+aux) evolution for auxiliary vector\n",
    "u0 = np.array([1.])\n",
    "v0 = np.array([1.])\n",
    "t = np.arange(10)\n",
    "u,v = solve_2d_ode_spectral(u0, v0, t, a, b, c, d)\n",
    "u,v"
   ]
  },
  {
   "cell_type": "code",
   "execution_count": 27,
   "id": "2e84236f",
   "metadata": {},
   "outputs": [
    {
     "data": {
      "text/plain": [
       "[<matplotlib.lines.Line2D at 0x7fb4c7f72278>]"
      ]
     },
     "execution_count": 27,
     "metadata": {},
     "output_type": "execute_result"
    },
    {
     "data": {
      "image/png": "[encoded data removed]",
      "text/plain": [
       "<Figure size 432x288 with 1 Axes>"
      ]
     },
     "metadata": {
      "needs_background": "light"
     },
     "output_type": "display_data"
    }
   ],
   "source": [
    "coef = (aux0*u0 + aux1*v0)\n",
    "u_exact = coef[0]*np.exp(lams[1]*t)*(aux_fac[0]*t*ev0[0]+aux0[0])\n",
    "plt.plot(t,u_exact)\n",
    "plt.plot(t,u,'--r')"
   ]
  },
  {
   "cell_type": "code",
   "execution_count": 28,
   "id": "c5a511ff",
   "metadata": {},
   "outputs": [
    {
     "data": {
      "text/plain": [
       "[<matplotlib.lines.Line2D at 0x7fb4c7f56ef0>]"
      ]
     },
     "execution_count": 28,
     "metadata": {},
     "output_type": "execute_result"
    },
    {
     "data": {
      "image/png": "[encoded data removed]",
      "text/plain": [
       "<Figure size 432x288 with 1 Axes>"
      ]
     },
     "metadata": {
      "needs_background": "light"
     },
     "output_type": "display_data"
    }
   ],
   "source": [
    "v_exact = coef[0]*np.exp(lams[1]*t)*(aux_fac[0]*t*ev1[0]+aux1[0])\n",
    "plt.plot(t,v_exact)\n",
    "plt.plot(t,v,'--r')"
   ]
  },
  {
   "cell_type": "code",
   "execution_count": 29,
   "id": "5f553cfb",
   "metadata": {},
   "outputs": [
    {
     "name": "stdout",
     "output_type": "stream",
     "text": [
      "((array([-0.1]), array([-0.1])), (array([0.1]), array([0.1])))\n"
     ]
    }
   ],
   "source": [
    "# anisotropic case with no dissipation - no change to eigenvector\n",
    "u0 = np.array([1.])\n",
    "v0 = -np.array([1.])\n",
    "alpha = .1\n",
    "gamma = 0\n",
    "a = np.full_like(u0, -alpha-gamma)\n",
    "b = np.full_like(u0, -alpha)\n",
    "c = np.full_like(u0, alpha)\n",
    "d = np.full_like(u0, alpha-gamma)\n",
    "print(((a,b),(c,d)))"
   ]
  },
  {
   "cell_type": "code",
   "execution_count": 30,
   "id": "16fdb30a",
   "metadata": {},
   "outputs": [
    {
     "name": "stdout",
     "output_type": "stream",
     "text": [
      "2.874183962866365e-18 [-0.70710678  0.70710678]\n",
      "2.874183962866365e-18 [-0.70710678  0.70710678]\n"
     ]
    }
   ],
   "source": [
    "lams, evecs = get_lams_evecs(a, b, c, d)"
   ]
  },
  {
   "cell_type": "code",
   "execution_count": 31,
   "id": "cef01bf3",
   "metadata": {},
   "outputs": [
    {
     "data": {
      "text/plain": [
       "(array([[1.],\n",
       "        [1.],\n",
       "        [1.],\n",
       "        [1.],\n",
       "        [1.],\n",
       "        [1.],\n",
       "        [1.],\n",
       "        [1.],\n",
       "        [1.],\n",
       "        [1.]]),\n",
       " array([[-1.],\n",
       "        [-1.],\n",
       "        [-1.],\n",
       "        [-1.],\n",
       "        [-1.],\n",
       "        [-1.],\n",
       "        [-1.],\n",
       "        [-1.],\n",
       "        [-1.],\n",
       "        [-1.]]))"
      ]
     },
     "execution_count": 31,
     "metadata": {},
     "output_type": "execute_result"
    }
   ],
   "source": [
    "t = np.arange(10)\n",
    "u,v = solve_2d_ode_spectral(u0, v0, t, a, b, c, d)\n",
    "u,v"
   ]
  },
  {
   "cell_type": "code",
   "execution_count": 32,
   "id": "7919a14f",
   "metadata": {},
   "outputs": [
    {
     "data": {
      "text/plain": [
       "(array([[ 1.00000000e+00],\n",
       "        [ 8.00000000e-01],\n",
       "        [ 6.00000000e-01],\n",
       "        [ 4.00000000e-01],\n",
       "        [ 2.00000000e-01],\n",
       "        [-2.22044605e-16],\n",
       "        [-2.00000000e-01],\n",
       "        [-4.00000000e-01],\n",
       "        [-6.00000000e-01],\n",
       "        [-8.00000000e-01]]),\n",
       " array([[1. ],\n",
       "        [1.2],\n",
       "        [1.4],\n",
       "        [1.6],\n",
       "        [1.8],\n",
       "        [2. ],\n",
       "        [2.2],\n",
       "        [2.4],\n",
       "        [2.6],\n",
       "        [2.8]]))"
      ]
     },
     "execution_count": 32,
     "metadata": {},
     "output_type": "execute_result"
    }
   ],
   "source": [
    "# anisotropic case with no dissipation - auxiliary vector grows linearly\n",
    "u0 = np.array([1.])\n",
    "v0 = np.array([1.])\n",
    "t = np.arange(10)\n",
    "u,v = solve_2d_ode_spectral(u0, v0, t, a, b, c, d)\n",
    "u,v"
   ]
  },
  {
   "cell_type": "code",
   "execution_count": 33,
   "id": "667712dd",
   "metadata": {},
   "outputs": [
    {
     "data": {
      "text/plain": [
       "[<matplotlib.lines.Line2D at 0x7fb4c7f43278>]"
      ]
     },
     "execution_count": 33,
     "metadata": {},
     "output_type": "execute_result"
    },
    {
     "data": {
      "image/png": "[encoded data removed]",
      "text/plain": [
       "<Figure size 432x288 with 1 Axes>"
      ]
     },
     "metadata": {
      "needs_background": "light"
     },
     "output_type": "display_data"
    }
   ],
   "source": [
    "ev0, ev1, aux0, aux1, aux_fac = get_evec_aux(lams[:1],a,b,c,d)\n",
    "coef = (aux0*u0 + aux1*v0)\n",
    "u_exact = coef[0]*np.exp(lams[1]*t)*(aux_fac[0]*t*ev0[0]+aux0[0])\n",
    "plt.plot(t,u_exact)\n",
    "plt.plot(t,u,'--r')"
   ]
  },
  {
   "cell_type": "code",
   "execution_count": 34,
   "id": "5e085e54",
   "metadata": {},
   "outputs": [
    {
     "data": {
      "text/plain": [
       "[<matplotlib.lines.Line2D at 0x7fb4c7f1fb38>]"
      ]
     },
     "execution_count": 34,
     "metadata": {},
     "output_type": "execute_result"
    },
    {
     "data": {
      "image/png": "[encoded data removed]",
      "text/plain": [
       "<Figure size 432x288 with 1 Axes>"
      ]
     },
     "metadata": {
      "needs_background": "light"
     },
     "output_type": "display_data"
    }
   ],
   "source": [
    "v_exact = coef[0]*np.exp(lams[1]*t)*(aux_fac[0]*t*ev1[0]+aux1[0])\n",
    "plt.plot(t,v_exact)\n",
    "plt.plot(t,v,'--r')"
   ]
  },
  {
   "cell_type": "code",
   "execution_count": null,
   "id": "cfa8be95",
   "metadata": {},
   "outputs": [],
   "source": []
  }
 ],
 "metadata": {
  "kernelspec": {
   "display_name": "Python 3",
   "language": "python",
   "name": "python3"
  },
  "language_info": {
   "codemirror_mode": {
    "name": "ipython",
    "version": 3
   },
   "file_extension": ".py",
   "mimetype": "text/x-python",
   "name": "python",
   "nbconvert_exporter": "python",
   "pygments_lexer": "ipython3",
   "version": "3.6.9"
  }
 },
 "nbformat": 4,
 "nbformat_minor": 5
}
