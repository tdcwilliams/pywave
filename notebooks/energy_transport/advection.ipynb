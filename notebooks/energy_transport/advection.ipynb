{
 "cells": [
  {
   "cell_type": "code",
   "execution_count": 1,
   "id": "bcf5cbd3",
   "metadata": {},
   "outputs": [],
   "source": [
    "import os\n",
    "import numpy as np\n",
    "from matplotlib import pyplot as plt"
   ]
  },
  {
   "cell_type": "code",
   "execution_count": 2,
   "id": "6e41e1dd",
   "metadata": {},
   "outputs": [],
   "source": [
    "class Advect1D:\n",
    "    \n",
    "    def __init__(self, dx, dt, scheme='lax_wendroff', limiter=None):\n",
    "        self.dx = dx\n",
    "        self.dt = dt\n",
    "        self.flux = {\n",
    "            'first_order_upwind' : self.flux_fou,\n",
    "            'lax_friedrichs' : self.flux_lax_friedrichs,\n",
    "            'lax_wendroff' : self.flux_lax_wendroff,\n",
    "        }[scheme]\n",
    "        self.limiter = {\n",
    "            None : (lambda x : 1), # no limiting\n",
    "            'van_leer' : self.limiter_van_leer,\n",
    "            'superbee' : self.limiter_superbee,\n",
    "            }[limiter]\n",
    "\n",
    "\n",
    "    @staticmethod\n",
    "    def diffl(u):\n",
    "        d = np.zeros_like(u)\n",
    "        d[1:] = np.diff(u)\n",
    "        return d\n",
    "    \n",
    "        \n",
    "    @staticmethod\n",
    "    def diffr(u):\n",
    "        d = np.zeros_like(u)\n",
    "        d[:-1] = np.diff(u)\n",
    "        return d\n",
    "\n",
    "\n",
    "    @staticmethod\n",
    "    def suml(u):\n",
    "        s = np.zeros_like(u)\n",
    "        s[0] = 2*u[0]\n",
    "        s[1:] = u[1:] + u[:-1]\n",
    "        return s\n",
    "    \n",
    "        \n",
    "    @staticmethod\n",
    "    def sumr(u):\n",
    "        s = np.zeros_like(u)\n",
    "        s[:-1] = u[:-1] + u[1:]\n",
    "        s[-1] = 2*u[-1]\n",
    "        return s\n",
    "\n",
    "    \n",
    "    @staticmethod\n",
    "    def min(u, v):\n",
    "        \"\"\"\n",
    "        min function that works for vectors as well as floats\n",
    "        \n",
    "        Parameters:\n",
    "        -----------\n",
    "        u : float or numpy.ndarray\n",
    "        v : float or numpy.ndarray\n",
    "        \n",
    "        Returns:\n",
    "        --------\n",
    "        min_uv : float or numpy.ndarray\n",
    "        \"\"\"\n",
    "        return .5*(u+v - np.abs(u-v))\n",
    "\n",
    "\n",
    "    @staticmethod\n",
    "    def max(u, v):\n",
    "        \"\"\"\n",
    "        max function that works for vectors as well as floats\n",
    "        \n",
    "        Parameters:\n",
    "        -----------\n",
    "        u : float or numpy.ndarray\n",
    "        v : float or numpy.ndarray\n",
    "        \n",
    "        Returns:\n",
    "        --------\n",
    "        max_uv : float or numpy.ndarray\n",
    "        \"\"\"\n",
    "        return .5*(u+v + np.abs(u-v))\n",
    "\n",
    "\n",
    "    def flux_fou(self, u, c):\n",
    "        \"\"\"\n",
    "        flux for first order upwind\n",
    "        \n",
    "        Parameters:\n",
    "        -----------\n",
    "        u : numpy.ndarray\n",
    "            quantity to be advected\n",
    "        c : float or numpy.ndarray\n",
    "            velocity\n",
    "        \n",
    "        Returns:\n",
    "        --------\n",
    "        flux : numpy.ndarray\n",
    "        \"\"\"\n",
    "        return c*u\n",
    "\n",
    "\n",
    "    def flux_lax_friedrichs(self, u, c):\n",
    "        \"\"\"\n",
    "        flux for Lax-Friedrichs - central diference, 1st order\n",
    "        \n",
    "        Parameters:\n",
    "        -----------\n",
    "        u : numpy.ndarray\n",
    "            quantity to be advected\n",
    "        c : float or numpy.ndarray\n",
    "            velocity\n",
    "        \n",
    "        Returns:\n",
    "        --------\n",
    "        flux : numpy.ndarray\n",
    "        \"\"\"\n",
    "        r = self.dx/self.dt\n",
    "        return .5*(c*self.sumr(u)-r*self.diffr(u))\n",
    "\n",
    "\n",
    "    def flux_lax_wendroff(self, u, c):\n",
    "        \"\"\"\n",
    "        flux for Lax-Wendroff - direct space-time, 2nd order\n",
    "        \n",
    "        Parameters:\n",
    "        -----------\n",
    "        u : numpy.ndarray\n",
    "            quantity to be advected\n",
    "        c : float or numpy.ndarray\n",
    "            velocity\n",
    "        \n",
    "        Returns:\n",
    "        --------\n",
    "        flux : numpy.ndarray\n",
    "        \"\"\"\n",
    "        cfl = c * self.dt / self.dx\n",
    "        return .5*c*( self.sumr(u) - cfl*self.diffr(u) )\n",
    "\n",
    "\n",
    "    @staticmethod\n",
    "    def limiter_van_leer(theta):\n",
    "        \"\"\"\n",
    "        van Leer flux limiter\n",
    "        \n",
    "        Parameters:\n",
    "        -----------\n",
    "        theta : numpy.ndarray\n",
    "        \n",
    "        Returns:\n",
    "        --------\n",
    "        phi : numpy.ndarray\n",
    "            weighting for high-order flux\n",
    "            - 1 means use high-order flux, 0 means use first-order upwind\n",
    "        \"\"\"\n",
    "        return (theta + np.abs(theta))/(1 + np.abs(theta))\n",
    "    \n",
    " \n",
    "    def limiter_superbee(self, theta):\n",
    "        \"\"\"\n",
    "        Superbee flux limiter\n",
    "        \n",
    "        Parameters:\n",
    "        -----------\n",
    "        theta : numpy.ndarray\n",
    "        \n",
    "        Returns:\n",
    "        --------\n",
    "        phi : numpy.ndarray\n",
    "            weighting for high-order flux\n",
    "            - 1 means use high-order flux, 0 means use first-order upwind\n",
    "        \"\"\"\n",
    "        return self.max(0, self.max(\n",
    "            self.min(1, 2*theta), self.min(theta, 2)\n",
    "            ))\n",
    "\n",
    "\n",
    "    def limited_flux(self, u, c):\n",
    "        \"\"\"\n",
    "        Return limited flux to prevent oscillations from high-order flux.\n",
    "        The limiting can be deactivated by instantiating object with limiter=None\n",
    "        (then self.limiter=1 so only the high-order flux is used).\n",
    "        \n",
    "        Parameters:\n",
    "        -----------\n",
    "        u : numpy.ndarray\n",
    "            quantity to be advected\n",
    "        c : float or numpy.ndarray\n",
    "            velocity\n",
    "        \n",
    "        Returns:\n",
    "        --------\n",
    "        flux : numpy.ndarray\n",
    "        \"\"\"\n",
    "        theta = self.diffl(u)/(self.diffr(u)+3.e-14)\n",
    "        phi = self.limiter(theta)\n",
    "        return c*u + phi*(self.flux(u, c) - c*u)\n",
    " \n",
    "\n",
    "    def advect(self, u, c):\n",
    "        \"\"\"\n",
    "        Advect u for one time step.\n",
    "        \n",
    "        Parameters:\n",
    "        -----------\n",
    "        u : numpy.ndarray\n",
    "            quantity to be advected\n",
    "        c : float or numpy.ndarray\n",
    "            velocity\n",
    "        \n",
    "        Returns:\n",
    "        --------\n",
    "        u_new : numpy.ndarray\n",
    "            updated quantity\n",
    "        \"\"\"\n",
    "        f  = self.limited_flux(u, c)\n",
    "        return u - self.dt*self.diffl(f)/self.dx"
   ]
  },
  {
   "cell_type": "markdown",
   "id": "0978399b",
   "metadata": {},
   "source": [
    "## First-order upwind\n",
    "Let $\\mathcal{C}=c\\Delta t/\\Delta x$.\n",
    "\\begin{align}\n",
    "u^{n+1}_i = u^{n}_i\n",
    "- \\mathcal{C}\n",
    "\\left(u^{n}_{i} - u^{n}_{i-1}\\right).\n",
    "\\end{align}"
   ]
  },
  {
   "cell_type": "markdown",
   "id": "0e947a86",
   "metadata": {},
   "source": [
    "## Lax-Wendroff\n",
    "Let $\\mathcal{C}=c\\Delta t/\\Delta x$.\n",
    "\\begin{align}\n",
    "u^{n+1}_i = u^{n}_i\n",
    "- \\frac{\\mathcal{C}}{2}\n",
    "\\left(u^{n}_{i+1} - u^{n}_{i-1}\\right)\n",
    "+\\frac{\\mathcal{C}^2}{2}\n",
    "\\left(u^{n}_{i+1} - 2u^{n}_{i} + u^{n}_{i-1}\\right)\n",
    "+\n",
    "\\end{align}"
   ]
  },
  {
   "cell_type": "code",
   "execution_count": 3,
   "id": "cee7cdb6",
   "metadata": {},
   "outputs": [],
   "source": [
    "def init_shape(x):\n",
    "    std = 4\n",
    "    return np.exp(-pow((x-15)/std, 2)/2)"
   ]
  },
  {
   "cell_type": "code",
   "execution_count": 4,
   "id": "4ebc2344",
   "metadata": {},
   "outputs": [],
   "source": [
    "def run(adv, u0, c, x, outdir):\n",
    "    print(f'Saving figs in {outdir}')\n",
    "    u = np.copy(u0)\n",
    "    for n in range(50):\n",
    "        plt.close()\n",
    "        u = adv.advect(u, c)\n",
    "        plot_step(x, u, c, n+1,  adv.dt, outdir)"
   ]
  },
  {
   "cell_type": "code",
   "execution_count": 5,
   "id": "35ad7088",
   "metadata": {},
   "outputs": [],
   "source": [
    "def plot_step(x, u, c, n, dt, outdir):\n",
    "    fig = plt.figure()\n",
    "    ax = fig.add_subplot(111)\n",
    "    ax.plot(x, u, '--')\n",
    "    t = n * dt\n",
    "    exact = init_shape(x - c * t)\n",
    "    ax.plot(x, exact, 'r')\n",
    "    ax.set_title(f't = {t}s')\n",
    "    ax.set_xlabel('x, m')\n",
    "    ax.set_ylabel('c')\n",
    "    figname = '%s/adv%2.2i.png' %(outdir, n)\n",
    "#     print(f'Saving {figname}')\n",
    "    fig.savefig(figname)"
   ]
  },
  {
   "cell_type": "code",
   "execution_count": 6,
   "id": "9587250b",
   "metadata": {},
   "outputs": [],
   "source": [
    "cfl = .9\n",
    "dx = 1\n",
    "dt = 1\n",
    "c = .9*dx/dt\n",
    "x = np.arange(100)*dx\n",
    "u0 = init_shape(x)"
   ]
  },
  {
   "cell_type": "code",
   "execution_count": 7,
   "id": "149c5ad6",
   "metadata": {},
   "outputs": [
    {
     "data": {
      "image/png": "[encoded data removed]",
      "text/plain": [
       "<Figure size 432x288 with 1 Axes>"
      ]
     },
     "metadata": {
      "needs_background": "light"
     },
     "output_type": "display_data"
    }
   ],
   "source": [
    "adv = Advect1D(dx, dt, scheme='first_order_upwind')\n",
    "outdir = 'figs_fou'\n",
    "os.makedirs(outdir, exist_ok=True)\n",
    "plot_step(x, u0, c, 0,  dt, outdir)"
   ]
  },
  {
   "cell_type": "code",
   "execution_count": 8,
   "id": "258f2da4",
   "metadata": {},
   "outputs": [
    {
     "name": "stdout",
     "output_type": "stream",
     "text": [
      "Saving figs in figs_fou\n"
     ]
    },
    {
     "data": {
      "image/png": "[encoded data removed]",
      "text/plain": [
       "<Figure size 432x288 with 1 Axes>"
      ]
     },
     "metadata": {
      "needs_background": "light"
     },
     "output_type": "display_data"
    }
   ],
   "source": [
    "run(adv, u0, c, x, outdir)"
   ]
  },
  {
   "cell_type": "code",
   "execution_count": 9,
   "id": "b6692f6c",
   "metadata": {},
   "outputs": [
    {
     "name": "stdout",
     "output_type": "stream",
     "text": [
      "Saving figs in figs_lf\n"
     ]
    },
    {
     "data": {
      "image/png": "[encoded data removed]",
      "text/plain": [
       "<Figure size 432x288 with 1 Axes>"
      ]
     },
     "metadata": {
      "needs_background": "light"
     },
     "output_type": "display_data"
    }
   ],
   "source": [
    "adv = Advect1D(dx, dt, scheme='lax_friedrichs')\n",
    "outdir = 'figs_lf'\n",
    "os.makedirs(outdir, exist_ok=True)\n",
    "# plot_step(x, u0, c, 0,  dt, outdir)\n",
    "run(adv, u0, c, x, outdir)"
   ]
  },
  {
   "cell_type": "code",
   "execution_count": 10,
   "id": "31e7c91b",
   "metadata": {},
   "outputs": [
    {
     "name": "stdout",
     "output_type": "stream",
     "text": [
      "Saving figs in figs_lw\n"
     ]
    },
    {
     "data": {
      "image/png": "[encoded data removed]",
      "text/plain": [
       "<Figure size 432x288 with 1 Axes>"
      ]
     },
     "metadata": {
      "needs_background": "light"
     },
     "output_type": "display_data"
    }
   ],
   "source": [
    "adv = Advect1D(dx, dt, scheme='lax_wendroff')\n",
    "outdir = 'figs_lw'\n",
    "os.makedirs(outdir, exist_ok=True)\n",
    "# plot_step(x, u0, c, 0,  dt, outdir)\n",
    "run(adv, u0, c, x, outdir)"
   ]
  },
  {
   "cell_type": "code",
   "execution_count": 11,
   "id": "d15d35a2",
   "metadata": {},
   "outputs": [
    {
     "name": "stdout",
     "output_type": "stream",
     "text": [
      "Saving figs in figs_lw_vl\n"
     ]
    },
    {
     "data": {
      "image/png": "[encoded data removed]",
      "text/plain": [
       "<Figure size 432x288 with 1 Axes>"
      ]
     },
     "metadata": {
      "needs_background": "light"
     },
     "output_type": "display_data"
    }
   ],
   "source": [
    "adv = Advect1D(dx, dt, scheme='lax_wendroff', limiter='van_leer')\n",
    "outdir = 'figs_lw_vl'\n",
    "os.makedirs(outdir, exist_ok=True)\n",
    "# plot_step(x, u0, c, 0,  dt, outdir)\n",
    "run(adv, u0, c, x, outdir)"
   ]
  },
  {
   "cell_type": "code",
   "execution_count": 12,
   "id": "91f2ee6f",
   "metadata": {},
   "outputs": [
    {
     "name": "stdout",
     "output_type": "stream",
     "text": [
      "Saving figs in figs_lw_sb\n"
     ]
    },
    {
     "data": {
      "image/png": "[encoded data removed]",
      "text/plain": [
       "<Figure size 432x288 with 1 Axes>"
      ]
     },
     "metadata": {
      "needs_background": "light"
     },
     "output_type": "display_data"
    }
   ],
   "source": [
    "adv = Advect1D(dx, dt, scheme='lax_wendroff', limiter='superbee')\n",
    "outdir = 'figs_lw_sb'\n",
    "os.makedirs(outdir, exist_ok=True)\n",
    "# plot_step(x, u0, c, 0,  dt, outdir)\n",
    "run(adv, u0, c, x, outdir)"
   ]
  },
  {
   "cell_type": "code",
   "execution_count": null,
   "id": "7e367f38",
   "metadata": {},
   "outputs": [],
   "source": []
  }
 ],
 "metadata": {
  "kernelspec": {
   "display_name": "Python 3",
   "language": "python",
   "name": "python3"
  },
  "language_info": {
   "codemirror_mode": {
    "name": "ipython",
    "version": 3
   },
   "file_extension": ".py",
   "mimetype": "text/x-python",
   "name": "python",
   "nbconvert_exporter": "python",
   "pygments_lexer": "ipython3",
   "version": "3.6.9"
  }
 },
 "nbformat": 4,
 "nbformat_minor": 5
}
