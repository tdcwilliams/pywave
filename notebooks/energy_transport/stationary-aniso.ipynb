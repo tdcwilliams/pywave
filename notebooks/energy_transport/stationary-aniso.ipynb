{
 "cells": [
  {
   "cell_type": "code",
   "execution_count": 1,
   "id": "98cd5b94",
   "metadata": {},
   "outputs": [],
   "source": [
    "import os\n",
    "import numpy as np\n",
    "from matplotlib import pyplot as plt\n",
    "from functools import cached_property"
   ]
  },
  {
   "cell_type": "markdown",
   "id": "b2d4eee5",
   "metadata": {},
   "source": [
    "# Anisotropic scattering under stationary conditions\n",
    "General solution\n",
    "\\begin{align}\n",
    "\\textbf{E}&=\\sum_{i=1}^2c_i\\textrm{e}^{\\lambda_i (x-x_i)}\\textbf{v}_i\n",
    "\\end{align}\n",
    "Boundary conditions:\n",
    "\\begin{align}\n",
    "1&=\\sum_{i=0}^1c_i\\textrm{e}^{-\\lambda_i x_i}\\textbf{v}_{i0}\\\\\n",
    "0&=\\sum_{i=0}^1c_i\\textrm{e}^{\\lambda_i (w-x_i)}\\textbf{v}_{i1}\n",
    "\\end{align}"
   ]
  },
  {
   "cell_type": "code",
   "execution_count": 2,
   "id": "b58b1859",
   "metadata": {},
   "outputs": [],
   "source": [
    "class StationaryAniso:\n",
    "    \"\"\" Solve the general problem (non-zero dissipation) \"\"\"\n",
    "    def __init__(self, eps=0., beta=0, w=.1):\n",
    "        \"\"\"\n",
    "        Parameters:\n",
    "        -----------\n",
    "        w : float\n",
    "            MIZ width (>0)\n",
    "        beta : float\n",
    "            Directional dependence parameter (-1<=beta<=1)\n",
    "        eps : float\n",
    "            Dissipation (>=0)\n",
    "            \n",
    "        Sets:\n",
    "        --------\n",
    "        self.w\n",
    "            MIZ width (>0)\n",
    "        self.beta\n",
    "            Directional dependence parameter (-1<=beta<=1)\n",
    "        self.eps\n",
    "            Dissipation (>=0)\n",
    "        self.evals : numpy.ndarray\n",
    "            Eigenvalues\n",
    "        self.evecs : numpy.ndarray\n",
    "            Eigenvectors in columns\n",
    "        \"\"\"\n",
    "        self.eps = eps\n",
    "        self.beta = beta\n",
    "        self.w = w\n",
    "        self.evals, self.evecs = np.linalg.eig(self.matrix)\n",
    "\n",
    "    @cached_property\n",
    "    def matrix(self):\n",
    "        \"\"\"\n",
    "        Returns:\n",
    "        --------\n",
    "        matrix : numpy.ndarray\n",
    "            Matrix A in equation E_x = A E\n",
    "        \"\"\"\n",
    "        a = -self.eps - .5*(1 + self.beta)\n",
    "        b = - .5*(1 - self.beta)\n",
    "        c = - .5*(1 + self.beta)\n",
    "        d = self.eps - .5*(1 - self.beta)\n",
    "        return np.array([[a,b], [c,d]])\n",
    "\n",
    "    @cached_property\n",
    "    def eig_tuples(self):\n",
    "        \"\"\"\n",
    "        Returns:\n",
    "        --------\n",
    "        eig_tuples : list\n",
    "            Each iteration is a tuple (lam, vec, xe):\n",
    "                lam : float\n",
    "                    Eigenvalue\n",
    "                vec : numpy.ndarray\n",
    "                    Eigenvector\n",
    "                xe : float\n",
    "                    Source of waves (should decay away from source for 0<=x<=w).\n",
    "                    If lam<=0, xe=0; if lam>0, xe=w.\n",
    "        \"\"\"\n",
    "        tups = []\n",
    "        for i in range(2):\n",
    "            lam = self.evals[i]\n",
    "            vec = self.evecs[:,i]\n",
    "            xe = 0. if lam <= 0. else self.w\n",
    "            tups += [(lam, vec, xe)]\n",
    "        return tups\n",
    "\n",
    "    @cached_property\n",
    "    def coeffs(self):\n",
    "        \"\"\"\n",
    "        Returns:\n",
    "        --------\n",
    "        coeffs: numpy.ndarray\n",
    "            Coefficients of eigenfunction expansion. Shape is (2,)\n",
    "        \"\"\"\n",
    "        b = np.array([1.,0.])\n",
    "        a = np.zeros((2,2))\n",
    "        x = np.array([0., self.w])\n",
    "        for i, (lam, vec, xe) in enumerate(self.eig_tuples):\n",
    "            a[:,i] = vec * np.exp(lam * (x - xe))\n",
    "        return np.linalg.solve(a, b)\n",
    "\n",
    "    def calc_expansion(self, x):\n",
    "        \"\"\"\n",
    "        Parameters:\n",
    "        -----------\n",
    "        x : numpy.ndarray\n",
    "            x values where energy should be calculated.\n",
    "            Shape is (nx,)\n",
    "        \n",
    "        Returns:\n",
    "        --------\n",
    "        E : numpy.ndarray\n",
    "            Energy calculated at x.\n",
    "            Shape is (2,nx)\n",
    "            - 1st row is E_+ (energy going to the right)\n",
    "            - 2nd row is E_- (energy going to the left)\n",
    "        \"\"\"\n",
    "        u = 0.\n",
    "        for (lam, vec, xe), coeff in zip(self.eig_tuples, self.coeffs):\n",
    "            u += coeff * np.outer(vec, np.exp(lam * (x - xe)))\n",
    "        return u\n",
    "    \n",
    "    def calc_wave_stress(self, x):\n",
    "        \"\"\"\n",
    "        Parameters:\n",
    "        -----------\n",
    "        x : numpy.ndarray\n",
    "            x values where energy should be calculated.\n",
    "            Shape is (nx,)\n",
    "        \n",
    "        Returns:\n",
    "        --------\n",
    "        tau_x : numpy.ndarray\n",
    "            Wave stress on ice.\n",
    "            Shape is (nx,)\n",
    "        \"\"\"\n",
    "        ep, em = self.calc_expansion(x)\n",
    "        etot = ep + em\n",
    "        edel = ep - em\n",
    "        return 2 * (etot + self.beta * edel) + self.eps * edel"
   ]
  },
  {
   "cell_type": "code",
   "execution_count": 3,
   "id": "a5a0ef55",
   "metadata": {},
   "outputs": [],
   "source": [
    "class StationaryAnisoNoDissipation(StationaryAniso):\n",
    "    \"\"\" \n",
    "    Solve the zero dissipation problem analytically.\n",
    "    Mainly to check the general solution method.\n",
    "    \"\"\"\n",
    "\n",
    "    def __init__(self, w=.1, beta=0):\n",
    "        \"\"\"\n",
    "        Parameters:\n",
    "        -----------\n",
    "        w : float\n",
    "            MIZ width (>0)\n",
    "        beta : float\n",
    "            directional dependence parameter (-1<=beta<=1)\n",
    "        \"\"\"\n",
    "        self.w = w\n",
    "        self.beta = beta\n",
    "        self.eps = 0. #no dissipation\n",
    "\n",
    "    @cached_property\n",
    "    def alpha(self):\n",
    "        \"\"\"\n",
    "        Returns:\n",
    "        --------\n",
    "        alpha : float\n",
    "            convenience variable (1 - beta)/(1 + beta)\n",
    "        \"\"\"\n",
    "        b = self.beta\n",
    "        return (1 - b)/(1 + b)\n",
    "\n",
    "    @cached_property\n",
    "    def coeffs(self):\n",
    "        \"\"\"\n",
    "        Returns:\n",
    "        --------\n",
    "        coeffs: numpy.ndarray\n",
    "            coefficients of eigenfunction expansion. Shape is (2,)\n",
    "        \"\"\"\n",
    "        a = self.alpha\n",
    "        ex = np.exp(-self.w)\n",
    "        c2 = ex/(1 + a * ex)\n",
    "        c1 = 1 - c2 * a\n",
    "        return np.array([c1, c2])\n",
    "\n",
    "    def calc_expansion(self, x):\n",
    "        \"\"\"\n",
    "        Parameters:\n",
    "        -----------\n",
    "        x : numpy.ndarray\n",
    "            x values where energy should be calculated.\n",
    "            Shape is (nx,)\n",
    "        \n",
    "        Returns:\n",
    "        --------\n",
    "        E : numpy.ndarray\n",
    "            energy calculated at x.\n",
    "            Shape is (2,nx)\n",
    "            - 1st row is E_+ (energy going to the right)\n",
    "            - 2nd row is E_- (energy going to the left)\n",
    "        \"\"\"\n",
    "        c1, c2 = self.coeffs\n",
    "        a = self.alpha\n",
    "        cex = c1 * np.exp(-x)\n",
    "        ep = cex + c2 * a\n",
    "        em = cex - c2\n",
    "        return np.array([ep, em])"
   ]
  },
  {
   "cell_type": "markdown",
   "id": "06981c18",
   "metadata": {},
   "source": [
    "## Solve and test the boundary conditions"
   ]
  },
  {
   "cell_type": "code",
   "execution_count": 4,
   "id": "d4e203ec",
   "metadata": {},
   "outputs": [
    {
     "name": "stdout",
     "output_type": "stream",
     "text": [
      "E_+(0)=1? 1.0\n",
      "E_-(w)=0? -5.551115123125783e-17\n"
     ]
    }
   ],
   "source": [
    "sa = StationaryAniso()\n",
    "x = np.array([0., sa.w])\n",
    "ep, em = sa.calc_expansion(x)\n",
    "print(f'E_+(0)=1? {ep[0]}')\n",
    "print(f'E_-(w)=0? {em[1]}')"
   ]
  },
  {
   "cell_type": "code",
   "execution_count": 5,
   "id": "84b4b282",
   "metadata": {},
   "outputs": [
    {
     "name": "stdout",
     "output_type": "stream",
     "text": [
      "E_+(0)=1? 1.0\n",
      "E_-(w)=0? -5.551115123125783e-17\n"
     ]
    }
   ],
   "source": [
    "sa0 = StationaryAnisoNoDissipation()\n",
    "x = np.array([0., sa.w])\n",
    "ep, em = sa.calc_expansion(x)\n",
    "print(f'E_+(0)=1? {ep[0]}')\n",
    "print(f'E_-(w)=0? {em[1]}')"
   ]
  },
  {
   "cell_type": "code",
   "execution_count": 6,
   "id": "251256b3",
   "metadata": {},
   "outputs": [
    {
     "data": {
      "text/plain": [
       "array([2.09991675, 1.90008325])"
      ]
     },
     "execution_count": 6,
     "metadata": {},
     "output_type": "execute_result"
    }
   ],
   "source": [
    "sa0.calc_wave_stress(x)"
   ]
  },
  {
   "cell_type": "code",
   "execution_count": 7,
   "id": "df79dbad",
   "metadata": {},
   "outputs": [
    {
     "data": {
      "text/plain": [
       "array([2.09991675, 1.90008325])"
      ]
     },
     "execution_count": 7,
     "metadata": {},
     "output_type": "execute_result"
    }
   ],
   "source": [
    "sa.calc_wave_stress(x)"
   ]
  },
  {
   "cell_type": "markdown",
   "id": "ffb9f39d",
   "metadata": {},
   "source": [
    "## Plots to see effect of $\\beta$\n",
    "Also look at convergence to the wide-MIZ asymptote"
   ]
  },
  {
   "cell_type": "code",
   "execution_count": 8,
   "id": "80235dfd",
   "metadata": {},
   "outputs": [],
   "source": [
    "def plot_energy(cls, x, ax=None, legend_text=None, log_scale=False, **kwargs):\n",
    "    if ax is None:\n",
    "        fig = plt.figure()\n",
    "        ax = fig.add_subplot(111)\n",
    "    sa = cls(**kwargs)\n",
    "    ep, em = sa.calc_expansion(x)\n",
    "    ax.plot(x, ep + em, label=legend_text)\n",
    "    ax.set_xlabel('$x$')\n",
    "    ax.set_ylabel('$E$')\n",
    "    if log_scale:\n",
    "        ax.set_yscale('log')\n",
    "    return ax"
   ]
  },
  {
   "cell_type": "code",
   "execution_count": 9,
   "id": "98daa94e",
   "metadata": {},
   "outputs": [],
   "source": [
    "def plot_one_panel(w, log_space,\n",
    "                   add_asymptote=True, ax=None, add_legend=True):\n",
    "    x = np.linspace(0, w, 50)\n",
    "    for b in [-.8, -.4, 0, .4, .8]:\n",
    "        ax = plot_energy(StationaryAniso, x,\n",
    "                         ax=ax, beta=b, w=w,\n",
    "                         legend_text=f\"{b}\",\n",
    "                         log_scale=log_scale,\n",
    "                        )\n",
    "    ax.set_title(f'$w = {w}$')\n",
    "    if add_asymptote:\n",
    "        ax.plot(x, 2 * np.exp(-x), ':k', label='$w=\\infty$')\n",
    "    if add_legend:\n",
    "        ax.legend()\n",
    "    return ax"
   ]
  },
  {
   "cell_type": "code",
   "execution_count": 10,
   "id": "f891cfad",
   "metadata": {},
   "outputs": [
    {
     "data": {
      "image/png": "[encoded data removed]",
      "text/plain": [
       "<Figure size 432x288 with 1 Axes>"
      ]
     },
     "metadata": {
      "needs_background": "light"
     },
     "output_type": "display_data"
    }
   ],
   "source": [
    "w, log_scale, add_asym = 50, True, True\n",
    "# w, log_scale, add_asym = 10, True, True\n",
    "# w, log_scale, add_asym = 7, True, True\n",
    "# w, log_scale, add_asym = 5, True, True\n",
    "# w, log_scale, add_asym = 3, False, True\n",
    "ax = plot_one_panel(w, log_scale, add_asymptote=add_asym)"
   ]
  },
  {
   "cell_type": "code",
   "execution_count": 12,
   "id": "0d979035",
   "metadata": {},
   "outputs": [
    {
     "data": {
      "image/png": "[encoded data removed]",
      "text/plain": [
       "<Figure size 432x288 with 4 Axes>"
      ]
     },
     "metadata": {
      "needs_background": "light"
     },
     "output_type": "display_data"
    }
   ],
   "source": [
    "fig, axs = plt.subplots(1, 4)\n",
    "ws = [1, 2, 5, 10] # width\n",
    "lss = [False, False, True, True] #log scale\n",
    "aas = [False, True, True, True] # add wide MIZ asymptote\n",
    "for i, (ax, w, log_scale, add_asym) in enumerate(\n",
    "    zip(axs, ws, lss, aas)):\n",
    "    ax = plot_one_panel(w, log_scale, ax=ax,\n",
    "                        add_asymptote=add_asym,\n",
    "                        add_legend=(i == len(ws) - 1),\n",
    "                       )\n",
    "os.makedirs('paper_figs', exist_ok=True)\n",
    "fig.savefig('paper_figs/energy_w_beta.png')"
   ]
  },
  {
   "cell_type": "code",
   "execution_count": null,
   "id": "fab06da8",
   "metadata": {},
   "outputs": [],
   "source": []
  }
 ],
 "metadata": {
  "kernelspec": {
   "display_name": "Python 3 (ipykernel)",
   "language": "python",
   "name": "python3"
  },
  "language_info": {
   "codemirror_mode": {
    "name": "ipython",
    "version": 3
   },
   "file_extension": ".py",
   "mimetype": "text/x-python",
   "name": "python",
   "nbconvert_exporter": "python",
   "pygments_lexer": "ipython3",
   "version": "3.9.12"
  }
 },
 "nbformat": 4,
 "nbformat_minor": 5
}
