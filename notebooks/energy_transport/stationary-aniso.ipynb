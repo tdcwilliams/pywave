{
 "cells": [
  {
   "cell_type": "code",
   "execution_count": 1,
   "id": "98cd5b94",
   "metadata": {},
   "outputs": [],
   "source": [
    "import numpy as np"
   ]
  },
  {
   "cell_type": "markdown",
   "id": "b2d4eee5",
   "metadata": {},
   "source": [
    "# Anisotropic scattering under stationary conditions\n",
    "General solution\n",
    "\\begin{align}\n",
    "\\textbf{E}&=\\sum_{i=1}^2c_i\\textrm{e}^{\\lambda_i (x-x_i)}\\textbf{v}_i\n",
    "\\end{align}\n",
    "Boundary conditions:\n",
    "\\begin{align}\n",
    "1&=\\sum_{i=0}^1c_i\\textrm{e}^{-\\lambda_i x_i}\\textbf{v}_{i0}\\\\\n",
    "0&=\\sum_{i=0}^1c_i\\textrm{e}^{\\lambda_i (w-x_i)}\\textbf{v}_{i1}\n",
    "\\end{align}"
   ]
  },
  {
   "cell_type": "code",
   "execution_count": 2,
   "id": "b58b1859",
   "metadata": {},
   "outputs": [],
   "source": [
    "class EigenSystem:\n",
    "    def __init__(self, eps=0., beta=0, w=.1):\n",
    "        self.eps = eps\n",
    "        self.beta = beta\n",
    "        self.w = w\n",
    "\n",
    "    @property\n",
    "    def matrix(self):\n",
    "        a = -self.eps - .5*(1 + self.beta)\n",
    "        b = - .5*(1 - self.beta)\n",
    "        c = - .5*(1 + self.beta)\n",
    "        d = self.eps - .5*(1 - self.beta)\n",
    "        return np.array([[a,b], [c,d]])\n",
    "\n",
    "    @property\n",
    "    def eig_tuples(self):\n",
    "        tups = []\n",
    "        for i in range(2):\n",
    "            lam = self.evals[i]\n",
    "            vec = self.evecs[:,i]\n",
    "            xe = 0. if lam <= 0. else self.w\n",
    "            tups += [(lam, vec, xe)]\n",
    "        return tups\n",
    "        \n",
    "    def solve(self):\n",
    "        self.evals, self.evecs = np.linalg.eig(self.matrix)\n",
    "        b = np.array([1.,0.])\n",
    "        a = np.zeros((2,2))\n",
    "        x = np.array([0., self.w])\n",
    "        for i, (lam, vec, xe) in enumerate(self.eig_tuples):\n",
    "            a[:,i] = vec * np.exp(lam * (x - xe))\n",
    "        self.coeffs = np.linalg.solve(a, b)\n",
    "\n",
    "    def calc_expansion(self, x):\n",
    "        u = 0.\n",
    "        for (lam, vec, xe), coeff in zip(self.eig_tuples, self.coeffs):\n",
    "            u += coeff * np.outer(vec, np.exp(lam * (x - xe)))\n",
    "        return u"
   ]
  },
  {
   "cell_type": "markdown",
   "id": "06981c18",
   "metadata": {},
   "source": [
    "## Solve and test the boundary conditions"
   ]
  },
  {
   "cell_type": "code",
   "execution_count": 3,
   "id": "d4e203ec",
   "metadata": {},
   "outputs": [
    {
     "data": {
      "text/plain": [
       "array([[ 1.00000000e+00,  9.50041625e-01],\n",
       "       [ 4.99583750e-02, -5.55111512e-17]])"
      ]
     },
     "execution_count": 3,
     "metadata": {},
     "output_type": "execute_result"
    }
   ],
   "source": [
    "es = EigenSystem()\n",
    "es.solve()\n",
    "x = np.array([0., es.w])\n",
    "es.calc_expansion(x)"
   ]
  },
  {
   "cell_type": "code",
   "execution_count": null,
   "id": "84b4b282",
   "metadata": {},
   "outputs": [],
   "source": []
  }
 ],
 "metadata": {
  "kernelspec": {
   "display_name": "Python 3",
   "language": "python",
   "name": "python3"
  },
  "language_info": {
   "codemirror_mode": {
    "name": "ipython",
    "version": 3
   },
   "file_extension": ".py",
   "mimetype": "text/x-python",
   "name": "python",
   "nbconvert_exporter": "python",
   "pygments_lexer": "ipython3",
   "version": "3.6.13"
  }
 },
 "nbformat": 4,
 "nbformat_minor": 5
}
