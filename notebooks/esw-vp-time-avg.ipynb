{
 "cells": [
  {
   "cell_type": "markdown",
   "id": "456ea8ea",
   "metadata": {},
   "source": [
    "## Variational principle for extended shallow water"
   ]
  },
  {
   "cell_type": "markdown",
   "id": "e9b1b423",
   "metadata": {},
   "source": [
    "We begin with some definitions\n",
    "\\begin{align}\n",
    "Q(x,t)&=\\int_{-h}^0u(x,z,t)\\textrm{d}z,\\\\\n",
    "w(x,z,t)&=\\eta(x,t)\\left(1+\\frac{z}{h}\\right),\\\\\n",
    "\\eta(x,t)&=-Q_x(x,t).\n",
    "\\end{align}\n",
    "These imply that the kinematic conditions\n",
    "\\begin{align}\n",
    "w(x,0,t)&=\\eta(x,t),\\\\\n",
    "w(x,-h,t)&=0\n",
    "\\end{align}\n",
    "are satisfied and that the incompressibility condition\n",
    "\\begin{align}\n",
    "u_x(x,0,t)+w_z(x,0,t)&=0,\n",
    "\\end{align}\n",
    "is satisfied weakly, i.e\n",
    "\\begin{align}\n",
    "\\int_{-h}^0\\big(u_x(x,0,t)+w_z(x,0,t)\\big)\\textrm{d}z&=0.\n",
    "\\end{align}\n",
    "The pressure can be defined as\n",
    "\\begin{align}\n",
    "p(x,z,t)=p_a + \\rho_wg(\\eta-z) + \\eta(x,t)\\left(z+\\frac{z^2}{2h}\\right).\n",
    "\\end{align}"
   ]
  },
  {
   "cell_type": "markdown",
   "id": "d820d013",
   "metadata": {},
   "source": [
    "We now define a Lagrangian similar to the one from Luke's Variational Principle\n",
    "\\begin{align}\n",
    "\\mathscr{L} &= \\frac{\\rho_w}2\\int_{t_0}^{t_1}\\textrm{d}t\n",
    "\\int_{-h}^0\\textrm{d}z\n",
    "\\int_{x_0}^{x_1}\\textrm{d}x\n",
    "\\left(\n",
    "\\big(u_t^2+w_t^2\\big)\n",
    "\\right)\\\\\n",
    "&\\quad+\\frac{\\rho_w}2\\int_{t_0}^{t_1}\\textrm{d}t\n",
    "\\int_{x_0}^{x_1}\\textrm{d}x\n",
    "\\left(\n",
    "g\\eta^2-\\frac{2}{\\rho_w}\\eta \\big(p|_{z=0}-p_a\\big)\n",
    "\\right)\\\\\n",
    "&=\\frac{\\rho_w}2\\int_{t_0}^{t_1}\\textrm{d}t\n",
    "\\int_{x_0}^{x_1}\\textrm{d}x\n",
    "\\left(\n",
    "\\frac{1}{h}Q_t^2+\\frac{h}{3}\\eta_t^2-g\\eta^2\\big)\n",
    "\\right).\n",
    "\\end{align}"
   ]
  },
  {
   "cell_type": "markdown",
   "id": "85830050",
   "metadata": {},
   "source": [
    "## Time-harmonic solution\n",
    "Let $\\alpha=\\omega^2/g$ be the infinite depth wave number, $\\beta=1-(\\alpha h)/3$, and let\n",
    "\\begin{align}\n",
    "Q(x,t)&=\\textrm{Re}\\left[q(x)\\textrm{e}^{-\\textrm{i}\\omega t}\\right].\n",
    "\\end{align}\n",
    "The Lagrangian averaged over one wave period is\n",
    "\\begin{align}\n",
    "\\mathscr{L} &= \\frac{\\rho_wg}4\n",
    "\\textrm{Re}\\left[\n",
    "\\int_{x_0}^{x_1}\\textrm{d}x\n",
    "\\left(\n",
    "\\frac{\\alpha}{h}qq^*-\\beta q_xq_x^*\n",
    "\\right)\\right].\n",
    "\\end{align}"
   ]
  },
  {
   "cell_type": "markdown",
   "id": "6da6f39c",
   "metadata": {},
   "source": [
    "The Lagrangian is stationary if\n",
    "\\begin{align}\n",
    "0 &= \\int_{x_0}^{x_1}\\textrm{d}x\n",
    "\\left(\n",
    "\\frac{\\alpha}{h}q\\delta q^*-\\beta q_x\\delta q_x^*\n",
    "\\right)\\\\\n",
    "&=\\int_{x_0}^{x_1}\\textrm{d}x\n",
    "\\left(\n",
    "\\frac{\\alpha}{h}q\\delta q^*+\\beta q_{xx}\n",
    "\\right)\\delta q^*\n",
    "-\\left[\n",
    "\\beta q_x\\delta q^*\n",
    "\\right]_{x_0}^{x_1}.\n",
    "\\end{align}"
   ]
  },
  {
   "cell_type": "markdown",
   "id": "c1f16171",
   "metadata": {},
   "source": [
    "The governing equation is a Helmholtz equation\n",
    "\\begin{align}\n",
    "\\beta q_{xx} + \\frac{\\alpha}{h}q\\delta q^* = 0,\n",
    "\\end{align}\n",
    "and $q$ and $\\beta q_x$ should be continuous at any discontinuities in $h$. This reduces to the usual shallow water equations if $\\beta=1$, which corresponds to neglecting the vertical kinetic energy in the Lagrangian above. Also note the formulation becomes singular when the wave frequency increases enough to satisfy $\\alpha h\\geq 3$."
   ]
  },
  {
   "cell_type": "code",
   "execution_count": null,
   "id": "62331bc6",
   "metadata": {},
   "outputs": [],
   "source": []
  }
 ],
 "metadata": {
  "kernelspec": {
   "display_name": "Python 3",
   "language": "python",
   "name": "python3"
  },
  "language_info": {
   "codemirror_mode": {
    "name": "ipython",
    "version": 3
   },
   "file_extension": ".py",
   "mimetype": "text/x-python",
   "name": "python",
   "nbconvert_exporter": "python",
   "pygments_lexer": "ipython3",
   "version": "3.6.9"
  }
 },
 "nbformat": 4,
 "nbformat_minor": 5
}
