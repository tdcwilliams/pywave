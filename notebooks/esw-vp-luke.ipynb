{
 "cells": [
  {
   "cell_type": "markdown",
   "id": "456ea8ea",
   "metadata": {},
   "source": [
    "## Variational principle for extended shallow water"
   ]
  },
  {
   "cell_type": "markdown",
   "id": "1bc71708",
   "metadata": {},
   "source": [
    "We begin with some definitions\n",
    "\\begin{align}\n",
    "Q(x,t)&=\\int_{-h}^0u(x,z,t)\\textrm{d}z,\\\\\n",
    "w(x,z,t)&=\\eta(x,t)\\left(1+\\frac{z}{h}\\right),\\\\\n",
    "\\eta(x,t)&=-Q_x(x,t).\n",
    "\\end{align}\n",
    "These imply that the kinematic conditions\n",
    "\\begin{align}\n",
    "w(x,0,t)&=\\eta(x,t),\\\\\n",
    "w(x,-h,t)&=0\n",
    "\\end{align}\n",
    "are satisfied and that the incompressibility condition\n",
    "\\begin{align}\n",
    "u_x(x,0,t)+w_z(x,0,t)&=0,\n",
    "\\end{align}\n",
    "is satisfied weakly, i.e\n",
    "\\begin{align}\n",
    "\\int_{-h}^0\\big(u_x(x,0,t)+w_z(x,0,t)\\big)\\textrm{d}z&=0.\n",
    "\\end{align}\n",
    "The pressure can be defined as\n",
    "\\begin{align}\n",
    "p(x,z,t)=p_a + \\rho_wg(\\eta-z) + \\eta(x,t)\\left(z+\\frac{z^2}{2h}\\right).\n",
    "\\end{align}"
   ]
  },
  {
   "cell_type": "markdown",
   "id": "d820d013",
   "metadata": {},
   "source": [
    "We now define a Lagrangian similar to the one from Luke's Variational Principle. We start with the kinetic and potential energies, respectively\n",
    "\\begin{align}\n",
    "\\mathscr{T} &= \\frac{\\rho_w}2\n",
    "\\int_{-h}^0\\textrm{d}z\n",
    "\\int_{x_0}^{x_1}\\textrm{d}x\n",
    "\\big(u_t^2+w_t^2\\big)\\\\\n",
    "&=\\frac{\\rho_w}2\n",
    "\\int_{x_0}^{x_1}\\textrm{d}x\n",
    "\\left(\n",
    "\\frac{1}{h}Q_t^2+\\frac{h}{3}\\eta_t^2\n",
    "\\right)\\\\\n",
    "&=\\frac{\\rho_w}2\n",
    "\\int_{x_0}^{x_1}\\textrm{d}x\n",
    "\\left(\n",
    "\\frac{1}{h}Q_t^2+\\frac{h}{3}Q_{xt}^2\\right),\\\\\n",
    "\\mathscr{V}&=\\frac{\\rho_w}2\n",
    "\\int_{x_0}^{x_1}\\textrm{d}x\n",
    "\\left(\n",
    "\\frac{2}{\\rho_w}\\eta \\big(p|_{z=0}-p_a\\big)\n",
    "-g\\eta^2\n",
    "\\right)\\\\\n",
    "&=\\frac{\\rho_wg}2\n",
    "\\int_{x_0}^{x_1}\\eta^2\\textrm{d}x\\\\\n",
    "&=\\frac{\\rho_wg}2\n",
    "\\int_{x_0}^{x_1}Q_x^2\\textrm{d}x.\n",
    "\\end{align}\n",
    "The Lagrangian is\n",
    "\\begin{align}\n",
    "\\mathscr{L} &= \\int_{t_0}^{t_1}\\big(\n",
    "\\mathscr{T} - \\mathscr{V}\n",
    "\\big)\\textrm{d}t\\\\\n",
    "&=\\frac{\\rho_w}2\\int_{t_0}^{t_1}\\textrm{d}t\n",
    "\\int_{x_0}^{x_1}\\textrm{d}x\n",
    "\\left(\n",
    "\\frac{1}{h}Q_t^2+\\frac{h}{3}Q_{xt}^2-gQ_x^2\n",
    "\\right).\n",
    "\\end{align}"
   ]
  },
  {
   "cell_type": "markdown",
   "id": "4d8928bd",
   "metadata": {},
   "source": [
    "## Time-harmonic solution\n",
    "Let $\\alpha=\\omega^2/g$ be the infinite depth wave number, $\\beta=1-(\\alpha h)/3$, and let\n",
    "\\begin{align}\n",
    "Q(x,t)&=\\textrm{Re}\\left[q(x)\\textrm{e}^{-\\textrm{i}\\omega t}\\right].\n",
    "\\end{align}\n",
    "The Lagrangian averaged over one wave period is\n",
    "\\begin{align}\n",
    "\\mathscr{L} &= \\frac{\\rho_wg}4\n",
    "\\textrm{Re}\\left[\n",
    "\\int_{x_0}^{x_1}\\textrm{d}x\n",
    "\\left(\n",
    "\\frac{\\alpha}{h}qq^*-\\beta q_xq_x^*\n",
    "\\right)\\right].\n",
    "\\end{align}"
   ]
  },
  {
   "cell_type": "markdown",
   "id": "e524b959",
   "metadata": {},
   "source": [
    "The Lagrangian is stationary if\n",
    "\\begin{align}\n",
    "0 &= \\int_{x_0}^{x_1}\\textrm{d}x\n",
    "\\left(\n",
    "\\frac{\\alpha}{h}q\\delta q^*-\\beta q_x\\delta q_x^*\n",
    "\\right)\\\\\n",
    "&=\\int_{x_0}^{x_1}\\textrm{d}x\n",
    "\\left(\n",
    "\\frac{\\alpha}{h}q+\\partial_x\\big(\\beta q_x\\big)\n",
    "\\right)\\delta q^*\n",
    "-\\left[\n",
    "\\beta q_x\\delta q^*\n",
    "\\right]_{x_0}^{x_1}.\n",
    "\\end{align}"
   ]
  },
  {
   "cell_type": "markdown",
   "id": "c1f16171",
   "metadata": {},
   "source": [
    "For piecewise constant $h$ (constant $\\beta$), the governing equation is a Helmholtz equation\n",
    "\\begin{align}\n",
    "\\beta q_{xx} + \\frac{\\alpha}{h}q = 0,\n",
    "\\end{align}\n",
    "and $q$ and $\\beta q_x$ should be continuous at any discontinuities in $h$. This reduces to the usual shallow water equations if $\\beta=1$, which corresponds to neglecting the vertical kinetic energy in the Lagrangian above. Also note the formulation becomes singular when the wave frequency increases enough to satisfy $\\alpha h\\geq 3$."
   ]
  },
  {
   "cell_type": "markdown",
   "id": "503b10e9",
   "metadata": {},
   "source": [
    "## Energy flux\n",
    "The total energy in the domain is given by the Hamiltonian function\n",
    "\\begin{align}\n",
    "\\mathscr{H} &= \\mathscr{T} + \\mathscr{V}\\\\\n",
    "&=\\frac{\\rho_w}2\n",
    "\\int_{x_0}^{x_1}\\textrm{d}x\n",
    "\\left(\n",
    "\\frac{1}{h}Q_t^2+\\frac{h}{3}Q_{xt}^2+gQ_x^2\n",
    "\\right)\n",
    "\\end{align}"
   ]
  },
  {
   "cell_type": "markdown",
   "id": "1a63d492",
   "metadata": {},
   "source": [
    "Its time derivative is\n",
    "\\begin{align}\n",
    "\\mathscr{H}_t &= \\mathscr{T} + \\mathscr{V}\\\\\n",
    "&= \\rho_w\\int_{x_0}^{x_1}\\textrm{d}x\n",
    "\\left(\n",
    "\\frac{1}{h}Q_tQ_{tt}+\\frac{h}{3}Q_{xt}Q_{xtt}+gQ_xQ_{xt}\n",
    "\\right)\\\\\n",
    "&=\\rho_w\\int_{x_0}^{x_1}\\textrm{d}x\n",
    "Q_t\\left(\n",
    "\\frac{1}{h}Q_{tt}-\\frac{h}{3}Q_{xxtt}-gQ_{xx}\n",
    "\\right)\n",
    "+ \\rho_w\\left[\n",
    "Q_t(gQ_x+\\frac{h}{3}Q_{xtt}\n",
    "\\right]_{x_0}^{x_1}\\\\\n",
    "&=\\rho_w\\left[\n",
    "Q_t(gQ_x+\\frac{h}{3}Q_{xtt}\n",
    "\\right]_{x_0}^{x_1},\n",
    "\\end{align}\n",
    "where we have used the governing equation for $q$ to simplify $\\mathscr{H}_t$."
   ]
  },
  {
   "cell_type": "markdown",
   "id": "643d6feb",
   "metadata": {},
   "source": [
    "Averaging over one period gives\n",
    "\\begin{align}\n",
    "\\overline{\\mathscr{H}_t}\n",
    "&=\\frac12\\rho_wg\\omega\\big[\n",
    "\\textrm{Re}(\\beta q_x)\\textrm{Im}(q)\n",
    "-\\textrm{Im}(\\beta q_x)\\textrm{Re}(q)\n",
    "\\big]_{x_0}^{x_1}\\\\\n",
    "&=\\frac{1}{4\\textrm{i}}\\rho_wg\\omega\\big[\n",
    "\\beta\\,\\big(qq^*_x-q^*q_x\\big)\n",
    "\\big]_{x_0}^{x_1}\\\\\n",
    "&=\\frac{1}{2}\\rho_wg\\omega\\big[\n",
    "\\beta\\,\\textrm{Im}\\big(qq^*_x\\big)\n",
    "\\big]_{x_0}^{x_1}.\n",
    "\\end{align}"
   ]
  },
  {
   "cell_type": "markdown",
   "id": "b9c4d414",
   "metadata": {},
   "source": [
    "Now the governing equation also implies that\n",
    "\\begin{align}\n",
    "0&=\\frac1{4\\textrm{i}}\\rho_wg\\omega\\int_{x_0}^{x_1}\\left(\n",
    "\\left(\\partial_x(\\beta q_x^*) + \\frac{\\alpha}{h}q^*\\right)q\n",
    "-\\left(\\partial_x(\\beta q_x) + \\frac{\\alpha}{h}q\\right)q^*\n",
    "\\right)\n",
    "\\end{align}\n",
    "Integrating by parts and using the continuity conditions we get\n",
    "\\begin{align}\n",
    "0&=\\frac1{4\\textrm{i}}\\rho_wg\\omega\\big[\n",
    "\\beta\\,\\big(qq^*_x-q^*q_x\\big)\n",
    "\\big]_{x_0}^{x_1} = \\overline{\\mathscr{H}_t},\n",
    "\\end{align}\n",
    "so the average energy flux into any volume is zero."
   ]
  },
  {
   "cell_type": "markdown",
   "id": "2c195977",
   "metadata": {},
   "source": [
    "## Energy flux\n",
    "With\n",
    "\\begin{align}\n",
    "q(x)=a_+\\textrm{e}^{\\textrm{i}kx} + a_-\\textrm{e}^{-\\textrm{i}kx},\n",
    "\\end{align}\n",
    "we can let\n",
    "\\begin{align}\n",
    "\\mathcal{F}(x) &= \\frac12\\rho_wg\\omega\\beta\\,\\textrm{Im}\\big(q q_x^*\\big)\\\\\n",
    "&=-\\rho_wg\\omega \\frac{k\\beta}{2}\\big(|a_+|^2-|a_-|^2\\big),\n",
    "\\end{align}\n",
    "and say that\n",
    "\\begin{align}\n",
    "\\mathcal{F}_x(x) &= 0.\n",
    "\\end{align}"
   ]
  },
  {
   "cell_type": "markdown",
   "id": "5aa4687d",
   "metadata": {},
   "source": [
    "## Energy transport\n",
    "The displacement is given by\n",
    "\\begin{align}\n",
    "\\eta(x)=-q_x=\\textrm{i}k\\big(a_+\\textrm{e}^{\\textrm{i}kx} - a_-\\textrm{e}^{-\\textrm{i}kx}\\big),\n",
    "\\end{align}\n",
    "we can define the energy associated with each wave direction as\n",
    "\\begin{align}\n",
    "E_\\pm &= \\frac12\\rho_wgk^2|a_\\pm|^2,\n",
    "\\end{align}\n",
    "and similarly the flux magnitudes in each direction are\n",
    "\\begin{align}\n",
    "\\mathcal{F}_\\pm &= \\frac{\\omega\\beta}{k}E_\\pm = \\hat{c}E_\\pm,\n",
    "\\end{align}\n",
    "with $\\hat c$ being a modified phase velocity, then\n",
    "\\begin{align}\n",
    "\\partial_x\\big(\\mathcal{F}_+(x) - \\mathcal{F}_-(x)\\big) &= 0\n",
    "\\end{align}\n",
    "gives us one part of the transport equation we need."
   ]
  },
  {
   "cell_type": "markdown",
   "id": "1202643e",
   "metadata": {},
   "source": [
    "In a multiple scattering situation suppose that the sum of the flux magnitudes decays exponentially with distance into the medium:\n",
    "\\begin{align}\n",
    "\\partial_x\\big(\\mathcal{F}_+(x) + \\mathcal{F}_-(x)\\big) \n",
    "&= -\\frac{2\\gamma}{c_g}\\big(\\mathcal{F}_+(x) + \\mathcal{F}_-(x)\\big)\n",
    "\\end{align}\n",
    "(with $c_g$ being introduced now as the group velocity for later convenience)\n",
    "then we have\n",
    "\\begin{align}\n",
    "\\partial_x\n",
    "\\begin{pmatrix}\n",
    "\\mathcal{F}_+\\\\\n",
    "-\\mathcal{F}_-\n",
    "\\end{pmatrix}\n",
    "&= \\frac{1}{c_g}\\textbf{S},\\\\\n",
    "\\textbf{S}\n",
    "&=\\gamma\n",
    "\\begin{pmatrix}\n",
    "-1 & -1\\\\\n",
    "1 & 1\n",
    "\\end{pmatrix}\n",
    "\\begin{pmatrix}\n",
    "\\mathcal{F}_+\\\\\n",
    "\\mathcal{F}_-\n",
    "\\end{pmatrix}.\n",
    "\\end{align}"
   ]
  },
  {
   "cell_type": "markdown",
   "id": "ae53d35e",
   "metadata": {},
   "source": [
    "In a general wave transport equation (with two directions being considered)\n",
    "\\begin{align}\n",
    "\\partial_t\n",
    "\\begin{pmatrix}\n",
    "\\mathcal{F}_+\\\\\n",
    "\\mathcal{F}_-\n",
    "\\end{pmatrix}\n",
    "+c_g\n",
    "\\partial_x\n",
    "\\begin{pmatrix}\n",
    "\\mathcal{F}_+\\\\\n",
    "-\\mathcal{F}_-\n",
    "\\end{pmatrix}\n",
    "=\n",
    "\\textbf{S}.\n",
    "\\end{align}"
   ]
  },
  {
   "cell_type": "markdown",
   "id": "023817a8",
   "metadata": {},
   "source": [
    "For isotropic scattering the source term is\n",
    "\\begin{align}\n",
    "\\textbf{S}_{\\textrm{iso}}=\n",
    "\\gamma\\begin{pmatrix}\n",
    "-1 & 1\\\\\n",
    "1 & -1\n",
    "\\end{pmatrix},\n",
    "\\end{align}\n",
    "so that energies will be moved to the opposite direction in the same way regardless of the direction they are going. Therefore, in order to represent scattering properly we need to introduce some anisotropy. Note that both $\\textbf{S}$ and $\\textbf{S}_{\\textrm{iso}}$ conserve energy (their columns sum to zero)."
   ]
  },
  {
   "cell_type": "code",
   "execution_count": null,
   "id": "2769af0d",
   "metadata": {},
   "outputs": [],
   "source": []
  }
 ],
 "metadata": {
  "kernelspec": {
   "display_name": "Python 3",
   "language": "python",
   "name": "python3"
  },
  "language_info": {
   "codemirror_mode": {
    "name": "ipython",
    "version": 3
   },
   "file_extension": ".py",
   "mimetype": "text/x-python",
   "name": "python",
   "nbconvert_exporter": "python",
   "pygments_lexer": "ipython3",
   "version": "3.6.9"
  }
 },
 "nbformat": 4,
 "nbformat_minor": 5
}
