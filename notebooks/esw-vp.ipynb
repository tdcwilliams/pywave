{
 "cells": [
  {
   "cell_type": "markdown",
   "id": "456ea8ea",
   "metadata": {},
   "source": [
    "## Variational principle for extended shallow water"
   ]
  },
  {
   "cell_type": "markdown",
   "id": "d820d013",
   "metadata": {},
   "source": [
    "\\begin{align}\n",
    "\\mathscr{L} &= \\int_{t_0}^{t_1}\\textrm{d}t\n",
    "\\int_{-h}^0\\textrm{d}z\n",
    "\\int_{x_0}^{x_1}\\textrm{d}x\n",
    "\\left(\n",
    "\\frac{\\rho_w}2\\big(u_t^2+w_t^2\\big)\n",
    "+p(u_x+w_z)\n",
    "-\\rho_wgw\n",
    "\\right)\\\\\n",
    "&\\quad+\\int_{t_0}^{t_1}\\textrm{d}t\n",
    "\\int_{x_0}^{x_1}\\textrm{d}x\n",
    "\\left(\n",
    "\\frac{\\rho_wg}2\\big(\\eta^2-2\\eta w|_{z=0}\\big)\n",
    "+\\big[\\tau_{22}w\\big]_{-h}^0\n",
    "\\right)\\\\\n",
    "&\\quad+\\int_{t_0}^{t_1}\\textrm{d}t\n",
    "\\int_{-h}^0\\textrm{d}z\n",
    "\\big[\\tau_{11}u\\big]_{x_0}^{x_1}\n",
    "\\end{align}"
   ]
  },
  {
   "cell_type": "markdown",
   "id": "d3b44d9b",
   "metadata": {},
   "source": [
    "\\begin{align}\n",
    "0 &= \\delta\\mathscr{L}\\\\\n",
    "&= \\int_{t_0}^{t_1}\\textrm{d}t\n",
    "\\int_{-h}^0\\textrm{d}z\n",
    "\\int_{x_0}^{x_1}\\textrm{d}x\n",
    "\\left(\n",
    "\\rho_w\\big(u_t\\delta u_t+w_t\\delta w_t\\big)\n",
    "+p(\\delta u_x+\\delta w_z)\n",
    "+\\delta p(u_x+w_z)\n",
    "-\\rho_wg\\delta w\n",
    "\\right)\\\\\n",
    "&\\quad+\\int_{t_0}^{t_1}\\textrm{d}t\n",
    "\\int_{x_0}^{x_1}\\textrm{d}x\n",
    "\\Big(\n",
    "\\rho_wg\\delta\\eta\\big(\\eta- w|_{z=0}\\big)\n",
    "+\\big(\\tau_{22}|_{z=0}-\\rho_wg\\eta\\big)\\delta w|_{z=0}\\\\\n",
    "&\\qquad\\qquad\\qquad\\qquad\n",
    "-\\tau_{22}|_{z=-h}\\delta w|_{z=-h}\n",
    "-w|_{z=-h}\\delta \\tau_{22}|_{z=-h}\n",
    "\\Big)\\\\\n",
    "&\\quad+\\int_{t_0}^{t_1}\\textrm{d}t\n",
    "\\int_{-h}^0\\textrm{d}z\n",
    "\\big[\\tau_{11}\\delta u + \\delta\\tau_{11}u\\big]_{x_0}^{x_1}\n",
    "\\end{align}"
   ]
  },
  {
   "cell_type": "markdown",
   "id": "ca743a17",
   "metadata": {},
   "source": [
    "\\begin{align}\n",
    "0 &= \\int_{t_0}^{t_1}\\textrm{d}t\n",
    "\\int_{-h}^0\\textrm{d}z\n",
    "\\int_{x_0}^{x_1}\\textrm{d}x\n",
    "\\left(\n",
    "-\\delta u\\big(\\rho_w u_{tt}+p_x\\big)\n",
    "-\\delta w\\big(\\rho_w w_{tt}+p_z +\\rho_wg\\big)\n",
    "+\\delta p(u_x+w_z)\n",
    "\\right)\\\\\n",
    "&\\quad+\\int_{t_0}^{t_1}\\textrm{d}t\n",
    "\\int_{x_0}^{x_1}\\textrm{d}x\n",
    "\\Big(\n",
    "\\rho_wg\\delta\\eta\\big(\\eta- w|_{z=0}\\big)\n",
    "+\\big(\\tau_{22}|_{z=0}+p|_{z=0}-\\rho_wg\\eta\\big)\\delta w|_{z=0}\\\\\n",
    "&\\qquad\\qquad\\qquad\\qquad\n",
    "-\\big(\\tau_{22}|_{z=-h}+p_{z=-h}\\big)\\delta w|_{z=-h}\n",
    "-w|_{z=-h}\\delta \\tau_{22}|_{z=-h}\n",
    "\\Big)\\\\\n",
    "&\\quad+\\int_{t_0}^{t_1}\\textrm{d}t\n",
    "\\int_{-h}^0\\textrm{d}z\n",
    "\\big[\\big(\\tau_{11}+p\\big)\\delta u + \\delta\\tau_{11}u\\big]_{x_0}^{x_1}\n",
    "\\end{align}"
   ]
  },
  {
   "cell_type": "markdown",
   "id": "c1f16171",
   "metadata": {},
   "source": [
    "The full governing equations are the usual momentum equations and the incompressibility terms\n",
    "\\begin{align}\n",
    "0 &= \\rho_w u_{tt}+p_x,\\\\\n",
    "0 &= \\rho_w w_{tt}+p_z +\\rho_wg,\\\\\n",
    "0 &= u_x+w_z,\n",
    "\\end{align}\n",
    "and we also have horizontal boundary conditions\n",
    "\\begin{align}\n",
    "0 &= \\eta-w|_{z=0},\\\\\n",
    "0 &= \\tau_{22}|_{z=0}+p|_{z=0}-\\rho_wg\\eta\\\\\n",
    "&= -p_a+p|_{z=0}-\\rho_wg\\eta,\\\\\n",
    "0 &= w|_{z=-h},\n",
    "\\end{align}"
   ]
  },
  {
   "cell_type": "markdown",
   "id": "e179444a",
   "metadata": {},
   "source": [
    "We now make the approximations\n",
    "\\begin{align}\n",
    "u&=U(x,t),\\\\\n",
    "w&=(z+h)\\frac{\\eta}h,\n",
    "\\end{align}\n",
    "and to satisfy as many of the governing equations as possible we also require\n",
    "\\begin{align}\n",
    "\\eta&=-hU_x,\\\\\n",
    "p&=p|_{z=0}-\\rho_wgz-\\int_{0}^z\\big(\\rho_ww_{tt}\\big)\\textrm{d}z'\\\\\n",
    "&=p_a + \\rho_wg(\\eta-z) - \\rho_w(z^2+2zh)\\frac{\\eta_{tt}}{2h}\\\\\n",
    "&=p_a - \\rho_wg(hU_x + z) + \\rho_w(z^2+2zh)\\frac{U_{xtt}}{2}.\n",
    "\\end{align}"
   ]
  },
  {
   "cell_type": "markdown",
   "id": "625cd8c3",
   "metadata": {},
   "source": [
    "Then from the term corresponding to the horizontal momentum equation we get\n",
    "\\begin{align}\n",
    "0&=\\rho_whU_{tt}\n",
    "-\\rho_wgh^2U_{xx}\n",
    "- \\rho_w\\frac{h^3}3U_{xxtt},\n",
    "\\end{align}\n",
    "or as Porter (2019) writes it\n",
    "\\begin{align}\n",
    "0& = gQ_{xx} + \\frac{h}3Q_{xxtt} -\\frac{1}{h}Q_{tt},\n",
    "\\end{align}\n",
    "with $Q=hU$."
   ]
  },
  {
   "cell_type": "markdown",
   "id": "85c7c8d3",
   "metadata": {},
   "source": [
    "This is Diki's extended shallow water equation; if we neglect the vertical kinetic energy in the Lagrangian the final term disappears and the governing equation is the usual shallow water equation. The conditions at any vertical boundaries will be different though."
   ]
  },
  {
   "cell_type": "code",
   "execution_count": 1,
   "id": "62331bc6",
   "metadata": {},
   "outputs": [],
   "source": [
    "import numpy as np\n",
    "\n",
    "from pywave.scattering.extended_shallow_water import ExtendedShallowWater\n",
    "from pywave.scattering.medium_boundary import MediumBoundary\n",
    "from pywave.utils.jacobi_polynomials import JacobiPolynomials\n",
    "from collections import namedtuple"
   ]
  },
  {
   "cell_type": "code",
   "execution_count": 2,
   "id": "a7caa472",
   "metadata": {},
   "outputs": [],
   "source": [
    "Jacobi = namedtuple('Jacobi', ['jp', 'z', 'w', 'h', 'ipm'])"
   ]
  },
  {
   "cell_type": "code",
   "execution_count": 3,
   "id": "f0441bf1",
   "metadata": {},
   "outputs": [],
   "source": [
    "class ESWJacobi(MediumBoundary):\n",
    "    \n",
    "    def __init__(self, lhs, rhs, max_degree=5, **kwargs):\n",
    "        super().__init__(lhs, rhs, **kwargs)\n",
    "        self.max_degree = max_degree\n",
    "        hh = [med.depth for med in self.media]\n",
    "        self.min_depth = np.min(hh)\n",
    "        self.deeper_media = np.argmin(hh)\n",
    "        jp = JacobiPolynomials(alpha=-1./3, beta=0, a=-self.min_depth, b=0)\n",
    "        xwh = jp.quad_points_weights()\n",
    "        ipm = jp.get_inner_product_matrix(xwh=xwh)\n",
    "        self.jacobi = Jacobi(jp, *xwh, ipm)\n",
    "\n",
    "\n",
    "#     def assemble(self):\n",
    "        #lhs\n",
    "        "
   ]
  },
  {
   "cell_type": "code",
   "execution_count": 4,
   "id": "ea14f72f",
   "metadata": {},
   "outputs": [],
   "source": [
    "esw1 = ExtendedShallowWater(depth=40, period=15)\n",
    "esw2 = ExtendedShallowWater(depth=60, period=15)"
   ]
  },
  {
   "cell_type": "code",
   "execution_count": 5,
   "id": "2d98b384",
   "metadata": {},
   "outputs": [],
   "source": [
    "bdy = ESWJacobi(esw1, esw2, max_degree=4)"
   ]
  },
  {
   "cell_type": "code",
   "execution_count": 6,
   "id": "6e7c484a",
   "metadata": {},
   "outputs": [
    {
     "data": {
      "text/plain": [
       "{'position': 0,\n",
       " 'media': [<pywave.scattering.extended_shallow_water.ExtendedShallowWater at 0x7f9ccc6c71d0>,\n",
       "  <pywave.scattering.extended_shallow_water.ExtendedShallowWater at 0x7f9c730ce0b8>],\n",
       " 'condition_types': [{'displacement': True}, {'displacement': True}],\n",
       " 'max_degree': 4,\n",
       " 'min_depth': 100,\n",
       " 'deeper_media': 0,\n",
       " 'jacobi': Jacobi(jp=<pywave.utils.jacobi_polynomials.JacobiPolynomials object at 0x7f9c730ce048>, z=array([-97.93410781, -89.43397892, -75.39702276, -57.79098638,\n",
       "        -39.08807911, -21.91486771,  -8.68290357,  -1.24741544]), w=array([1.14221113, 2.58018351, 3.83526227, 4.80875109, 5.41289453,\n",
       "        5.56336825, 5.14818058, 3.82566899]), h=array([32.31652035,  8.07913009,  4.61664576,  3.23165204,  2.48588618,\n",
       "         2.01978252,  1.70086949,  1.46893274]), ipm=array([[ 0.0353445 ,  0.07984101,  0.11867807,  0.14880164,  0.16749621,\n",
       "          0.17215245,  0.15930492,  0.11838122],\n",
       "        [-0.13651012, -0.26312391, -0.28005669, -0.17648853,  0.01018289,\n",
       "          0.20755999,  0.33259783,  0.30583854],\n",
       "        [ 0.22066768,  0.27444641, -0.01348399, -0.39596083, -0.50970922,\n",
       "         -0.22130346,  0.23028355,  0.41505984],\n",
       "        [-0.27694663, -0.08400831,  0.46684998,  0.42479731, -0.28547422,\n",
       "         -0.6304364 , -0.08322168,  0.46843995],\n",
       "        [ 0.29737424, -0.22653968, -0.51595536,  0.39519549,  0.55578649,\n",
       "         -0.5024837 , -0.47186194,  0.46848447],\n",
       "        [-0.27773328,  0.50054783, -0.01464967, -0.67342634,  0.6318456 ,\n",
       "          0.17414561, -0.7575678 ,  0.41683805],\n",
       "        [ 0.2180552 , -0.58261278,  0.64072298, -0.25179982, -0.37177803,\n",
       "          0.82122655, -0.7908622 ,  0.31704811],\n",
       "        [-0.12269837,  0.39854476, -0.68079014,  0.87416536, -0.91628987,\n",
       "          0.78753034, -0.51567991,  0.17521782]]))}"
      ]
     },
     "execution_count": 6,
     "metadata": {},
     "output_type": "execute_result"
    }
   ],
   "source": [
    "vars(bdy)"
   ]
  },
  {
   "cell_type": "code",
   "execution_count": 7,
   "id": "6d0ba625",
   "metadata": {},
   "outputs": [
    {
     "data": {
      "text/plain": [
       "{'alpha': -0.3333333333333333, 'beta': 0, 'max_degree': 7, 'a': -100, 'b': 0}"
      ]
     },
     "execution_count": 7,
     "metadata": {},
     "output_type": "execute_result"
    }
   ],
   "source": [
    "vars(bdy.jacobi.jp)"
   ]
  },
  {
   "cell_type": "code",
   "execution_count": null,
   "id": "963bfeed",
   "metadata": {},
   "outputs": [],
   "source": []
  }
 ],
 "metadata": {
  "kernelspec": {
   "display_name": "Python 3",
   "language": "python",
   "name": "python3"
  },
  "language_info": {
   "codemirror_mode": {
    "name": "ipython",
    "version": 3
   },
   "file_extension": ".py",
   "mimetype": "text/x-python",
   "name": "python",
   "nbconvert_exporter": "python",
   "pygments_lexer": "ipython3",
   "version": "3.6.13"
  }
 },
 "nbformat": 4,
 "nbformat_minor": 5
}
