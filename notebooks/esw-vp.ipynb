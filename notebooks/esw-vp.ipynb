{
 "cells": [
  {
   "cell_type": "markdown",
   "id": "456ea8ea",
   "metadata": {},
   "source": [
    "## Variational principle for extended shallow water"
   ]
  },
  {
   "cell_type": "markdown",
   "id": "d820d013",
   "metadata": {},
   "source": [
    "\\begin{align}\n",
    "\\mathscr{L} &= \\int_{t_0}^{t_1}\\textrm{d}t\n",
    "\\int_{-h}^0\\textrm{d}z\n",
    "\\int_{x_0}^{x_1}\\textrm{d}x\n",
    "\\left(\n",
    "\\frac{\\rho_w}2\\big(u_t^2+w_t^2\\big)\n",
    "+p(u_x+w_z)\n",
    "-\\rho_wgw\n",
    "\\right)\\\\\n",
    "&\\quad+\\int_{t_0}^{t_1}\\textrm{d}t\n",
    "\\int_{x_0}^{x_1}\\textrm{d}x\n",
    "\\left(\n",
    "\\frac{\\rho_wg}2\\big(\\eta^2-2\\eta w|_{z=0}\\big)\n",
    "+\\big[\\tau_{22}w\\big]_{-h}^0\n",
    "\\right)\\\\\n",
    "&\\quad+\\int_{t_0}^{t_1}\\textrm{d}t\n",
    "\\int_{-h}^0\\textrm{d}z\n",
    "\\big[\\tau_{11}u\\big]_{x_0}^{x_1}\n",
    "\\end{align}"
   ]
  },
  {
   "cell_type": "markdown",
   "id": "d3b44d9b",
   "metadata": {},
   "source": [
    "\\begin{align}\n",
    "0 &= \\delta\\mathscr{L}\\\\\n",
    "&= \\int_{t_0}^{t_1}\\textrm{d}t\n",
    "\\int_{-h}^0\\textrm{d}z\n",
    "\\int_{x_0}^{x_1}\\textrm{d}x\n",
    "\\left(\n",
    "\\rho_w\\big(u_t\\delta u_t+w_t\\delta w_t\\big)\n",
    "+p(\\delta u_x+\\delta w_z)\n",
    "+\\delta p(u_x+w_z)\n",
    "-\\rho_wg\\delta w\n",
    "\\right)\\\\\n",
    "&\\quad+\\int_{t_0}^{t_1}\\textrm{d}t\n",
    "\\int_{x_0}^{x_1}\\textrm{d}x\n",
    "\\Big(\n",
    "\\rho_wg\\delta\\eta\\big(\\eta- w|_{z=0}\\big)\n",
    "+\\big(\\tau_{22}|_{z=0}-\\rho_wg\\eta\\big)\\delta w|_{z=0}\\\\\n",
    "&\\qquad\\qquad\\qquad\\qquad\n",
    "-\\tau_{22}|_{z=-h}\\delta w|_{z=-h}\n",
    "-w|_{z=-h}\\delta \\tau_{22}|_{z=-h}\n",
    "\\Big)\\\\\n",
    "&\\quad+\\int_{t_0}^{t_1}\\textrm{d}t\n",
    "\\int_{-h}^0\\textrm{d}z\n",
    "\\big[\\tau_{11}\\delta u + \\delta\\tau_{11}u\\big]_{x_0}^{x_1}\n",
    "\\end{align}"
   ]
  },
  {
   "cell_type": "markdown",
   "id": "ca743a17",
   "metadata": {},
   "source": [
    "\\begin{align}\n",
    "0 &= \\int_{t_0}^{t_1}\\textrm{d}t\n",
    "\\int_{-h}^0\\textrm{d}z\n",
    "\\int_{x_0}^{x_1}\\textrm{d}x\n",
    "\\left(\n",
    "-\\delta u\\big(\\rho_w u_{tt}+p_x\\big)\n",
    "-\\delta w\\big(\\rho_w w_{tt}+p_z +\\rho_wg\\big)\n",
    "+\\delta p(u_x+w_z)\n",
    "\\right)\\\\\n",
    "&\\quad+\\int_{t_0}^{t_1}\\textrm{d}t\n",
    "\\int_{x_0}^{x_1}\\textrm{d}x\n",
    "\\Big(\n",
    "\\rho_wg\\delta\\eta\\big(\\eta- w|_{z=0}\\big)\n",
    "+\\big(\\tau_{22}|_{z=0}+p|_{z=0}-\\rho_wg\\eta\\big)\\delta w|_{z=0}\\\\\n",
    "&\\qquad\\qquad\\qquad\\qquad\n",
    "-\\big(\\tau_{22}|_{z=-h}+p_{z=-h}\\big)\\delta w|_{z=-h}\n",
    "-w|_{z=-h}\\delta \\tau_{22}|_{z=-h}\n",
    "\\Big)\\\\\n",
    "&\\quad+\\int_{t_0}^{t_1}\\textrm{d}t\n",
    "\\int_{-h}^0\\textrm{d}z\n",
    "\\big[\\big(\\tau_{11}+p\\big)\\delta u + \\delta\\tau_{11}u\\big]_{x_0}^{x_1}\n",
    "\\end{align}"
   ]
  },
  {
   "cell_type": "markdown",
   "id": "c1f16171",
   "metadata": {},
   "source": [
    "The full governing equations are the usual momentum equations and the incompressibility terms\n",
    "\\begin{align}\n",
    "0 &= \\rho_w u_{tt}+p_x,\\\\\n",
    "0 &= \\rho_w w_{tt}+p_z +\\rho_wg,\\\\\n",
    "0 &= u_x+w_z,\n",
    "\\end{align}\n",
    "and we also have horizontal boundary conditions\n",
    "\\begin{align}\n",
    "0 &= \\eta-w|_{z=0},\\\\\n",
    "0 &= \\tau_{22}|_{z=0}+p|_{z=0}-\\rho_wg\\eta\\\\\n",
    "&= -p_a+p|_{z=0}-\\rho_wg\\eta,\\\\\n",
    "0 &= w|_{z=-h},\n",
    "\\end{align}"
   ]
  },
  {
   "cell_type": "markdown",
   "id": "e179444a",
   "metadata": {},
   "source": [
    "We now make the approximations\n",
    "\\begin{align}\n",
    "u&=U(x,t),\\\\\n",
    "w&=(z+h)\\frac{\\eta}h,\n",
    "\\end{align}\n",
    "and to satisfy as many of the governing equations as possible we also require\n",
    "\\begin{align}\n",
    "\\eta&=-hU_x,\\\\\n",
    "p&=p|_{z=0}-\\rho_wgz-\\int_{-h}^0\\big(\\rho_ww_{tt}\\big)\\textrm{d}z\\\\\n",
    "&=p_a + \\rho_wg(\\eta-z) + \\rho_w(z^2+2zh)\\frac{\\eta_{tt}}{2h}\\\\\n",
    "&=p_a - \\rho_wg(hU_x + z) - \\rho_w(z^2+2zh)\\frac{U_{xtt}}{2}.\n",
    "\\end{align}"
   ]
  },
  {
   "cell_type": "markdown",
   "id": "625cd8c3",
   "metadata": {},
   "source": [
    "Then from the term corresponding to the horizontal momentum equation we get\n",
    "\\begin{align}\n",
    "0&=\\rho_whU_{tt}\n",
    "-\\rho_wgh^2U_{xx}\n",
    "+ \\rho_w\\frac{h^3}3U_{xxtt},\n",
    "\\end{align}\n",
    "or as Porter (2019) writes it\n",
    "\\begin{align}\n",
    "0& = gQ_{xx} - \\frac{h}3Q_{xxtt} -\\frac{1}{h}Q_{tt},\n",
    "\\end{align}\n",
    "with $Q=hU$."
   ]
  },
  {
   "cell_type": "markdown",
   "id": "85c7c8d3",
   "metadata": {},
   "source": [
    "This is Diki's extended shallow water equation; if we neglect the vertical kinetic energy in the Lagrangian the final term disappears and the governing equation is the usual shallow water equation. The conditions at any vertical boundaries will be different though."
   ]
  },
  {
   "cell_type": "code",
   "execution_count": null,
   "id": "62331bc6",
   "metadata": {},
   "outputs": [],
   "source": []
  }
 ],
 "metadata": {
  "kernelspec": {
   "display_name": "Python 3",
   "language": "python",
   "name": "python3"
  },
  "language_info": {
   "codemirror_mode": {
    "name": "ipython",
    "version": 3
   },
   "file_extension": ".py",
   "mimetype": "text/x-python",
   "name": "python",
   "nbconvert_exporter": "python",
   "pygments_lexer": "ipython3",
   "version": "3.6.9"
  }
 },
 "nbformat": 4,
 "nbformat_minor": 5
}
