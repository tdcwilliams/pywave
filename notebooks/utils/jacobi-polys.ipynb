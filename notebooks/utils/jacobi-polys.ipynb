{
 "cells": [
  {
   "cell_type": "code",
   "execution_count": 1,
   "id": "ed9eca04",
   "metadata": {},
   "outputs": [],
   "source": [
    "import numpy as np\n",
    "from scipy.special import jacobi, hyp1f1, gamma\n",
    "from matplotlib import pyplot as plt\n",
    "import sympy\n",
    "\n",
    "from pywave.utils.jacobi_polynomials import JacobiPolynomials"
   ]
  },
  {
   "cell_type": "markdown",
   "id": "1ac48500",
   "metadata": {},
   "source": [
    "- Orthogonality https://functions.wolfram.com/Polynomials/JacobiP/21/02/01/0001/\n",
    "  \\begin{align}\n",
    "  h_m\\delta_{mn} \n",
    "  &= \\int_{-1}^1(1-t)^{\\alpha}(1+t)^\\beta \n",
    "  P_m^{(\\alpha,\\beta)}(t)P_n^{(\\alpha,\\beta)}(t)dt\\\\\n",
    "  &=\\frac\n",
    "  {2^{\\alpha+\\beta+1}\\Gamma(\\alpha+m+1)\\Gamma(\\beta+m+1)}\n",
    "  {m!(\\alpha+\\beta+2m+1)\\Gamma(\\alpha+\\beta+m+1)}\\delta_{mn}\n",
    "  \\end{align}\n",
    "- Recurrence relation\n",
    "  https://en.wikipedia.org/wiki/Jacobi_polynomials#Recurrence_relations\n",
    "- Roots from companion matrix\n",
    "  https://core.ac.uk/download/pdf/82721955.pdf\n",
    "- Quadrature weights from\n",
    "  https://en.wikipedia.org/wiki/Gauss%E2%80%93Jacobi_quadrature\n",
    "  - General formula for Gaussian quadrature weights\n",
    "  https://en.wikipedia.org/wiki/Gaussian_quadrature#General_formula_for_the_weights"
   ]
  },
  {
   "cell_type": "markdown",
   "id": "238984bd",
   "metadata": {},
   "source": [
    "## Test and time calculation of the polynomials\n",
    "Compare to `scipy.spatial.jacobi`"
   ]
  },
  {
   "cell_type": "code",
   "execution_count": 2,
   "id": "933bef26",
   "metadata": {},
   "outputs": [],
   "source": [
    "alf = 1.5 #.25\n",
    "bet = .5 #.75\n",
    "max_deg = 10\n",
    "jp = JacobiPolynomials(alpha=alf, beta=bet, max_degree=max_deg)\n",
    "# t = np.linspace(-1,1,15)\n",
    "t,_,_ = jp.quad_points_weights()"
   ]
  },
  {
   "cell_type": "code",
   "execution_count": 3,
   "id": "9e6d677d",
   "metadata": {
    "scrolled": true
   },
   "outputs": [
    {
     "name": "stdout",
     "output_type": "stream",
     "text": [
      "CPU times: user 0 ns, sys: 661 µs, total: 661 µs\n",
      "Wall time: 513 µs\n"
     ]
    }
   ],
   "source": [
    "%time pn = jp.get_polys(t)"
   ]
  },
  {
   "cell_type": "code",
   "execution_count": 4,
   "id": "1e9cd906",
   "metadata": {},
   "outputs": [
    {
     "name": "stdout",
     "output_type": "stream",
     "text": [
      "CPU times: user 4.45 ms, sys: 118 µs, total: 4.57 ms\n",
      "Wall time: 3.59 ms\n"
     ]
    }
   ],
   "source": [
    "%%time\n",
    "pn2 = np.ones((len(t), max_deg+1))\n",
    "for n in range(1, max_deg + 1):\n",
    "    pn2[:,n] = jacobi(n, alf, bet)(t)"
   ]
  },
  {
   "cell_type": "code",
   "execution_count": 5,
   "id": "858e8df8",
   "metadata": {},
   "outputs": [
    {
     "name": "stdout",
     "output_type": "stream",
     "text": [
      "[[-1.69281661 -1.69281661]\n",
      " [ 0.09954254  0.09954254]\n",
      " [ 0.64874116  0.64874116]\n",
      " [-0.12383926 -0.12383926]\n",
      " [-0.52515133 -0.52515133]\n",
      " [ 0.1841687   0.1841687 ]\n",
      " [ 0.62799587  0.62799587]\n",
      " [-0.35265085 -0.35265085]\n",
      " [-1.18264868 -1.18264868]\n",
      " [ 1.07753743  1.07753743]\n",
      " [ 6.64579517  6.64579517]]\n"
     ]
    }
   ],
   "source": [
    "n = 5\n",
    "print(np.array([pn[:,n],pn2[:,n]]).T)"
   ]
  },
  {
   "cell_type": "markdown",
   "id": "ef275934",
   "metadata": {},
   "source": [
    "## Test quadrature scheme\n",
    "### Default interval"
   ]
  },
  {
   "cell_type": "code",
   "execution_count": 6,
   "id": "bbb5f706",
   "metadata": {},
   "outputs": [
    {
     "data": {
      "text/latex": [
       "$\\displaystyle \\int\\limits_{-1}^{1} t^{2} \\left(1 - t\\right)^{1.5} \\left(t + 1\\right)^{0.5}\\, dt$"
      ],
      "text/plain": [
       "Integral(t**2*(1 - t)**1.5*(t + 1)**0.5, (t, -1, 1))"
      ]
     },
     "execution_count": 6,
     "metadata": {},
     "output_type": "execute_result"
    }
   ],
   "source": [
    "t = sympy.Symbol('t')\n",
    "ig = sympy.Integral((1-t)**1.5*(1+t)**.5*(t**2), (t,-1,1))\n",
    "ig"
   ]
  },
  {
   "cell_type": "code",
   "execution_count": 7,
   "id": "490b1651",
   "metadata": {},
   "outputs": [
    {
     "data": {
      "text/latex": [
       "$\\displaystyle 0.392699081698724$"
      ],
      "text/plain": [
       "0.392699081698724"
      ]
     },
     "execution_count": 7,
     "metadata": {},
     "output_type": "execute_result"
    }
   ],
   "source": [
    "ig.evalf()"
   ]
  },
  {
   "cell_type": "code",
   "execution_count": 8,
   "id": "16b3ab79",
   "metadata": {},
   "outputs": [
    {
     "data": {
      "text/plain": [
       "0.3926990816987234"
      ]
     },
     "execution_count": 8,
     "metadata": {},
     "output_type": "execute_result"
    }
   ],
   "source": [
    "jp = JacobiPolynomials(alpha=1.5, beta=.5, max_degree=50)\n",
    "x, w, hm = jp.quad_points_weights()\n",
    "f = x**2\n",
    "np.sum(w*f)"
   ]
  },
  {
   "cell_type": "markdown",
   "id": "89f19d50",
   "metadata": {},
   "source": [
    "### Arbitrary interval"
   ]
  },
  {
   "cell_type": "code",
   "execution_count": 9,
   "id": "c5c83e16",
   "metadata": {},
   "outputs": [
    {
     "data": {
      "text/latex": [
       "$\\displaystyle \\int\\limits_{-1.2}^{2.1} 3.33364665194138 t^{2} \\left(1 - 0.476190476190476 t\\right)^{1.5} \\left(0.833333333333333 t + 1\\right)^{0.5}\\, dt$"
      ],
      "text/plain": [
       "Integral(3.33364665194138*t**2*(1 - 0.476190476190476*t)**1.5*(0.833333333333333*t + 1)**0.5, (t, -1.2, 2.1))"
      ]
     },
     "execution_count": 9,
     "metadata": {},
     "output_type": "execute_result"
    }
   ],
   "source": [
    "ig = sympy.Integral((2.1-t)**1.5*(1.2+t)**.5*(t**2), (t,-1.2,2.1))\n",
    "ig"
   ]
  },
  {
   "cell_type": "code",
   "execution_count": 10,
   "id": "b6bdf3c9",
   "metadata": {},
   "outputs": [
    {
     "data": {
      "text/latex": [
       "$\\displaystyle 3.61189925946462 + 5.0 \\cdot 10^{-26} i$"
      ],
      "text/plain": [
       "3.61189925946462 + 0.e-25*I"
      ]
     },
     "execution_count": 10,
     "metadata": {},
     "output_type": "execute_result"
    }
   ],
   "source": [
    "ig.evalf()"
   ]
  },
  {
   "cell_type": "code",
   "execution_count": 11,
   "id": "cfda9efc",
   "metadata": {},
   "outputs": [
    {
     "data": {
      "text/plain": [
       "3.61189925946461"
      ]
     },
     "execution_count": 11,
     "metadata": {},
     "output_type": "execute_result"
    }
   ],
   "source": [
    "jp = JacobiPolynomials(alpha=1.5, beta=.5, a=-1.2, b=2.1, max_degree=50)\n",
    "x, w, hm = jp.quad_points_weights()\n",
    "f = x**2\n",
    "np.sum(w*f)"
   ]
  },
  {
   "cell_type": "markdown",
   "id": "227d1a61",
   "metadata": {},
   "source": [
    "## Test orthogonality\n",
    "### Default interval"
   ]
  },
  {
   "cell_type": "code",
   "execution_count": 12,
   "id": "10995d23",
   "metadata": {},
   "outputs": [
    {
     "name": "stdout",
     "output_type": "stream",
     "text": [
      "0 1.5707963267948963 0 1.5707963267948963 1.5707963267948966 1.5707963267948963 1.5707963267948966\n",
      "1 4.551480720094148e-16 0 1.1780972450961726 1.1780972450961724 1.1780972450961726 1.1780972450961724\n",
      "2 -2.177077962350893e-16 0 0.9203884727313841 0.9203884727313847 0.9203884727313842 0.920388472731384\n",
      "3 4.49293380277993e-16 0 0.7516505860639633 0.7516505860639642 0.751650586063963 0.7516505860639628\n",
      "4 -7.450637329320386e-16 0 0.6342051819914697 0.6342051819914698 0.6342051819914694 0.6342051819914694\n",
      "5 1.2932363513407097e-15 0 0.5481344787211995 0.5481344787211989 0.5481344787211994 0.5481344787211992\n",
      "6 -1.0685896612017132e-15 0 0.48247253595772305 0.482472535957722 0.48247253595772277 0.4824725359577227\n",
      "7 8.257283745649602e-16 0 0.43077904996225236 0.4307790499622518 0.4307790499622522 0.43077904996225225\n",
      "8 3.972516759986888e-16 0 0.38904732949715864 0.38904732949715864 0.38904732949715853 0.3890473294971585\n",
      "9 -1.4424225702747151e-15 0 0.35466183320321815 0.35466183320321787 0.3546618332032179 0.3546618332032179\n",
      "10 1.4927295510780425e-15 0 0.32584555925545705 0.32584555925545644 0.3258455592554567 0.3258455592554568\n",
      "11 -7.814929259275516e-16 0 0.3013501763044345 0.3013501763044344 0.3013501763044343 0.30135017630443434\n",
      "12 7.311859451242242e-16 0 0.2802736014736183 0.2802736014736183 0.28027360147361813 0.2802736014736182\n"
     ]
    }
   ],
   "source": [
    "max_deg = 13\n",
    "jp = JacobiPolynomials(alpha=1.5, beta=.5, max_degree=max_deg)\n",
    "x, w, hm = jp.quad_points_weights()\n",
    "pm = jp.get_polys(x)\n",
    "for i in range(max_deg):\n",
    "    f = jacobi(i,1.5,.5)(x)\n",
    "    g = pm[:,i]\n",
    "    print(i, np.sum(w*f), 0, np.sum(w*f**2), hm[i], np.sum(w*g**2), pm[:,i].dot(w*pm[:,i]))"
   ]
  },
  {
   "cell_type": "code",
   "execution_count": 13,
   "id": "3310a934",
   "metadata": {},
   "outputs": [
    {
     "data": {
      "text/plain": [
       "(array([1., 1., 1., 1., 1., 1., 1., 1., 1., 1., 1., 1., 1., 1.]),\n",
       " array([-1.38864614e-15,  3.66216650e-16, -8.39659139e-16,  2.37730442e-16,\n",
       "         1.10780088e-15,  4.99352583e-16,  2.70366217e-15,  7.02570331e-16,\n",
       "         1.51279347e-15, -5.58682402e-16,  1.51606935e-15, -2.94919137e-16,\n",
       "         1.30915790e-15,  1.00000000e+00]))"
      ]
     },
     "execution_count": 13,
     "metadata": {},
     "output_type": "execute_result"
    }
   ],
   "source": [
    "ip = np.diag(1/hm).dot(pm.T).dot(np.diag(w)).dot(pm)\n",
    "np.diag(ip), ip[-1]"
   ]
  },
  {
   "cell_type": "markdown",
   "id": "072d082a",
   "metadata": {},
   "source": [
    "### Arbitrary interval"
   ]
  },
  {
   "cell_type": "code",
   "execution_count": 14,
   "id": "e4951ecc",
   "metadata": {},
   "outputs": [
    {
     "data": {
      "text/plain": [
       "(array([1., 1., 1., 1., 1., 1., 1., 1., 1., 1., 1.]),\n",
       " array([-4.44089210e-16,  2.65065747e-15, -1.87350135e-15,  5.16253706e-15,\n",
       "        -2.47024623e-15,  4.77395901e-15, -2.35922393e-15,  2.94209102e-15,\n",
       "        -2.06326709e-15,  8.90432581e-16,  1.00000000e+00]))"
      ]
     },
     "execution_count": 14,
     "metadata": {},
     "output_type": "execute_result"
    }
   ],
   "source": [
    "a = -1.2\n",
    "b = 2.1\n",
    "max_deg = 10\n",
    "jp = JacobiPolynomials(alpha=1.5, beta=.5, a=a, b=b, max_degree=max_deg)\n",
    "x, w, hm = jp.quad_points_weights()\n",
    "pm = jp.get_polys(x)\n",
    "ip = np.diag(1/hm).dot(pm.T).dot(np.diag(w)).dot(pm)\n",
    "np.diag(ip), ip[-1]"
   ]
  },
  {
   "cell_type": "markdown",
   "id": "2a76b26c",
   "metadata": {},
   "source": [
    "## Polynomial expansion"
   ]
  },
  {
   "cell_type": "code",
   "execution_count": 15,
   "id": "90b0ed8f",
   "metadata": {},
   "outputs": [
    {
     "name": "stdout",
     "output_type": "stream",
     "text": [
      "11\n"
     ]
    },
    {
     "data": {
      "image/png": "[encoded data removed]",
      "text/plain": [
       "<Figure size 432x288 with 1 Axes>"
      ]
     },
     "metadata": {
      "needs_background": "light"
     },
     "output_type": "display_data"
    }
   ],
   "source": [
    "a = -1.2\n",
    "b = 2.1\n",
    "max_deg = 10\n",
    "jp = JacobiPolynomials(alpha=1.5, beta=.5, a=a, b=b, max_degree=max_deg)\n",
    "x, w, hm = jp.quad_points_weights()\n",
    "print(len(x))\n",
    "f = lambda x: np.cos(3*x) + .2*np.sin(x/2.2)\n",
    "fn = jp.get_coeffs(f(x))\n",
    "\n",
    "xx = np.linspace(a, b, 40)\n",
    "pm = jp.get_polys(xx)\n",
    "f_approx = pm.dot(fn)\n",
    "\n",
    "plt.plot(xx, f(xx), label='exact')\n",
    "plt.plot(xx, f_approx, '--r', label='expansion')\n",
    "plt.legend()\n",
    "plt.show()"
   ]
  },
  {
   "cell_type": "markdown",
   "id": "7e3a512d",
   "metadata": {},
   "source": [
    "## Derivatives"
   ]
  },
  {
   "cell_type": "code",
   "execution_count": 16,
   "id": "c37034af",
   "metadata": {},
   "outputs": [
    {
     "data": {
      "image/png": "[encoded data removed]",
      "text/plain": [
       "<Figure size 432x288 with 1 Axes>"
      ]
     },
     "metadata": {
      "needs_background": "light"
     },
     "output_type": "display_data"
    }
   ],
   "source": [
    "a = -1.2\n",
    "b = 2.1\n",
    "max_deg = 10\n",
    "jp = JacobiPolynomials(alpha=1.5, beta=.5, a=a, b=b, max_degree=max_deg)\n",
    "x, w, hm = jp.quad_points_weights()\n",
    "f = lambda x: np.cos(3*x) + .2*np.sin(x/2.2)\n",
    "df = lambda x: -3*np.sin(3*x) + np.cos(x/2.2)/11\n",
    "\n",
    "fn = jp.get_coeffs(f(x))\n",
    "xx = np.linspace(a, b, 40)\n",
    "df_approx = jp.get_derivatives(xx).dot(fn)\n",
    "\n",
    "plt.plot(xx, df(xx), label='exact')\n",
    "plt.plot(xx, df_approx, '--r', label='expansion')\n",
    "plt.legend()\n",
    "plt.show()"
   ]
  },
  {
   "cell_type": "markdown",
   "id": "9265af42",
   "metadata": {},
   "source": [
    "## Solve an ODE\n",
    "\\begin{align}\n",
    "&\\dot y(t) + g(t)y(t) = f(t),\\\\\n",
    "& y(t) = \\sum_{n=0}^Na_nP_n^{(\\alpha,\\beta)}(t),\\\\\n",
    "& \\dot y(t) = \\frac12\\sum_{n=0}^{N-1}a_{n+1}(n + \\alpha + \\beta + 2)P_{n}^{(\\alpha+1,\\beta+1)}(t)\n",
    "\\end{align}"
   ]
  },
  {
   "cell_type": "code",
   "execution_count": 17,
   "id": "4ebf86f2",
   "metadata": {},
   "outputs": [
    {
     "data": {
      "image/png": "[encoded data removed]",
      "text/plain": [
       "<Figure size 432x288 with 2 Axes>"
      ]
     },
     "metadata": {
      "needs_background": "light"
     },
     "output_type": "display_data"
    }
   ],
   "source": [
    "max_deg = 10\n",
    "alp = -.5\n",
    "bet = -.5\n",
    "a = -1.2\n",
    "b = 2.1\n",
    "y = lambda x : np.cos(3*x) + .2*np.sin(x/2.2)\n",
    "f = lambda x: -3*np.sin(3*x) + np.cos(x/2.2)/11\n",
    "y0 = y(0)\n",
    "\n",
    "# inner product with expansion of derivatives\n",
    "jp = JacobiPolynomials(alpha=alp, beta=bet, a=a, b=b, max_degree=3*max_deg)\n",
    "djp, factors = jp.get_derivatives_factors()\n",
    "factors = factors[:max_deg]\n",
    "x, w, hm = djp.quad_points_weights()\n",
    "ip = djp.get_inner_product_matrix()[:max_deg]\n",
    "\n",
    "# make matrix\n",
    "mat = np.zeros((max_deg + 1, max_deg + 1))\n",
    "mat[:max_deg, 1:] += np.diag(factors)\n",
    "mat[-1] = jp.get_polys(np.array([0]))[:, :max_deg + 1]\n",
    "\n",
    "# make RHS vector\n",
    "vec = np.zeros((max_deg + 1,))\n",
    "vec[:max_deg] =ip.dot(f(x))\n",
    "vec[-1] = y0\n",
    "an = np.linalg.inv(mat).dot(vec)\n",
    "\n",
    "# check by plotting\n",
    "xx = np.linspace(a, b, 40)\n",
    "y_approx = jp.get_polys(xx)[:,:max_deg + 1].dot(an)\n",
    "dy_approx = jp.get_derivatives(xx)[:,:max_deg + 1].dot(an)\n",
    "\n",
    "fig, (ax1, ax2) = plt.subplots(1,2)\n",
    "ax1.plot(xx, y(xx), label='exact')\n",
    "ax1.plot(0, y0, 'ok')\n",
    "ax1.plot(xx, y_approx, '--r', label='expansion')\n",
    "ax2.plot(xx, f(xx), label='exact')\n",
    "ax2.plot(xx, dy_approx, '--r', label='expansion')\n",
    "ax2.legend()\n",
    "plt.show()"
   ]
  },
  {
   "cell_type": "code",
   "execution_count": 18,
   "id": "428d24a7",
   "metadata": {},
   "outputs": [
    {
     "data": {
      "image/png": "[encoded data removed]",
      "text/plain": [
       "<Figure size 432x288 with 2 Axes>"
      ]
     },
     "metadata": {
      "needs_background": "light"
     },
     "output_type": "display_data"
    }
   ],
   "source": [
    "max_deg = 10\n",
    "alp = -.5\n",
    "bet = -.5\n",
    "a = -1\n",
    "b = 1\n",
    "f = lambda x : np.cos(3*x) + .2*np.sin(x/2.2)\n",
    "g = lambda x : np.cos(2.3*x) + .1*np.sin(x/1.2)\n",
    "y0 = 3\n",
    "\n",
    "# inner product with expansion of derivatives\n",
    "jp = JacobiPolynomials(alpha=alp, beta=bet, a=a, b=b, max_degree=3*max_deg)\n",
    "djp, factors = jp.get_derivatives_factors()\n",
    "factors = factors[:max_deg]\n",
    "x, w, hm = djp.quad_points_weights()\n",
    "ip = djp.get_inner_product_matrix()[:max_deg]\n",
    "\n",
    "# make matrix\n",
    "mat = np.zeros((max_deg + 1, max_deg + 1))\n",
    "mat[:max_deg, 1:] += np.diag(factors)\n",
    "mat[:max_deg] += ip.dot(np.diag(g(x))).dot(jp.get_polys(x)[:, :max_deg + 1])\n",
    "mat[-1] = jp.get_polys(np.array([0]))[:, :max_deg + 1]\n",
    "\n",
    "# make RHS vector\n",
    "vec = np.zeros((max_deg + 1,))\n",
    "vec[:max_deg] =ip.dot(f(x))\n",
    "vec[-1] = y0\n",
    "an = np.linalg.inv(mat).dot(vec)\n",
    "\n",
    "# check by plotting\n",
    "xx = np.linspace(a, b, 40)\n",
    "y_approx = jp.get_polys(xx)[:,:max_deg + 1].dot(an)\n",
    "dy_approx = jp.get_derivatives(xx)[:,:max_deg + 1].dot(an)\n",
    "f_approx = dy_approx + g(xx)*y_approx\n",
    "fig, (ax1, ax2) = plt.subplots(1,2)\n",
    "ax1.plot(xx, y_approx)\n",
    "ax1.plot(0, y0, 'ok')\n",
    "ax2.plot(xx, f(xx), label='exact')\n",
    "ax2.plot(xx, f_approx, '--r', label='expansion')\n",
    "ax2.legend()\n",
    "ax2.set_ylim([-2,2])\n",
    "plt.show()"
   ]
  },
  {
   "cell_type": "markdown",
   "id": "4c0eebdd",
   "metadata": {},
   "source": [
    "## Integrals\n",
    "\\begin{align}\n",
    "I_{m}^{(\\alpha,\\beta)}(\\kappa) \n",
    "&= \\frac{1}{h_m}\\int_{-1}^{1}(1-t)^\\alpha(1+t)^\\beta \n",
    "P^{(\\alpha,\\beta)}_m(t)\\textrm{e}^{-\\kappa(1 - t)}\\textrm{d}t\\\\\n",
    "&= \\frac{\\textrm{e}^{-2\\kappa}}{h_m}\\int_{-1}^{1}(1-t)^\\alpha(1+t)^\\beta \n",
    "P^{(\\alpha,\\beta)}_m(t)\\textrm{e}^{\\kappa(1 + t)}\\textrm{d}t\\\\\n",
    "&=\n",
    "\\chi_m\\textrm{e}^{-2\\kappa}\n",
    "{}_{1}F_1(\\beta+m+1, \\alpha+\\beta+2m+2, 2\\kappa),\\\\\n",
    "\\chi_m\n",
    "&= \\frac{\\Gamma(\\alpha+1)\\Gamma(\\beta+m+1)}\n",
    "{h_m\\Gamma(\\alpha+\\beta+m+1)}\n",
    "\\kappa^m\\textrm{e}^{\\alpha+\\beta+m+1}\\\\\n",
    "&= \\kappa^m\\textrm{e}^{\\alpha+\\beta+m+1}\n",
    "\\frac{m!(\\alpha+\\beta+2m+1)\\Gamma(\\alpha+1)}\n",
    "{2^{\\alpha+\\beta+1}\\Gamma(\\alpha+m+1)}.\n",
    "\\end{align}"
   ]
  },
  {
   "cell_type": "markdown",
   "id": "91957233",
   "metadata": {},
   "source": [
    "The coefficients $\\chi_m$ can be calculated with the following recursion relation:\n",
    "\\begin{align}\n",
    "\\chi_0\n",
    "&= \\frac{\\Gamma(\\alpha+1)\\Gamma(\\beta+1)}{\\Gamma(\\alpha+\\beta+1)}\n",
    "\\textrm{e}^{\\alpha+\\beta+1},\\\\\n",
    "\\chi_m\n",
    "&= \n",
    "\\frac{(\\alpha+\\beta+2m+1)(m\\kappa\\textrm{e})}{(\\alpha+\\beta+2m-1)(\\alpha+m)}\n",
    "\\chi_{m-1}.\n",
    "\\end{align}"
   ]
  },
  {
   "cell_type": "markdown",
   "id": "74ba24c1",
   "metadata": {},
   "source": [
    "This comes from https://functions.wolfram.com/Polynomials/JacobiP/21/02/01/0003/.\n",
    "Here, $_1F_1$ is the confluent geometric function, defined here: https://dlmf.nist.gov/13, with asymptotic expansion for large $\\kappa$ here: https://dlmf.nist.gov/13.7. It is implemented as https://docs.scipy.org/doc/scipy/reference/generated/scipy.special.hyp1f1.html."
   ]
  },
  {
   "cell_type": "markdown",
   "id": "f341b40f",
   "metadata": {},
   "source": [
    "\\begin{align}\n",
    "J_{m}^{(\\alpha,\\beta)}(\\kappa) \n",
    "&= \\frac{1}{h_m}\n",
    "\\int_{-1}^{1}(1-t)^\\alpha(1+t)^\\beta P^{(\\alpha,\\beta)}_m(t)\\textrm{e}^{-\\kappa(1 + t)}\\textrm{d}t\\\\\n",
    "&= \\frac{1}{h_m}\n",
    "\\int_{-1}^{1}(1+t)^\\alpha(1-t)^\\beta P^{(\\alpha,\\beta)}_m(-t)\\textrm{e}^{-\\kappa(1 - t)}\\textrm{d}t\\\\\n",
    "&= \\frac{(-1)^m}{h_m}\\int_{-1}^{1}(1+t)^\\alpha(1-t)^\\beta P^{(\\beta,\\alpha)}_m(t)\\textrm{e}^{-\\kappa(1 - t)}\\textrm{d}t\\\\\n",
    "&= (-1)^mI_m^{\\beta,\\alpha}(\\kappa)\n",
    "\\end{align}"
   ]
  },
  {
   "cell_type": "markdown",
   "id": "dba8c432",
   "metadata": {},
   "source": [
    "We can use these to give some results for arbitrary intervals:\n",
    "\\begin{align}\n",
    "\\hat I_{m}^{(\\alpha,\\beta)}(\\kappa,a,b)\n",
    "&= \\frac{1}{h_m}\\left(\\frac{2}{b-a}\\right)^{\\alpha+\\beta+1}\n",
    "\\int_{a}^{b}(b-z)^\\alpha(z-a)^\\beta P_m(t)\\textrm{e}^{-\\kappa(b - z)}\\textrm{d}z\\\\\n",
    "&= \\frac{1}{h_m}\n",
    "\\int_{-1}^{1}(1-t)^\\alpha(1+t)^\\beta P_m(t)\\textrm{e}^{-(b-a)\\kappa(1 -t)/2}\\textrm{d}t\\\\\n",
    "&=\n",
    "I_{m}^{(\\alpha,\\beta)}\\big(\\kappa(b-a)/2\\big),\\\\\n",
    "z-a&=\\frac{b-a}2(1+t),\\\\\n",
    "b-z&=\\frac{b-a}2(1-t).\n",
    "\\end{align}"
   ]
  },
  {
   "cell_type": "markdown",
   "id": "43f05181",
   "metadata": {},
   "source": [
    "Also\n",
    "\\begin{align}\n",
    "\\hat J_{m}^{(\\alpha,\\beta)}(\\kappa,a,b) \n",
    "&= \\frac{1}{h_m}\\left(\\frac{2}{b-a}\\right)^{\\alpha+\\beta+1}\n",
    "\\int_{a}^{b}(b-z)^\\alpha(z-a)^\\beta P_m(t)\\textrm{e}^{-\\kappa(z-a)}\\textrm{d}z\\\\\n",
    "&=\\frac{1}{h_m} \n",
    "\\int_{-1}^{1}(1-t)^\\alpha(1+t)^\\beta P_m(t)\\textrm{e}^{-(b-a)\\kappa(1 + t)/2}\\textrm{d}t\\\\\n",
    "&=\n",
    "J_{m}^{(\\alpha,\\beta)}\\big(\\kappa(b-a)/2\\big).\n",
    "\\end{align}"
   ]
  },
  {
   "cell_type": "markdown",
   "id": "1d40e062",
   "metadata": {},
   "source": [
    "Finally, we can get\n",
    "\\begin{align}\n",
    "\\hat K_{m}^{(\\alpha,\\beta)}(\\kappa,a,b) \n",
    "&= \\frac{2^{\\alpha+\\beta+1}}{h_m(b-a)^{\\alpha+\\beta+1}}\n",
    "\\int_{a}^{b}(b-z)^\\alpha(z-a)^\\beta P_m(t)\\frac{\\cosh\\kappa(z+h)}{\\cosh(\\kappa h)}\\textrm{d}z\\\\\n",
    "&= \\frac{\\textrm{e}^{\\kappa b}}{1+\\textrm{e}^{-2\\kappa h}}\n",
    "\\hat I_{m}^{(\\alpha,\\beta)}(\\kappa,a,b)\n",
    "+\n",
    "\\frac{\\textrm{e}^{-\\kappa(2h+a)}}{1+\\textrm{e}^{-2\\kappa h}}\n",
    "\\hat J_{m}^{(\\alpha,\\beta)}(\\kappa,a,b)\\\\\n",
    "&=\\frac{\\textrm{e}^{\\kappa b}}{1+\\textrm{e}^{-2\\kappa h}}\n",
    "I_{m}^{(\\alpha,\\beta)}\\big(\\kappa(b-a)/2\\big)\n",
    "+\n",
    "\\frac{\\textrm{e}^{-\\kappa(2h+a)}}{1+\\textrm{e}^{-2\\kappa h}}\n",
    "J_{m}^{(\\alpha,\\beta)}\\big(\\kappa(b-a)/2\\big)\n",
    "\\end{align}"
   ]
  },
  {
   "cell_type": "code",
   "execution_count": 19,
   "id": "34273c42",
   "metadata": {},
   "outputs": [],
   "source": [
    "def inprod_with_exp(jp, kappa):\n",
    "    twh = jp.quad_points_weights()\n",
    "    t, w, h = twh\n",
    "    f = np.exp(-(1-t.reshape(-1,1)).dot(kappa)) # t in rows, kappa in cols\n",
    "    ipm = jp.get_inner_product_matrix(xwh=twh)\n",
    "    return ipm.dot(f)"
   ]
  },
  {
   "cell_type": "code",
   "execution_count": 20,
   "id": "ec67b902",
   "metadata": {},
   "outputs": [],
   "source": [
    "def inprod_with_exp_hyp1f1(jp, kappa):\n",
    "    fn = np.zeros((jp.max_degree, np.max(kappa.shape)), dtype=np.complex)\n",
    "    ab1 = jp.alpha + jp.beta + 1\n",
    "    chi0 = gamma(jp.alpha+1)*gamma(jp.beta+1)*np.exp(ab1)/gamma(ab1)\n",
    "    for m in range(jp.max_degree):\n",
    "        chi = chi0 * m * kappa * np.exp(1) * (ab1 + 2*m)/((ab1+2*(m-1))*(jp.alpha+m))\n",
    "        chi0 = chi\n",
    "        print(fn.shape)\n",
    "        fn[m] = chi * np.exp(-2*kappa) * hyp1f1(jp.beta+m+1, jp.alpha + jp.beta+2*(m+1), 2*kappa)\n",
    "    return fn"
   ]
  },
  {
   "cell_type": "code",
   "execution_count": 21,
   "id": "0625cf46",
   "metadata": {},
   "outputs": [],
   "source": [
    "jp = JacobiPolynomials(a=-1, b=1)"
   ]
  },
  {
   "cell_type": "code",
   "execution_count": 22,
   "id": "41d61090",
   "metadata": {},
   "outputs": [],
   "source": [
    "kappa = np.linspace(0.1, 3, 10).reshape(1,-1)"
   ]
  },
  {
   "cell_type": "code",
   "execution_count": 23,
   "id": "cf343f11",
   "metadata": {},
   "outputs": [
    {
     "data": {
      "text/plain": [
       "array([[9.06346235e-01, 6.75241499e-01, 5.20103815e-01, 4.13230393e-01,\n",
       "        3.37616451e-01, 2.82670182e-01, 2.41688260e-01, 2.10354882e-01,\n",
       "        1.85840319e-01, 1.66253541e-01],\n",
       "       [9.05742579e-02, 2.81770115e-01, 3.73598554e-01, 4.10598343e-01,\n",
       "        4.17899111e-01, 4.09645628e-01, 3.93755819e-01, 3.74615457e-01,\n",
       "        3.54608145e-01, 3.34985835e-01],\n",
       "       [3.01827970e-03, 3.94561320e-02, 9.12750541e-02, 1.41472232e-01,\n",
       "        1.83645457e-01, 2.16334465e-01, 2.40189288e-01, 2.56600092e-01,\n",
       "        2.67070205e-01, 2.72957981e-01],\n",
       "       [6.03560146e-05, 3.32246641e-03, 1.34719884e-02, 2.96512789e-02,\n",
       "        4.95248221e-02, 7.08351705e-02, 9.18824200e-02, 1.11564724e-01,\n",
       "        1.29268673e-01, 1.44731651e-01],\n",
       "       [8.62141698e-07, 2.00042962e-04, 1.42479007e-03, 4.46735113e-03,\n",
       "        9.64097576e-03, 1.68274382e-02, 2.56480387e-02, 3.56187109e-02,\n",
       "        4.62548688e-02, 5.71293373e-02],\n",
       "       [9.57868278e-09, 9.37305726e-06, 1.17399309e-04, 5.25308331e-04,\n",
       "        1.46819167e-03, 3.13601701e-03, 5.63495056e-03, 8.98324305e-03,\n",
       "        1.31265756e-02, 1.79604720e-02],\n",
       "       [8.70745974e-11, 3.59445392e-07, 7.92270761e-06, 5.06439913e-05,\n",
       "        1.83566996e-04, 4.80639277e-04, 1.02011486e-03, 1.87088265e-03,\n",
       "        3.08327149e-03, 4.68492139e-03],\n",
       "       [6.70997320e-13, 1.16589070e-08, 4.51841169e-07, 4.12077196e-06,\n",
       "        1.93368628e-05, 6.19300924e-05, 1.54861382e-04, 3.25786845e-04,\n",
       "        6.03592974e-04, 1.01492347e-03]])"
      ]
     },
     "execution_count": 23,
     "metadata": {},
     "output_type": "execute_result"
    }
   ],
   "source": [
    "fn = inprod_with_exp(jp, kappa)\n",
    "fn"
   ]
  },
  {
   "cell_type": "code",
   "execution_count": 24,
   "id": "a2d974e9",
   "metadata": {},
   "outputs": [
    {
     "data": {
      "text/plain": [
       "[<matplotlib.lines.Line2D at 0x7f98e719b908>]"
      ]
     },
     "execution_count": 24,
     "metadata": {},
     "output_type": "execute_result"
    },
    {
     "data": {
      "image/png": "[encoded data removed]",
      "text/plain": [
       "<Figure size 432x288 with 1 Axes>"
      ]
     },
     "metadata": {
      "needs_background": "light"
     },
     "output_type": "display_data"
    }
   ],
   "source": [
    "plt.plot(kappa[0], fn[3])"
   ]
  },
  {
   "cell_type": "code",
   "execution_count": 25,
   "id": "640189e6",
   "metadata": {},
   "outputs": [
    {
     "name": "stdout",
     "output_type": "stream",
     "text": [
      "(7, 10)\n",
      "(7, 10)\n",
      "(7, 10)\n",
      "(7, 10)\n",
      "(7, 10)\n",
      "(7, 10)\n",
      "(7, 10)\n"
     ]
    },
    {
     "name": "stderr",
     "output_type": "stream",
     "text": [
      "/home/timill/Packages/python/miniconda2/envs/pywave/lib/python3.6/site-packages/ipykernel_launcher.py:6: RuntimeWarning: invalid value encountered in true_divide\n",
      "  \n"
     ]
    }
   ],
   "source": [
    "fn2 = inprod_with_exp_hyp1f1(jp, kappa)"
   ]
  },
  {
   "cell_type": "code",
   "execution_count": 26,
   "id": "8d2fd1d8",
   "metadata": {},
   "outputs": [
    {
     "data": {
      "text/plain": [
       "array([[nan+0.j, nan+0.j, nan+0.j, nan+0.j, nan+0.j, nan+0.j, nan+0.j,\n",
       "        nan+0.j, nan+0.j, nan+0.j],\n",
       "       [nan+0.j, nan+0.j, nan+0.j, nan+0.j, nan+0.j, nan+0.j, nan+0.j,\n",
       "        nan+0.j, nan+0.j, nan+0.j],\n",
       "       [nan+0.j, nan+0.j, nan+0.j, nan+0.j, nan+0.j, nan+0.j, nan+0.j,\n",
       "        nan+0.j, nan+0.j, nan+0.j],\n",
       "       [nan+0.j, nan+0.j, nan+0.j, nan+0.j, nan+0.j, nan+0.j, nan+0.j,\n",
       "        nan+0.j, nan+0.j, nan+0.j],\n",
       "       [nan+0.j, nan+0.j, nan+0.j, nan+0.j, nan+0.j, nan+0.j, nan+0.j,\n",
       "        nan+0.j, nan+0.j, nan+0.j],\n",
       "       [nan+0.j, nan+0.j, nan+0.j, nan+0.j, nan+0.j, nan+0.j, nan+0.j,\n",
       "        nan+0.j, nan+0.j, nan+0.j],\n",
       "       [nan+0.j, nan+0.j, nan+0.j, nan+0.j, nan+0.j, nan+0.j, nan+0.j,\n",
       "        nan+0.j, nan+0.j, nan+0.j]])"
      ]
     },
     "execution_count": 26,
     "metadata": {},
     "output_type": "execute_result"
    }
   ],
   "source": [
    "fn2"
   ]
  },
  {
   "cell_type": "code",
   "execution_count": null,
   "id": "0cc631c9",
   "metadata": {},
   "outputs": [],
   "source": []
  }
 ],
 "metadata": {
  "kernelspec": {
   "display_name": "Python 3",
   "language": "python",
   "name": "python3"
  },
  "language_info": {
   "codemirror_mode": {
    "name": "ipython",
    "version": 3
   },
   "file_extension": ".py",
   "mimetype": "text/x-python",
   "name": "python",
   "nbconvert_exporter": "python",
   "pygments_lexer": "ipython3",
   "version": "3.6.13"
  }
 },
 "nbformat": 4,
 "nbformat_minor": 5
}
