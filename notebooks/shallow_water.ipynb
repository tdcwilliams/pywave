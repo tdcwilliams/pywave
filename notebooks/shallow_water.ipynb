{
 "cells": [
  {
   "cell_type": "code",
   "execution_count": 1,
   "metadata": {},
   "outputs": [],
   "source": [
    "import numpy as np\n",
    "from pywave.shallow_water import ShallowWater\n",
    "from pywave.elastic_string_boundary import ElasticStringBoundary"
   ]
  },
  {
   "cell_type": "code",
   "execution_count": 2,
   "metadata": {},
   "outputs": [],
   "source": [
    "sw = ShallowWater()"
   ]
  },
  {
   "cell_type": "code",
   "execution_count": 3,
   "metadata": {},
   "outputs": [
    {
     "data": {
      "text/plain": [
       "{'m': 1,\n",
       " 'kappa': 981.0,\n",
       " 'period': 20,\n",
       " 'k': array([0.01003033]),\n",
       " 'infinite': True,\n",
       " 'semi_infinite': False,\n",
       " 'xlim': array([-inf,  inf])}"
      ]
     },
     "execution_count": 3,
     "metadata": {},
     "output_type": "execute_result"
    }
   ],
   "source": [
    "vars(sw)"
   ]
  },
  {
   "cell_type": "code",
   "execution_count": 4,
   "metadata": {},
   "outputs": [
    {
     "name": "stdout",
     "output_type": "stream",
     "text": [
      "[0.01003033] 0.010030333403553237\n"
     ]
    }
   ],
   "source": [
    "print(sw.k, sw.omega/np.sqrt(981))\n"
   ]
  },
  {
   "cell_type": "code",
   "execution_count": 5,
   "metadata": {},
   "outputs": [],
   "source": [
    "sw1 = ShallowWater(depth=100)\n",
    "sw2 = ShallowWater(depth=80)"
   ]
  },
  {
   "cell_type": "code",
   "execution_count": 6,
   "metadata": {},
   "outputs": [],
   "source": [
    "bdy = ElasticStringBoundary(sw1, sw2)"
   ]
  },
  {
   "cell_type": "code",
   "execution_count": 7,
   "metadata": {},
   "outputs": [],
   "source": [
    "bdy.solve()"
   ]
  },
  {
   "cell_type": "code",
   "execution_count": 8,
   "metadata": {},
   "outputs": [
    {
     "name": "stdout",
     "output_type": "stream",
     "text": [
      "u(0) = 1.5278640450004206 = 1.5278640450004206\n",
      "\\sigma(0) = 4.645703100682224j = 4.645703100682224j\n",
      "Boundary conditions are OK\n"
     ]
    }
   ],
   "source": [
    "bdy.test_boundary_conditions()"
   ]
  },
  {
   "cell_type": "code",
   "execution_count": 9,
   "metadata": {},
   "outputs": [
    {
     "name": "stdout",
     "output_type": "stream",
     "text": [
      "Test power input, from_left=True:\n",
      "\t-1.540825300776972, -1.540825300776972\n",
      "\tOK\n",
      "Test power input, from_left=False:\n",
      "\t1.3781560455955475, 1.3781560455955477\n",
      "\tOK\n"
     ]
    }
   ],
   "source": [
    "bdy.test_power_input()"
   ]
  }
 ],
 "metadata": {
  "kernelspec": {
   "display_name": "Python 3",
   "language": "python",
   "name": "python3"
  },
  "language_info": {
   "codemirror_mode": {
    "name": "ipython",
    "version": 3
   },
   "file_extension": ".py",
   "mimetype": "text/x-python",
   "name": "python",
   "nbconvert_exporter": "python",
   "pygments_lexer": "ipython3",
   "version": "3.6.9"
  }
 },
 "nbformat": 4,
 "nbformat_minor": 1
}
