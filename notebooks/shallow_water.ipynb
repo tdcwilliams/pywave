{
 "cells": [
  {
   "cell_type": "code",
   "execution_count": 1,
   "metadata": {
    "collapsed": false
   },
   "outputs": [
    {
     "name": "stdout",
     "output_type": "stream",
     "text": [
      "Populating the interactive namespace from numpy and matplotlib\n"
     ]
    }
   ],
   "source": [
    "%pylab inline\n",
    "np=numpy\n",
    "import shallow_water as SW"
   ]
  },
  {
   "cell_type": "code",
   "execution_count": 2,
   "metadata": {
    "collapsed": false
   },
   "outputs": [
    {
     "name": "stdout",
     "output_type": "stream",
     "text": [
      "\n",
      "Info for medium    : water\n",
      "Current speed (m/s)  : 0.000000\n",
      "Depth (m)            : 100.000000\n",
      "Density (kg/m^3)     : 1025.000000\n",
      "\n",
      "Info for medium    : ice\n",
      "Young's modulus (Pa) : 5000000000.000000\n",
      "Poisson's ratio      : 0.300000\n",
      "Thickness (m)        : 1.000000\n",
      "Density (kg/m^3)     : 922.500000\n"
     ]
    }
   ],
   "source": [
    "prams=SW.params()\n",
    "prams.Water.print_info()\n",
    "prams.Ice.print_info()\n"
   ]
  },
  {
   "cell_type": "code",
   "execution_count": null,
   "metadata": {
    "collapsed": true
   },
   "outputs": [],
   "source": []
  }
 ],
 "metadata": {
  "kernelspec": {
   "display_name": "Python 2",
   "language": "python",
   "name": "python2"
  },
  "language_info": {
   "codemirror_mode": {
    "name": "ipython",
    "version": 2
   },
   "file_extension": ".py",
   "mimetype": "text/x-python",
   "name": "python",
   "nbconvert_exporter": "python",
   "pygments_lexer": "ipython2",
   "version": "2.7.11"
  }
 },
 "nbformat": 4,
 "nbformat_minor": 0
}
