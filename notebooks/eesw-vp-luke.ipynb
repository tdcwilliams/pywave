{
 "cells": [
  {
   "cell_type": "markdown",
   "id": "456ea8ea",
   "metadata": {},
   "source": [
    "## Variational principle similar to extended shallow water"
   ]
  },
  {
   "cell_type": "markdown",
   "id": "d820d013",
   "metadata": {},
   "source": [
    "We have a velocity potential $\\Phi$ such that\n",
    "\\begin{align}\n",
    "\\nabla \\Phi(x,z,t) \n",
    "=\n",
    "\\begin{pmatrix}\n",
    "u(x,z,t)\\\\ w(x,z,t)\n",
    "\\end{pmatrix}\n",
    "\\end{align}"
   ]
  },
  {
   "cell_type": "markdown",
   "id": "efb8aba4",
   "metadata": {},
   "source": [
    "The linearised version of Luke's variational principle for constant depth (see also Porter & Porter, 200?)\n",
    "is\n",
    "\\begin{align}\n",
    "\\mathscr{L} &= \n",
    "\\frac{\\rho_w}2\\int_{t_0}^{t_1}\\textrm{d}t\n",
    "\\int_{-h}^0\\textrm{d}z\n",
    "\\int_{x_0}^{x_1}\\textrm{d}x\n",
    "\\big(\\Phi_x^2+\\Phi_z^2\\big)\\\\\n",
    "&\\quad+\\frac{\\rho_w}2\n",
    "\\int_{t_0}^{t_1}\\textrm{d}t\n",
    "\\int_{x_0}^{x_1}\\textrm{d}x\n",
    "\\big(g\\eta^2+2\\eta \\Phi_t|_{z=0}\\big).\n",
    "\\end{align}"
   ]
  },
  {
   "cell_type": "markdown",
   "id": "d3b44d9b",
   "metadata": {},
   "source": [
    "The first variation is\n",
    "\\begin{align}\n",
    "0&=\\mathscr{L}\\\\\n",
    "&= \n",
    "\\int_{t_0}^{t_1}\\textrm{d}t\n",
    "\\int_{-h}^0\\textrm{d}z\n",
    "\\int_{x_0}^{x_1}\\textrm{d}x\n",
    "\\big(\\Phi_x\\delta\\Phi_x+\\Phi_z\\delta\\Phi_z\\big)\\\\\n",
    "&\\quad+\n",
    "\\int_{t_0}^{t_1}\\textrm{d}t\n",
    "\\int_{x_0}^{x_1}\\textrm{d}x\n",
    "\\Big(\n",
    "\\big(g\\eta+\\Phi_t|_{z=0}\\big)\\delta\\eta\n",
    "+ \\eta\\delta\\Phi_t|_{z=0} \\Big)\n",
    "\\end{align}"
   ]
  },
  {
   "cell_type": "markdown",
   "id": "b3c9fd9b",
   "metadata": {},
   "source": [
    "Integrating by parts gives\n",
    "\\begin{align}\n",
    "0&=-\\int_{t_0}^{t_1}\\textrm{d}t\n",
    "\\int_{-h}^0\\textrm{d}z\n",
    "\\int_{x_0}^{x_1}\\textrm{d}x\n",
    "\\big(\\Phi_{xx}+\\Phi_{zz}\\big)\\delta\\Phi\\\\\n",
    "&\\quad+\n",
    "\\int_{t_0}^{t_1}\\textrm{d}t\n",
    "\\int_{x_0}^{x_1}\\textrm{d}x\n",
    "\\Big(\n",
    "\\big(g\\eta+\\Phi_t|_{z=0}\\big)\\delta\\eta\n",
    "+ \\big(\\Phi_z|_{z=0}-\\eta_t\\big)\\delta\\Phi|_{z=0} \\Big)\\\\\n",
    "&\\quad-\n",
    "\\int_{t_0}^{t_1}\\textrm{d}t\n",
    "\\int_{x_0}^{x_1}\\textrm{d}x\n",
    "\\big(\\Phi_z|_{z=-h}\\delta\\Phi|_{z=-h}\\big)\\\\\n",
    "&\\quad+\n",
    "\\int_{t_0}^{t_1}\\textrm{d}t\n",
    "\\int_{-h}^{0}\\textrm{d}z\n",
    "\\big[\\Phi_x\\delta\\Phi\\big]_{x_0}^{x_1}.\n",
    "\\end{align}"
   ]
  },
  {
   "cell_type": "markdown",
   "id": "c1f16171",
   "metadata": {},
   "source": [
    "The governing equation is Laplace's equation which represents incompressibility\n",
    "\\begin{align}\n",
    "0 &= \\Phi_{xx}+\\Phi_{zz},\n",
    "\\end{align}\n",
    "and we also have horizontal boundary conditions\n",
    "\\begin{align}\n",
    "0 &= \\Phi_z|_{z=0}-\\eta_t,\\\\\n",
    "0 &= g\\eta + \\Phi_t|_{z=0},\\\\\n",
    "0 &= \\Phi_z|_{z=-h}.\n",
    "\\end{align}"
   ]
  },
  {
   "cell_type": "markdown",
   "id": "e179444a",
   "metadata": {},
   "source": [
    "We now suppose\n",
    "\\begin{align}\n",
    "\\Phi_z&=(z+h)\\frac{\\eta_t}h,\n",
    "\\end{align}\n",
    "which is satisfied if\n",
    "\\begin{align}\n",
    "\\Phi&=\\varphi(x,t) + \\eta_t(x,t)\\psi(z),\n",
    "\\end{align}\n",
    "with $\\psi$ and some useful integrals of it being\n",
    "\\begin{align}\n",
    "\\psi&=\\frac{z^2+2hz}{2h},\\\\\n",
    "a_1&=-\\int_{-h}^0\\psi(z)\\textrm{d}z = \\frac{h^2}3,\\\\\n",
    "a_2&=\\int_{-h}^0\\psi^2(z)\\textrm{d}z = \\frac{2h^3}{15}.\n",
    "\\end{align}"
   ]
  },
  {
   "cell_type": "markdown",
   "id": "625cd8c3",
   "metadata": {},
   "source": [
    "Substituting this into the equation for the stationary point\n",
    "\\begin{align}\n",
    "0&=\\int_{t_0}^{t_1}\\textrm{d}t\n",
    "\\int_{x_0}^{x_1}\\textrm{d}x\n",
    "\\Big(\n",
    "\\big(g\\eta+\\varphi_t\\big)\\delta\\eta\n",
    "-\\big(h\\varphi_{xx}+\\eta_t-a_1\\eta_{txx}\\big)\\delta\\varphi\n",
    "+\\big(a_1\\varphi_{xx}+\\frac{a_1}h\\eta_t-a_2\\eta_{txx}\\big)\\delta\\eta_t\n",
    "\\Big)\\\\\n",
    "&\\quad+\\int_{t_0}^{t_1}\\textrm{d}t\n",
    "\\big[(h\\varphi_x-a_1\\eta_{xt})\\delta\\varphi\n",
    "-(a_1\\varphi_x-a_2\\eta_{xt})\\delta\\eta_t\\big]_{x_0}^{x_1}\n",
    "\\\\\n",
    "&=\\int_{t_0}^{t_1}\\textrm{d}t\n",
    "\\int_{x_0}^{x_1}\\textrm{d}x\n",
    "\\Big(\n",
    "\\big(\\varphi_t-a_1\\varphi_{txx}\n",
    "+g\\eta-\\frac{a_1}h\\eta_{tt}+a_2\\eta_{ttxx}\\big)\\delta\\eta\n",
    "-\\big(h\\varphi_{xx}+\\eta_t-a_1\\eta_{txx}\\big)\\delta\\varphi\n",
    "\\Big)\\\\\n",
    "&\\quad+\\int_{t_0}^{t_1}\\textrm{d}t\n",
    "\\big[(h\\varphi_x-a_1\\eta_{xt})\\delta\\varphi\n",
    "+(a_1\\varphi_{xt}-a_2\\eta_{xtt})\\delta\\eta\\big]_{x_0}^{x_1},\n",
    "\\end{align}"
   ]
  },
  {
   "cell_type": "markdown",
   "id": "2ea6f85d",
   "metadata": {},
   "source": [
    "so\n",
    "\\begin{align}\n",
    "0&=\\varphi_t-a_1\\varphi_{txx}\n",
    "+g\\eta-\\frac{a_1}h\\eta_{tt}+a_2\\eta_{ttxx},\\\\\n",
    "0&=\n",
    "h\\varphi_{xx}+\\eta_t-a_1\\eta_{txx}.\n",
    "\\end{align}"
   ]
  },
  {
   "cell_type": "markdown",
   "id": "679e0ae8",
   "metadata": {},
   "source": [
    "## Time-harmonic solution\n",
    "Let\n",
    "\\begin{align}\n",
    "\\Phi=Re[\\phi(x,z) e^{-\\textrm{i}\\omega t}],\\\\\n",
    "\\eta=Re[\\zeta(x) e^{-\\textrm{i}\\omega t}].\n",
    "\\end{align}\n",
    "Then if $t_1=t_0+2\\pi/\\omega$ we can write the time-averaged Lagrangian as\n",
    "\\begin{align}\n",
    "\\mathscr{L} &= \n",
    "\\frac{\\rho_w}4\n",
    "\\int_{-h}^0\\textrm{d}z\n",
    "\\int_{x_0}^{x_1}\\textrm{d}x\n",
    "\\big(\\phi_x\\phi_x^*+\\phi_z\\phi_z^*\\big)\\\\\n",
    "&\\quad+\\frac{\\rho_w}4\n",
    "\\int_{x_0}^{x_1}\\textrm{d}x\n",
    "\\big(g\\zeta\\zeta^*+\\textrm{i}\\omega\\big(\\zeta \\phi^*|_{z=0} - \\phi|_{z=0}\\zeta^*\\big).\n",
    "\\end{align}"
   ]
  },
  {
   "cell_type": "markdown",
   "id": "907e98d9",
   "metadata": {},
   "source": [
    "Taking the first variation our solution must satisfy\n",
    "\\begin{align}\n",
    "0&=-\\int_{-h}^0\\textrm{d}z\n",
    "\\int_{x_0}^{x_1}\\textrm{d}x\n",
    "\\big(\\phi_{xx}+\\phi_{zz}\\big)\\delta\\phi^*\\\\\n",
    "&\\quad+\n",
    "\\int_{x_0}^{x_1}\\textrm{d}x\n",
    "\\Big(\n",
    "\\big(g\\zeta-\\textrm{i}\\omega\\phi|_{z=0}\\big)\\delta\\zeta^*\n",
    "+ \\big(\\phi_z|_{z=0}+\\textrm{i}\\omega\\zeta\\big)\\delta\\phi^*|_{z=0} \\Big)\\\\\n",
    "&\\quad-\n",
    "\\int_{x_0}^{x_1}\\textrm{d}x\n",
    "\\big(\\phi_z|_{z=-h}\\delta\\phi^*|_{z=-h}\\big)\\\\\n",
    "&\\quad+\n",
    "\\int_{-h}^{0}\\textrm{d}z\n",
    "\\big[\\phi_x\\delta\\phi^*\\big]_{x_0}^{x_1},\n",
    "\\end{align}\n",
    "noting that this implies the complex conjugate of the above is also zero, and thus $\\delta\\mathscr{L}=0$."
   ]
  },
  {
   "cell_type": "markdown",
   "id": "acdbb40b",
   "metadata": {},
   "source": [
    "The governing equation is Laplace's equation which represents incompressibility\n",
    "\\begin{align}\n",
    "0 &= \\phi_{xx}+\\phi_{zz},\n",
    "\\end{align}\n",
    "and we also have horizontal boundary conditions\n",
    "\\begin{align}\n",
    "0 &= \\phi_z|_{z=0}+\\textrm{i}\\omega\\zeta,\\\\\n",
    "0 &= g\\eta -\\textrm{i}\\omega \\phi|_{z=0},\\\\\n",
    "0 &= \\phi_z|_{z=-h}.\n",
    "\\end{align}"
   ]
  },
  {
   "cell_type": "markdown",
   "id": "c36f5cb8",
   "metadata": {},
   "source": [
    "We now suppose\n",
    "\\begin{align}\n",
    "\\phi&=\\varphi(x) -\\textrm{i}\\omega\\zeta(x,t)\\psi(z).\n",
    "\\end{align}"
   ]
  },
  {
   "cell_type": "markdown",
   "id": "cee66832",
   "metadata": {},
   "source": [
    "Substituting this into the equation for the stationary point\n",
    "\\begin{align}\n",
    "0\n",
    "&=\n",
    "\\int_{x_0}^{x_1}\\textrm{d}x\n",
    "\\Big(\n",
    "\\left(\n",
    "g\\zeta -\\textrm{i}\\omega\\big(\\varphi-a_1\\varphi_{xx}\\big)\n",
    "+\\frac{\\omega^2}{h}\n",
    "\\big(a_1\\zeta -a_2h\\zeta_{xx}\\big)\\right)\\delta\\zeta^*\n",
    "-\\left(\n",
    "h\\varphi_{xx} -\\textrm{i}\\omega\\big(\\zeta-a_1\\zeta_{xx}\\big)\n",
    "\\right)\\delta\\varphi^*\n",
    "\\Big)\\\\\n",
    "&\\quad+\n",
    "\\big[(h\\varphi_x+\\textrm{i}\\omega a_1\\zeta_{x})\\delta\\varphi^*\n",
    "-\\textrm{i}\\omega(a_1\\varphi_{x}+\\textrm{i}\\omega a_2\\zeta_{x})\\delta\\zeta^*\\big]_{x_0}^{x_1}\n",
    "\\end{align}"
   ]
  },
  {
   "cell_type": "markdown",
   "id": "aa5e40c6",
   "metadata": {},
   "source": [
    "so\n",
    "\\begin{align}\n",
    "0\n",
    "&=\n",
    "g\\zeta -\\textrm{i}\\omega\\big(\\varphi-a_1\\varphi_{xx}\\big)\n",
    "+\\frac{\\omega^2}{h}\n",
    "\\big(a_1\\zeta -a_2h\\zeta_{xx}\\big),\\\\\n",
    "0&=\n",
    "h\\varphi_{xx} -\\textrm{i}\\omega\\big(\\zeta-a_1\\zeta_{xx}\\big).\n",
    "\\end{align}"
   ]
  },
  {
   "cell_type": "markdown",
   "id": "c8d10e80",
   "metadata": {},
   "source": [
    "## Dispersion relation\n",
    "Let\n",
    "\\begin{align}\n",
    "\\zeta=Ae^{ikx},\\\\\n",
    "\\varphi=-\\textrm{i}\\omega B e^{ikx}.\n",
    "\\end{align}\n",
    "Then we look for values of $k$ that allow the equations for $\\zeta$ and $\\varphi$ to be solved when $A$ and $B$ are not zero. Thus,\n",
    "\\begin{align}\n",
    "0&=-\\omega^2\\big(1+a_1k^2\\big)B+\\frac{A}{h}\\big(gh+a_1\\omega^2+a_2k^2h\\omega^2\\big),\\\\\n",
    "0&=\\omega^2k^2hB-A\\omega^2\\big(1+a_1k^2\\big).\n",
    "\\end{align}\n",
    "Hence\n",
    "\\begin{align}\n",
    "B=\\frac{1+a_1k^2}{k^2h}A = \\gamma(k)A,\n",
    "\\end{align}\n",
    "so\n",
    "\\begin{align}\n",
    "0&=-\\omega^2\\big(1+a_1k^2\\big)^2+k^2\\big(hg+a_1\\omega^2+a_2k^2h\\omega^2\\big)\\\\\n",
    "&=-\\omega^2+k^2\\big(gh-a_1\\omega^2\\big)+k^4\\omega^2\\big(a_2h-a_1^2\\big).\n",
    "\\end{align}"
   ]
  },
  {
   "cell_type": "markdown",
   "id": "c1c923c4",
   "metadata": {},
   "source": [
    "Hence\n",
    "\\begin{align}\n",
    "k^2 = \n",
    "\\frac{a_1\\omega^2 -gh\\pm \\sqrt{\\big(gh-a_1\\omega^2\\big)^2+4\\omega^4\\big(a_2h-a_1^2\\big)}}\n",
    "{2\\omega^2\\big(a_2h-a_1^2\\big)}.\n",
    "\\end{align}"
   ]
  },
  {
   "cell_type": "markdown",
   "id": "bf9417e0",
   "metadata": {},
   "source": [
    "If $k_0$ and $-ik_1$ are positive real, the dispersion relation has two real roots $\\pm k_0$ and two imaginary roots $\\pm k_1$."
   ]
  },
  {
   "cell_type": "markdown",
   "id": "c90c93e8",
   "metadata": {},
   "source": [
    "## Energy flux\n",
    "Stoker (1957, section 1.6) considers the time-averaged energy flux,\n",
    "$\\mathcal{F}=\\textrm{d}E/\\textrm{d}t$ where $E$ is the total energy through a fixed volume:\n",
    "\\begin{align}\n",
    "\\mathcal{F}(x_0,x_1)&=\\mathcal{F}_p(x_1) - \\mathcal{F}_p(x_0)\\\\\n",
    "&=\\frac{\\rho\\omega}{2\\pi}\\int_0^{2\\pi/\\omega}\\int_{-h}^0\\big[\\Phi_t\\Phi_x\\big]_{x_0}^{x_1} \\textrm{d}z\\textrm{d}t\\\\\n",
    "&=\\frac{\\rho\\omega}{2}\\int_{-h}^0\\big[\n",
    "\\textrm{Re}(\\phi_x)\\textrm{Im}(\\phi)-\\textrm{Im}(\\phi_x)\\textrm{Re}(\\phi)\n",
    "\\big]_{x_0}^{x_1} \\textrm{d}z\\\\\n",
    "&=-\\rho\\omega\\textrm{i}\\int_{-h}^0\\big[\n",
    "\\phi_x\\phi^*-\\phi_x^*\\phi\n",
    "\\big]_{x_0}^{x_1} \\textrm{d}z\\\\\n",
    "&=2\\rho\\omega\\,\\textrm{Im}\\left(\\int_{-h}^0\\phi_x\\phi^*\\textrm{d}z\n",
    "\\right)\n",
    "\\end{align}\n",
    "and $\\mathcal{F}_p$ is the flux through a single line of constant $x$."
   ]
  },
  {
   "cell_type": "markdown",
   "id": "32c78159",
   "metadata": {},
   "source": [
    "\\begin{align}\n",
    "\\mathcal{F}_p(x)\n",
    "&=2\\rho\\omega\\,\\textrm{Im}\\left(\\int_{-h}^0\n",
    "\\big(\\varphi_x-\\textrm{i}\\omega\\psi\\zeta_{x}\\big)\n",
    "\\big(\\varphi^*+\\textrm{i}\\omega\\psi\\zeta^*\n",
    "\\Big) \\textrm{d}z\\right)\\\\\n",
    "&=2\\rho\\omega\\,\\textrm{Im}\\left(\n",
    "\\big(h\\varphi_x + \\textrm{i}\\omega a_1\\zeta_{x}\\big)\\varphi^*\n",
    "-\\textrm{i}\\omega\\big(a_1\\varphi_x + \\textrm{i}\\omega a_2\\zeta_{x}\\big)\\zeta^*\n",
    "\\Big) \\right)\n",
    "\\end{align}"
   ]
  },
  {
   "cell_type": "markdown",
   "id": "16fd4484",
   "metadata": {},
   "source": [
    "Now, the variational principle above holds for all choices of $\\delta\\varphi$ and $\\delta\\zeta$. Therefore we can choose $\\delta\\varphi=\\varphi$ and $\\delta\\zeta=\\zeta$, and\n",
    "\\begin{align}\n",
    "0\n",
    "&=\\mathcal{F}(x_0,x_1)+\n",
    "\\int_{x_0}^{x_1}\\textrm{d}x\n",
    "\\Big(\n",
    "\\left(\n",
    "g\\zeta -\\textrm{i}\\omega\\big(\\varphi-a_1\\varphi_{xx}\\big)\n",
    "+\\frac{\\omega^2}{h}\n",
    "\\big(a_1\\zeta -a_2h\\zeta_{xx}\\big)\\right)\\zeta^*\n",
    "-\\left(\n",
    "h\\varphi_{xx} -\\textrm{i}\\omega\\big(\\zeta-a_1\\zeta_{xx}\\big)\n",
    "\\right)\\varphi^*\n",
    "\\Big)\\\\\n",
    "&=\\mathcal{F}(x_0,x_1).\n",
    "\\end{align}\n",
    "Hence $\\mathcal{F}_p(x_1)=\\mathcal{F}_p(x_0)$."
   ]
  },
  {
   "cell_type": "markdown",
   "id": "ece2ea6d",
   "metadata": {},
   "source": [
    "Note that this energy flux relation holds for all $x_0$ and $x_1$ with $x_0<x_1$. However it is simpler when $x_0\\rightarrow-\\infty$ and $x_1\\rightarrow\\infty$, so that the evanescant waves have died out. If\n",
    "\\begin{align}\n",
    "\\zeta&=a_+\\textrm{e}^{\\textrm{i}k_0x} + a_-\\textrm{e}^{-\\textrm{i}k_0x},\\\\\n",
    "\\varphi&=-\\textrm{i}\\omega\\gamma(k_0)\\big(a_+\\textrm{e}^{\\textrm{i}k_0x} + a_-\\textrm{e}^{-\\textrm{i}k_0x}\\big).\n",
    "\\end{align}"
   ]
  },
  {
   "cell_type": "markdown",
   "id": "5efdfd94",
   "metadata": {},
   "source": [
    "Then we can evaluate the terms in $\\mathcal{F}_p(x)$ to be\n",
    "\\begin{align}\n",
    "F_0&=\\big(h\\varphi_x + \\textrm{i}\\omega a_1\\zeta_{x}\\big)\\varphi^*\\\\\n",
    "&=\\textrm{i}k_0\\omega^2\\gamma(k_0)\\big(h\\gamma(k_0) - a_1)\\frac{\\zeta_x\\zeta^*}{\\textrm{i}k_0}\\\\\n",
    "&=\\chi_0\\frac{\\zeta_x\\zeta^*}{k_0},\\\\\n",
    "F_1&=-\\textrm{i}\\omega\\big(a_1\\varphi_x + \\textrm{i}\\omega a_2\\zeta_{x}\\big)\\zeta^*\\\\\n",
    "&=\\textrm{i}k_0\\omega^2\\big(a_2-a_1\\gamma(k_0))\\frac{\\zeta_x\\zeta^*}{\\textrm{i}k_0}\\\\\n",
    "&=\\chi_1\\frac{\\zeta_x\\zeta^*}{k_0},\n",
    "\\end{align}\n",
    "so\n",
    "\\begin{align}\n",
    "F_0+F_1\n",
    "&=\\textrm{i}k_0\\omega^2\\big(h\\gamma^2(k_0)-2a_1\\gamma(k_0) +a_2)\n",
    "\\left(|a_+|^2 - |a_-|^2 \n",
    "+ 2\\textrm{i}\\textrm{Im}\\big[a_+a_-^*\\textrm{e}^{2\\textrm{i}k_0x}\\big]\\right),\n",
    "\\end{align}\n",
    "and\n",
    "\\begin{align}\n",
    "\\mathcal{F}_p(x)\n",
    "&=2\\rho_wk_0\\omega^3\\big(h\\gamma^2(k_0)-2a_1\\gamma(k_0) +a_2\\big)\n",
    "\\left(|a_+|^2 - |a_-|^2\\right)\n",
    "\\end{align}"
   ]
  },
  {
   "cell_type": "code",
   "execution_count": 3,
   "id": "1a4e68b0",
   "metadata": {},
   "outputs": [],
   "source": [
    "import numpy as np\n",
    "from pywave.medium import Medium\n",
    "_ZI = np.complex(0,1)"
   ]
  },
  {
   "cell_type": "code",
   "execution_count": 4,
   "id": "255f1cc1",
   "metadata": {},
   "outputs": [],
   "source": [
    "class EEShallowWater(Medium):\n",
    "    \n",
    "    def __init__(self, depth=20, rhow=1025, g=9.81, **kwargs):\n",
    "        \"\"\"\n",
    "        Parameters:\n",
    "        -----------\n",
    "        depth : float\n",
    "        period : float\n",
    "            wave period (s)\n",
    "        xlim : array-like\n",
    "            [x0, x1] where x0 and x0 and be -np.inf, np.inf or other real values with x1>x0\n",
    "        \"\"\"\n",
    "        self.depth = depth\n",
    "        self.rhow = rhow\n",
    "        self.g = g\n",
    "        self.integral1 = self.depth**2/3\n",
    "        self.integral2 = 2*self.depth**3/15\n",
    "        super().__init__(**kwargs)\n",
    "\n",
    "\n",
    "    def solve_disprel(self):\n",
    "        # coefficient of k^4:\n",
    "        a = self.omega**2 *(self.integral2 * self.depth - self.integral1**2)\n",
    "        # coefficient of k^2:\n",
    "        b = self.g * self.depth - self.integral1*self.omega**2\n",
    "        # coefficient of k^0:\n",
    "        c = -self.omega**2\n",
    "        print(a,b,c)\n",
    "        # solve for k^2 and then organize the roots\n",
    "        discr = np.sqrt(b**2 - 4*a*c) # positive real, >|b|\n",
    "        print(discr)\n",
    "        k0sq = (-b + discr)/(2*a) # positive real\n",
    "        k1sq = (-b - discr)/(2*a) # negative real\n",
    "        print(k0sq, k1sq)\n",
    "        self.k = np.array([\n",
    "            np.sqrt(k0sq), _ZI*np.sqrt(-k1sq)])\n",
    "\n",
    "\n",
    "    def set_operators(self):\n",
    "        self.operators = dict()\n",
    "        # \"A\" coefficient normalised to 1\n",
    "        self.operators['displacement'] = lambda k : 1\n",
    "        # coefficent \"B\" from \"A\"\n",
    "        self.operators['d_potential_dt'] = lambda k : (\n",
    "            (-self.omega**2)*(1 + self.integral1 * k**2)/(self.depth * k**2)\n",
    "        )\n",
    "        self.operators['potential'] = lambda k : (\n",
    "            (_ZI/self.omega)*self.operators['d_potential_dt'](k)\n",
    "        )\n",
    "        # pressure from Bernoulli's equation\n",
    "        self.operators['pressure'] = lambda k : (\n",
    "            self.rhow * self.g * self.operators['displacement'](k)\n",
    "            - self.rhow * self.operators['d_potential_dt'](k)\n",
    "        )\n",
    "        self.operators['potential_pressure'] = lambda k : (\n",
    "            - self.rhow * self.operators['d_potential_dt'](k)\n",
    "        )\n",
    "\n",
    "\n",
    "    def set_edge_operators(self):\n",
    "        \"\"\"\n",
    "        Sets:\n",
    "        -----\n",
    "        self.edge_operators : list(tuple)\n",
    "                each element is a tuple (op1, op2)\n",
    "                    - operators are paired together since they appear\n",
    "                      in the variational principle together\n",
    "                    - for \"free\" conditions op1 should be zero\n",
    "                    - for \"continuous\" conditions op1 and op2 should be continuous\n",
    "        \"\"\"\n",
    "        self.edge_operators = dict()\n",
    "        self.edge_operators['potential'] = (\n",
    "            lambda k : (\n",
    "                _ZI * k * self.depth * self.operators['potential'](k)\n",
    "                - k * self.omega * self.integral1 * self.operators['displacement'](k)\n",
    "            ),\n",
    "            self.operators['potential'],\n",
    "            )\n",
    "        self.edge_operators['displacement'] = (\n",
    "            lambda k : (\n",
    "                k*self.omega * self.integral1 *self.operators['potential'](k)\n",
    "                    + _ZI *k * self.omega**2 * self.integral2 * self.operators['displacement'](k)\n",
    "            ),\n",
    "            self.operators['displacement'],\n",
    "            )"
   ]
  },
  {
   "cell_type": "code",
   "execution_count": 3,
   "id": "e4a7f267",
   "metadata": {},
   "outputs": [
    {
     "name": "stdout",
     "output_type": "stream",
     "text": [
      "1403.6770703771526 143.56210986085676 -0.3947841760435743\n",
      "151.08500048099123\n",
      "0.002679708452497961 -0.1049554475740918\n"
     ]
    }
   ],
   "source": [
    "eesw = EEShallowWater()"
   ]
  },
  {
   "cell_type": "code",
   "execution_count": 4,
   "id": "395f903a",
   "metadata": {},
   "outputs": [
    {
     "data": {
      "text/plain": [
       "array([0.0517659+0.j        , 0.       +0.32396828j])"
      ]
     },
     "execution_count": 4,
     "metadata": {},
     "output_type": "execute_result"
    }
   ],
   "source": [
    "eesw.k"
   ]
  },
  {
   "cell_type": "code",
   "execution_count": 5,
   "id": "fc75e3f8",
   "metadata": {},
   "outputs": [
    {
     "data": {
      "text/plain": [
       "{'depth': 20,\n",
       " 'rhow': 1025,\n",
       " 'g': 9.81,\n",
       " 'integral1': 133.33333333333334,\n",
       " 'integral2': 1066.6666666666667,\n",
       " 'period': 10,\n",
       " 'infinite': True,\n",
       " 'semi_infinite': False,\n",
       " 'xlim': array([-inf,  inf]),\n",
       " 'k': array([0.0517659+0.j        , 0.       +0.32396828j]),\n",
       " 'operators': {'displacement': <function __main__.EEShallowWater.set_operators.<locals>.<lambda>(k)>,\n",
       "  'd_potential_dt': <function __main__.EEShallowWater.set_operators.<locals>.<lambda>(k)>,\n",
       "  'potential': <function __main__.EEShallowWater.set_operators.<locals>.<lambda>(k)>,\n",
       "  'pressure': <function __main__.EEShallowWater.set_operators.<locals>.<lambda>(k)>,\n",
       "  'potential_pressure': <function __main__.EEShallowWater.set_operators.<locals>.<lambda>(k)>},\n",
       " 'free_edge_operators': [<function __main__.EEShallowWater.set_edge_operators.<locals>.<lambda>(k)>,\n",
       "  <function __main__.EEShallowWater.set_edge_operators.<locals>.<lambda>(k)>],\n",
       " 'continous_edge_operators': [<function __main__.EEShallowWater.set_edge_operators.<locals>.<lambda>(k)>,\n",
       "  <function __main__.EEShallowWater.set_edge_operators.<locals>.<lambda>(k)>,\n",
       "  <function __main__.EEShallowWater.set_edge_operators.<locals>.<lambda>(k)>,\n",
       "  <function __main__.EEShallowWater.set_edge_operators.<locals>.<lambda>(k)>]}"
      ]
     },
     "execution_count": 5,
     "metadata": {},
     "output_type": "execute_result"
    }
   ],
   "source": [
    "vars(eesw)"
   ]
  },
  {
   "cell_type": "code",
   "execution_count": null,
   "id": "cb12fd47",
   "metadata": {},
   "outputs": [],
   "source": [
    "class EEShallowWaterStep(MediumBoundary):\n",
    "    def assemble(self):\n",
    "        names = list(self.media[0].edge_operators)\n",
    "        matrices = []\n",
    "        forcings = []\n",
    "        for name in names:\n",
    "            mats = []\n",
    "            vecs = []\n",
    "            for i, med in enumerate(self.media):\n",
    "                m, f = med.get_matrices_forcings_1pair(\n",
    "                    name, on_left=(i==0), is_continuous=True)\n",
    "                mats += [m]\n",
    "                vecs += [f]\n",
    "            matrices += [np.hstack(mats)]\n",
    "            forcings += [np.hstack(vecs)]\n",
    "        return np.vstack(matrices), np.vstack(forcings)\n",
    "    \n",
    "    def solve(self):\n",
    "        unknowns = np.linalg.solve(*self.assemble())\n",
    "        nk0 = len(self.media[0].k)\n",
    "        nk1 = len(self.media[1].k)\n",
    "        scat_inds_lhs = slice(nk0, 2*nk0) #waves to left on lhs\n",
    "        scat_inds_rhs = slice(2*nk0, 2*nk0+nk1) #waves to right on rhs\n",
    "        self.Tm_ = unknowns[scat_inds_lhs, nk0:] # transmitted from right\n",
    "        self.Rp_ = unknowns[scat_inds_rhs, :nk0] # reflected from left\n",
    "        self.Tp_ = unknowns[scat_inds_rhs, :nk0] # transmitted from left\n",
    "        self.Rm_ = unknowns[scat_inds_rhs, nk0:] # reflected from right"
   ]
  }
 ],
 "metadata": {
  "kernelspec": {
   "display_name": "Python 3",
   "language": "python",
   "name": "python3"
  },
  "language_info": {
   "codemirror_mode": {
    "name": "ipython",
    "version": 3
   },
   "file_extension": ".py",
   "mimetype": "text/x-python",
   "name": "python",
   "nbconvert_exporter": "python",
   "pygments_lexer": "ipython3",
   "version": "3.6.9"
  }
 },
 "nbformat": 4,
 "nbformat_minor": 5
}
